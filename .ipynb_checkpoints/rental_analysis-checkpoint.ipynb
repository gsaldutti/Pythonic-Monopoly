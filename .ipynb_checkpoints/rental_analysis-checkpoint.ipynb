{
 "cells": [
  {
   "cell_type": "markdown",
   "id": "d813bd73",
   "metadata": {},
   "source": [
    "San Francisco Housing Cost Analysis\n",
    "In this assignment, you will perform fundamental analysis for the San Francisco housing market to allow potential real estate investors to choose rental investment properties.\n",
    "\n"
   ]
  },
  {
   "cell_type": "code",
   "execution_count": 58,
   "id": "6b46fb72",
   "metadata": {},
   "outputs": [],
   "source": [
    "# imports\n",
    "import panel as pn\n",
    "pn.extension('plotly')\n",
    "import plotly.express as px\n",
    "import pandas as pd\n",
    "import hvplot.pandas\n",
    "import matplotlib.pyplot as plt\n",
    "import numpy as np\n",
    "import os\n",
    "from pathlib import Path\n",
    "from dotenv import load_dotenv\n",
    "\n",
    "import warnings\n",
    "warnings.filterwarnings('ignore')"
   ]
  },
  {
   "cell_type": "code",
   "execution_count": 59,
   "id": "09dfc845",
   "metadata": {},
   "outputs": [],
   "source": [
    "# Read the Mapbox API key\n",
    "load_dotenv(\"keys.env\")\n",
    "map_box_api = os.getenv(\"MAPBOX_KEY\")"
   ]
  },
  {
   "cell_type": "markdown",
   "id": "3c6e05c1",
   "metadata": {},
   "source": [
    "Load Data"
   ]
  },
  {
   "cell_type": "code",
   "execution_count": 60,
   "id": "23d514e3",
   "metadata": {},
   "outputs": [
    {
     "data": {
      "text/html": [
       "<div>\n",
       "<style scoped>\n",
       "    .dataframe tbody tr th:only-of-type {\n",
       "        vertical-align: middle;\n",
       "    }\n",
       "\n",
       "    .dataframe tbody tr th {\n",
       "        vertical-align: top;\n",
       "    }\n",
       "\n",
       "    .dataframe thead th {\n",
       "        text-align: right;\n",
       "    }\n",
       "</style>\n",
       "<table border=\"1\" class=\"dataframe\">\n",
       "  <thead>\n",
       "    <tr style=\"text-align: right;\">\n",
       "      <th></th>\n",
       "      <th>neighborhood</th>\n",
       "      <th>sale_price_sqr_foot</th>\n",
       "      <th>housing_units</th>\n",
       "      <th>gross_rent</th>\n",
       "    </tr>\n",
       "    <tr>\n",
       "      <th>year</th>\n",
       "      <th></th>\n",
       "      <th></th>\n",
       "      <th></th>\n",
       "      <th></th>\n",
       "    </tr>\n",
       "  </thead>\n",
       "  <tbody>\n",
       "    <tr>\n",
       "      <th>2010</th>\n",
       "      <td>Alamo Square</td>\n",
       "      <td>291.182945</td>\n",
       "      <td>372560</td>\n",
       "      <td>1239</td>\n",
       "    </tr>\n",
       "    <tr>\n",
       "      <th>2010</th>\n",
       "      <td>Anza Vista</td>\n",
       "      <td>267.932583</td>\n",
       "      <td>372560</td>\n",
       "      <td>1239</td>\n",
       "    </tr>\n",
       "    <tr>\n",
       "      <th>2010</th>\n",
       "      <td>Bayview</td>\n",
       "      <td>170.098665</td>\n",
       "      <td>372560</td>\n",
       "      <td>1239</td>\n",
       "    </tr>\n",
       "    <tr>\n",
       "      <th>2010</th>\n",
       "      <td>Buena Vista Park</td>\n",
       "      <td>347.394919</td>\n",
       "      <td>372560</td>\n",
       "      <td>1239</td>\n",
       "    </tr>\n",
       "    <tr>\n",
       "      <th>2010</th>\n",
       "      <td>Central Richmond</td>\n",
       "      <td>319.027623</td>\n",
       "      <td>372560</td>\n",
       "      <td>1239</td>\n",
       "    </tr>\n",
       "  </tbody>\n",
       "</table>\n",
       "</div>"
      ],
      "text/plain": [
       "          neighborhood  sale_price_sqr_foot  housing_units  gross_rent\n",
       "year                                                                  \n",
       "2010      Alamo Square           291.182945         372560        1239\n",
       "2010        Anza Vista           267.932583         372560        1239\n",
       "2010           Bayview           170.098665         372560        1239\n",
       "2010  Buena Vista Park           347.394919         372560        1239\n",
       "2010  Central Richmond           319.027623         372560        1239"
      ]
     },
     "execution_count": 60,
     "metadata": {},
     "output_type": "execute_result"
    }
   ],
   "source": [
    "# Read the census data into a Pandas DataFrame\n",
    "file_path = Path(\"Data/sfo_neighborhoods_census_data.csv\")\n",
    "sfo_data = pd.read_csv(file_path, index_col=\"year\")\n",
    "sfo_data.head()"
   ]
  },
  {
   "cell_type": "markdown",
   "id": "ba316081",
   "metadata": {},
   "source": [
    "Housing Units Per Year\n",
    "In this section, you will calculate the number of housing units per year and visualize the results as a bar chart using the Pandas plot function.\n",
    "\n",
    "Hint: Use the Pandas groupby function.\n",
    "\n",
    "Optional challenge: Use the min, max, and std to scale the y limits of the chart."
   ]
  },
  {
   "cell_type": "code",
   "execution_count": 61,
   "id": "1cce3a02",
   "metadata": {},
   "outputs": [
    {
     "data": {
      "text/plain": [
       "year\n",
       "2010    372560.0\n",
       "2011    374507.0\n",
       "2012    376454.0\n",
       "2013    378401.0\n",
       "2014    380348.0\n",
       "2015    382295.0\n",
       "2016    384242.0\n",
       "Name: housing_units, dtype: float64"
      ]
     },
     "execution_count": 61,
     "metadata": {},
     "output_type": "execute_result"
    }
   ],
   "source": [
    "# Calculate the mean number of housing units per year (hint: use groupby) \n",
    "sfo_housingunits = sfo_data.groupby(\"year\").mean()[\"housing_units\"]\n",
    "sfo_housingunits"
   ]
  },
  {
   "cell_type": "code",
   "execution_count": 62,
   "id": "bb9eacdc",
   "metadata": {},
   "outputs": [],
   "source": [
    "# Save the dataframe as a csv file\n",
    "sfo_housingunits.to_csv(\"Data/sfo_housingunits.csv\", header = True)"
   ]
  },
  {
   "cell_type": "code",
   "execution_count": 63,
   "id": "cac01788",
   "metadata": {},
   "outputs": [
    {
     "data": {
      "image/png": "[encoded data removed]",
      "text/plain": [
       "<Figure size 432x288 with 1 Axes>"
      ]
     },
     "metadata": {
      "needs_background": "light"
     },
     "output_type": "display_data"
    }
   ],
   "source": [
    "# Use the Pandas plot function to plot the average housing units per year.\n",
    "# Note: You will need to manually adjust the y limit of the chart using the min and max values from above.\n",
    "ax = plt.subplot()\n",
    "ax.bar(sfo_housingunits.index, sfo_housingunits)\n",
    "ax.set_xlabel(\"Year\")\n",
    "ax.set_title(\"Housing Units in San Francisco from 2010 to 2016\")\n",
    "ax.set_ylabel(\"Housing Units\")\n",
    "plt.show()"
   ]
  },
  {
   "cell_type": "code",
   "execution_count": 64,
   "id": "d57f1245",
   "metadata": {},
   "outputs": [
    {
     "data": {
      "text/plain": [
       "count         7.000000\n",
       "mean     378401.000000\n",
       "std        4206.000713\n",
       "min      372560.000000\n",
       "25%      375480.500000\n",
       "50%      378401.000000\n",
       "75%      381321.500000\n",
       "max      384242.000000\n",
       "Name: housing_units, dtype: float64"
      ]
     },
     "execution_count": 64,
     "metadata": {},
     "output_type": "execute_result"
    }
   ],
   "source": [
    "sfo_housingunits.describe()"
   ]
  },
  {
   "cell_type": "code",
   "execution_count": 65,
   "id": "29d3195f",
   "metadata": {},
   "outputs": [
    {
     "data": {
      "image/png": "[encoded data removed]",
      "text/plain": [
       "<Figure size 432x288 with 1 Axes>"
      ]
     },
     "metadata": {
      "needs_background": "light"
     },
     "output_type": "display_data"
    }
   ],
   "source": [
    "# Optional Challenge: Use the min, max, and std to scale the y limits of the chart\n",
    "ax = plt.subplot()\n",
    "ax.bar(sfo_housingunits.index, sfo_housingunits)\n",
    "ax.set_xlabel(\"Year\")\n",
    "ax.set_title(\"Housing Units in San Francisco from 2010 to 2016\")\n",
    "ax.set_ylabel(\"Housing Units\")\n",
    "ax.set_ylim(367500, 387500)\n",
    "plt.show()"
   ]
  },
  {
   "cell_type": "markdown",
   "id": "c3e89d36",
   "metadata": {},
   "source": [
    "Average Housing Costs in San Francisco Per Year\n",
    "In this section, you will calculate the average monthly rent and the average price per square foot for each year. An investor may wish to better understand the sales price of the rental property over time. For example, a customer will want to know if they should expect an increase or decrease in the property value over time so they can determine how long to hold the rental property. Plot the results as two line charts.\n",
    "\n",
    "Optional challenge: Plot each line chart in a different color."
   ]
  },
  {
   "cell_type": "code",
   "execution_count": 66,
   "id": "48f0c8e4",
   "metadata": {},
   "outputs": [
    {
     "data": {
      "text/html": [
       "<div>\n",
       "<style scoped>\n",
       "    .dataframe tbody tr th:only-of-type {\n",
       "        vertical-align: middle;\n",
       "    }\n",
       "\n",
       "    .dataframe tbody tr th {\n",
       "        vertical-align: top;\n",
       "    }\n",
       "\n",
       "    .dataframe thead th {\n",
       "        text-align: right;\n",
       "    }\n",
       "</style>\n",
       "<table border=\"1\" class=\"dataframe\">\n",
       "  <thead>\n",
       "    <tr style=\"text-align: right;\">\n",
       "      <th></th>\n",
       "      <th>sale_price_sqr_foot</th>\n",
       "      <th>gross_rent</th>\n",
       "    </tr>\n",
       "    <tr>\n",
       "      <th>year</th>\n",
       "      <th></th>\n",
       "      <th></th>\n",
       "    </tr>\n",
       "  </thead>\n",
       "  <tbody>\n",
       "    <tr>\n",
       "      <th>2010</th>\n",
       "      <td>369.344353</td>\n",
       "      <td>1239.0</td>\n",
       "    </tr>\n",
       "    <tr>\n",
       "      <th>2011</th>\n",
       "      <td>341.903429</td>\n",
       "      <td>1530.0</td>\n",
       "    </tr>\n",
       "    <tr>\n",
       "      <th>2012</th>\n",
       "      <td>399.389968</td>\n",
       "      <td>2324.0</td>\n",
       "    </tr>\n",
       "    <tr>\n",
       "      <th>2013</th>\n",
       "      <td>483.600304</td>\n",
       "      <td>2971.0</td>\n",
       "    </tr>\n",
       "    <tr>\n",
       "      <th>2014</th>\n",
       "      <td>556.277273</td>\n",
       "      <td>3528.0</td>\n",
       "    </tr>\n",
       "    <tr>\n",
       "      <th>2015</th>\n",
       "      <td>632.540352</td>\n",
       "      <td>3739.0</td>\n",
       "    </tr>\n",
       "    <tr>\n",
       "      <th>2016</th>\n",
       "      <td>697.643709</td>\n",
       "      <td>4390.0</td>\n",
       "    </tr>\n",
       "  </tbody>\n",
       "</table>\n",
       "</div>"
      ],
      "text/plain": [
       "      sale_price_sqr_foot  gross_rent\n",
       "year                                 \n",
       "2010           369.344353      1239.0\n",
       "2011           341.903429      1530.0\n",
       "2012           399.389968      2324.0\n",
       "2013           483.600304      2971.0\n",
       "2014           556.277273      3528.0\n",
       "2015           632.540352      3739.0\n",
       "2016           697.643709      4390.0"
      ]
     },
     "execution_count": 66,
     "metadata": {},
     "output_type": "execute_result"
    }
   ],
   "source": [
    "# Calculate the average sale price per square foot and average gross rent\n",
    "sfo_avg = sfo_data.groupby(\"year\").mean()[[\"sale_price_sqr_foot\", \"gross_rent\"]]\n",
    "sfo_avg\n"
   ]
  },
  {
   "cell_type": "code",
   "execution_count": 67,
   "id": "927a2352",
   "metadata": {},
   "outputs": [
    {
     "data": {
      "image/png": "[encoded data removed]",
      "text/plain": [
       "<Figure size 504x720 with 2 Axes>"
      ]
     },
     "metadata": {
      "needs_background": "light"
     },
     "output_type": "display_data"
    }
   ],
   "source": [
    "# Create two line charts, one to plot the average sale price per square foot and another for average monthly rent\n",
    "\n",
    "# Line chart for average sale price per square foot\n",
    "fig, (ax1, ax2) = plt.subplots(2, 1, figsize = (7,10))\n",
    "ax1.plot(sfo_avg.index, sfo_avg[\"sale_price_sqr_foot\"], \"m\")\n",
    "ax1.set_xlabel(\"Year\")\n",
    "ax1.set_title(\"Average Price per SqFt by Year\")\n",
    "ax1.set_ylabel(\"Price per SqFt\")\n",
    "\n",
    "# Line chart for average monthly rent\n",
    "ax2.plot(sfo_avg.index, sfo_avg[\"gross_rent\"], \"r\")\n",
    "ax2.set_xlabel(\"Year\")\n",
    "ax2.set_title(\"Average Gross Rent by Year\")\n",
    "ax2.set_ylabel(\"Gross Rent\")\n",
    "plt.show()"
   ]
  },
  {
   "cell_type": "markdown",
   "id": "616431f5",
   "metadata": {},
   "source": [
    "Average Prices by Neighborhood\n",
    "In this section, you will use hvplot to create two interactive visulizations of average prices with a dropdown selector for the neighborhood. The first visualization will be a line plot showing the trend of average price per square foot over time for each neighborhood. The second will be a line plot showing the trend of average montly rent over time for each neighborhood.\n",
    "\n",
    "Hint: It will be easier to create a new DataFrame from grouping the data and calculating the mean prices for each year and neighborhood"
   ]
  },
  {
   "cell_type": "code",
   "execution_count": 68,
   "id": "dc0ca2b0",
   "metadata": {},
   "outputs": [
    {
     "data": {
      "text/html": [
       "<div>\n",
       "<style scoped>\n",
       "    .dataframe tbody tr th:only-of-type {\n",
       "        vertical-align: middle;\n",
       "    }\n",
       "\n",
       "    .dataframe tbody tr th {\n",
       "        vertical-align: top;\n",
       "    }\n",
       "\n",
       "    .dataframe thead th {\n",
       "        text-align: right;\n",
       "    }\n",
       "</style>\n",
       "<table border=\"1\" class=\"dataframe\">\n",
       "  <thead>\n",
       "    <tr style=\"text-align: right;\">\n",
       "      <th></th>\n",
       "      <th>year</th>\n",
       "      <th>neighborhood</th>\n",
       "      <th>sale_price_sqr_foot</th>\n",
       "      <th>housing_units</th>\n",
       "      <th>gross_rent</th>\n",
       "    </tr>\n",
       "  </thead>\n",
       "  <tbody>\n",
       "    <tr>\n",
       "      <th>0</th>\n",
       "      <td>2010</td>\n",
       "      <td>Alamo Square</td>\n",
       "      <td>291.182945</td>\n",
       "      <td>372560</td>\n",
       "      <td>1239</td>\n",
       "    </tr>\n",
       "    <tr>\n",
       "      <th>1</th>\n",
       "      <td>2010</td>\n",
       "      <td>Anza Vista</td>\n",
       "      <td>267.932583</td>\n",
       "      <td>372560</td>\n",
       "      <td>1239</td>\n",
       "    </tr>\n",
       "    <tr>\n",
       "      <th>2</th>\n",
       "      <td>2010</td>\n",
       "      <td>Bayview</td>\n",
       "      <td>170.098665</td>\n",
       "      <td>372560</td>\n",
       "      <td>1239</td>\n",
       "    </tr>\n",
       "    <tr>\n",
       "      <th>3</th>\n",
       "      <td>2010</td>\n",
       "      <td>Buena Vista Park</td>\n",
       "      <td>347.394919</td>\n",
       "      <td>372560</td>\n",
       "      <td>1239</td>\n",
       "    </tr>\n",
       "    <tr>\n",
       "      <th>4</th>\n",
       "      <td>2010</td>\n",
       "      <td>Central Richmond</td>\n",
       "      <td>319.027623</td>\n",
       "      <td>372560</td>\n",
       "      <td>1239</td>\n",
       "    </tr>\n",
       "    <tr>\n",
       "      <th>5</th>\n",
       "      <td>2010</td>\n",
       "      <td>Central Sunset</td>\n",
       "      <td>418.172493</td>\n",
       "      <td>372560</td>\n",
       "      <td>1239</td>\n",
       "    </tr>\n",
       "    <tr>\n",
       "      <th>6</th>\n",
       "      <td>2010</td>\n",
       "      <td>Corona Heights</td>\n",
       "      <td>369.359338</td>\n",
       "      <td>372560</td>\n",
       "      <td>1239</td>\n",
       "    </tr>\n",
       "    <tr>\n",
       "      <th>7</th>\n",
       "      <td>2010</td>\n",
       "      <td>Cow Hollow</td>\n",
       "      <td>569.379968</td>\n",
       "      <td>372560</td>\n",
       "      <td>1239</td>\n",
       "    </tr>\n",
       "    <tr>\n",
       "      <th>8</th>\n",
       "      <td>2010</td>\n",
       "      <td>Croker Amazon</td>\n",
       "      <td>165.645730</td>\n",
       "      <td>372560</td>\n",
       "      <td>1239</td>\n",
       "    </tr>\n",
       "    <tr>\n",
       "      <th>9</th>\n",
       "      <td>2010</td>\n",
       "      <td>Diamond Heights</td>\n",
       "      <td>456.930822</td>\n",
       "      <td>372560</td>\n",
       "      <td>1239</td>\n",
       "    </tr>\n",
       "  </tbody>\n",
       "</table>\n",
       "</div>"
      ],
      "text/plain": [
       "   year      neighborhood  sale_price_sqr_foot  housing_units  gross_rent\n",
       "0  2010      Alamo Square           291.182945         372560        1239\n",
       "1  2010        Anza Vista           267.932583         372560        1239\n",
       "2  2010           Bayview           170.098665         372560        1239\n",
       "3  2010  Buena Vista Park           347.394919         372560        1239\n",
       "4  2010  Central Richmond           319.027623         372560        1239\n",
       "5  2010    Central Sunset           418.172493         372560        1239\n",
       "6  2010    Corona Heights           369.359338         372560        1239\n",
       "7  2010        Cow Hollow           569.379968         372560        1239\n",
       "8  2010     Croker Amazon           165.645730         372560        1239\n",
       "9  2010   Diamond Heights           456.930822         372560        1239"
      ]
     },
     "execution_count": 68,
     "metadata": {},
     "output_type": "execute_result"
    }
   ],
   "source": [
    "# Group by year and neighborhood and then create a new dataframe of the mean values\n",
    "sfo_reset = sfo_data.reset_index()\n",
    "sfo_reset.head(10)"
   ]
  },
  {
   "cell_type": "code",
   "execution_count": 69,
   "id": "c5e9fec8",
   "metadata": {},
   "outputs": [
    {
     "data": {},
     "metadata": {},
     "output_type": "display_data"
    },
    {
     "data": {
      "application/vnd.holoviews_exec.v0+json": "",
      "text/html": [
       "<div id='2222'>\n",
       "\n",
       "\n",
       "\n",
       "\n",
       "\n",
       "  <div class=\"bk-root\" id=\"362861e9-d94a-4902-a0c9-e99a898cff82\" data-root-id=\"2222\"></div>\n",
       "</div>\n",
       "<script type=\"application/javascript\">(function(root) {\n",
       "  function embed_document(root) {\n",
       "    var docs_json = {\"b292a8fa-1c37-46bb-b6a9-1fceb33363ac\":{\"defs\":[{\"extends\":null,\"module\":null,\"name\":\"ReactiveHTML1\",\"overrides\":[],\"properties\":[]},{\"extends\":null,\"module\":null,\"name\":\"FlexBox1\",\"overrides\":[],\"properties\":[{\"default\":\"flex-start\",\"kind\":null,\"name\":\"align_content\"},{\"default\":\"flex-start\",\"kind\":null,\"name\":\"align_items\"},{\"default\":\"row\",\"kind\":null,\"name\":\"flex_direction\"},{\"default\":\"wrap\",\"kind\":null,\"name\":\"flex_wrap\"},{\"default\":\"flex-start\",\"kind\":null,\"name\":\"justify_content\"}]},{\"extends\":null,\"module\":null,\"name\":\"TemplateActions1\",\"overrides\":[],\"properties\":[{\"default\":0,\"kind\":null,\"name\":\"open_modal\"},{\"default\":0,\"kind\":null,\"name\":\"close_modal\"}]},{\"extends\":null,\"module\":null,\"name\":\"MaterialTemplateActions1\",\"overrides\":[],\"properties\":[{\"default\":0,\"kind\":null,\"name\":\"open_modal\"},{\"default\":0,\"kind\":null,\"name\":\"close_modal\"}]}],\"roots\":{\"references\":[{\"attributes\":{\"margin\":[5,5,5,5],\"name\":\"VSpacer03603\",\"sizing_mode\":\"stretch_height\"},\"id\":\"2303\",\"type\":\"Spacer\"},{\"attributes\":{\"client_comm_id\":\"3c6fc991d789413391aaecad7e30c6a3\",\"comm_id\":\"ad0167d4f24c4c78ab676a1de24d6e58\",\"plot_id\":\"2222\"},\"id\":\"2334\",\"type\":\"panel.models.comm_manager.CommManager\"},{\"attributes\":{\"data\":{\"sale_price_sqr_foot\":{\"__ndarray__\":\"DUc7WO0yckCafszcbwhxQIKRs5ot42ZAKDog0LQ8eEAVMinKGEd+QI4V5FDt0IJAVCHcmLVPdUA=\",\"dtype\":\"float64\",\"order\":\"little\",\"shape\":[7]},\"year\":[2010,2011,2012,2013,2014,2015,2016]},\"selected\":{\"id\":\"2258\"},\"selection_policy\":{\"id\":\"2285\"}},\"id\":\"2257\",\"type\":\"ColumnDataSource\"},{\"attributes\":{\"end\":2016.0,\"reset_end\":2016.0,\"reset_start\":2010.0,\"start\":2010.0,\"tags\":[[[\"year\",\"year\",null]]]},\"id\":\"2224\",\"type\":\"Range1d\"},{\"attributes\":{\"source\":{\"id\":\"2257\"}},\"id\":\"2264\",\"type\":\"CDSView\"},{\"attributes\":{},\"id\":\"2234\",\"type\":\"LinearScale\"},{\"attributes\":{\"line_color\":\"#30a2da\",\"line_width\":2,\"x\":{\"field\":\"year\"},\"y\":{\"field\":\"sale_price_sqr_foot\"}},\"id\":\"2260\",\"type\":\"Line\"},{\"attributes\":{\"below\":[{\"id\":\"2236\"}],\"center\":[{\"id\":\"2239\"},{\"id\":\"2243\"}],\"height\":300,\"left\":[{\"id\":\"2240\"}],\"margin\":[5,5,5,5],\"min_border_bottom\":10,\"min_border_left\":10,\"min_border_right\":10,\"min_border_top\":10,\"renderers\":[{\"id\":\"2263\"}],\"sizing_mode\":\"fixed\",\"title\":{\"id\":\"2228\"},\"toolbar\":{\"id\":\"2250\"},\"width\":700,\"x_range\":{\"id\":\"2224\"},\"x_scale\":{\"id\":\"2232\"},\"y_range\":{\"id\":\"2225\"},\"y_scale\":{\"id\":\"2234\"}},\"id\":\"2227\",\"subtype\":\"Figure\",\"type\":\"Plot\"},{\"attributes\":{\"callback\":null,\"renderers\":[{\"id\":\"2263\"}],\"tags\":[\"hv_created\"],\"tooltips\":[[\"year\",\"@{year}\"],[\"sale_price_sqr_foot\",\"@{sale_price_sqr_foot}\"]]},\"id\":\"2226\",\"type\":\"HoverTool\"},{\"attributes\":{\"end\":644.0175329447046,\"reset_end\":644.0175329447046,\"reset_start\":141.1976609302527,\"start\":141.1976609302527,\"tags\":[[[\"sale_price_sqr_foot\",\"sale_price_sqr_foot\",null]]]},\"id\":\"2225\",\"type\":\"Range1d\"},{\"attributes\":{\"bottom_units\":\"screen\",\"coordinates\":null,\"fill_alpha\":0.5,\"fill_color\":\"lightgrey\",\"group\":null,\"left_units\":\"screen\",\"level\":\"overlay\",\"line_alpha\":1.0,\"line_color\":\"black\",\"line_dash\":[4,4],\"line_width\":2,\"right_units\":\"screen\",\"syncable\":false,\"top_units\":\"screen\"},\"id\":\"2249\",\"type\":\"BoxAnnotation\"},{\"attributes\":{\"coordinates\":null,\"group\":null,\"text\":\"neighborhood: Alamo Square\",\"text_color\":\"black\",\"text_font_size\":\"12pt\"},\"id\":\"2228\",\"type\":\"Title\"},{\"attributes\":{\"children\":[{\"id\":\"2223\"},{\"id\":\"2227\"},{\"id\":\"2298\"},{\"id\":\"2299\"}],\"margin\":[0,0,0,0],\"name\":\"Row03596\"},\"id\":\"2222\",\"type\":\"Row\"},{\"attributes\":{\"axis\":{\"id\":\"2236\"},\"coordinates\":null,\"grid_line_color\":null,\"group\":null,\"ticker\":null},\"id\":\"2239\",\"type\":\"Grid\"},{\"attributes\":{\"line_alpha\":0.2,\"line_color\":\"#30a2da\",\"line_width\":2,\"x\":{\"field\":\"year\"},\"y\":{\"field\":\"sale_price_sqr_foot\"}},\"id\":\"2262\",\"type\":\"Line\"},{\"attributes\":{},\"id\":\"2237\",\"type\":\"BasicTicker\"},{\"attributes\":{\"axis_label\":\"Year\",\"coordinates\":null,\"formatter\":{\"id\":\"2267\"},\"group\":null,\"major_label_policy\":{\"id\":\"2268\"},\"ticker\":{\"id\":\"2237\"}},\"id\":\"2236\",\"type\":\"LinearAxis\"},{\"attributes\":{\"margin\":[5,5,5,5],\"name\":\"HSpacer03605\",\"sizing_mode\":\"stretch_width\"},\"id\":\"2223\",\"type\":\"Spacer\"},{\"attributes\":{\"axis\":{\"id\":\"2240\"},\"coordinates\":null,\"dimension\":1,\"grid_line_color\":null,\"group\":null,\"ticker\":null},\"id\":\"2243\",\"type\":\"Grid\"},{\"attributes\":{\"tools\":[{\"id\":\"2226\"},{\"id\":\"2244\"},{\"id\":\"2245\"},{\"id\":\"2246\"},{\"id\":\"2247\"},{\"id\":\"2248\"}]},\"id\":\"2250\",\"type\":\"Toolbar\"},{\"attributes\":{},\"id\":\"2245\",\"type\":\"PanTool\"},{\"attributes\":{},\"id\":\"2271\",\"type\":\"AllLabels\"},{\"attributes\":{\"margin\":[5,5,5,5],\"name\":\"VSpacer03602\",\"sizing_mode\":\"stretch_height\"},\"id\":\"2300\",\"type\":\"Spacer\"},{\"attributes\":{\"axis_label\":\"Avg. Sale Price per Square Foot\",\"coordinates\":null,\"formatter\":{\"id\":\"2270\"},\"group\":null,\"major_label_policy\":{\"id\":\"2271\"},\"ticker\":{\"id\":\"2241\"}},\"id\":\"2240\",\"type\":\"LinearAxis\"},{\"attributes\":{\"margin\":[20,20,20,20],\"min_width\":250,\"options\":[\"Alamo Square\",\"Anza Vista\",\"Bayview\",\"Buena Vista Park\",\"Central Richmond\",\"Central Sunset\",\"Corona Heights\",\"Cow Hollow\",\"Croker Amazon\",\"Diamond Heights\",\"Downtown \",\"Eureka Valley/Dolores Heights\",\"Excelsior\",\"Financial District North\",\"Financial District South\",\"Forest Knolls\",\"Glen Park\",\"Golden Gate Heights\",\"Haight Ashbury\",\"Hayes Valley\",\"Hunters Point\",\"Ingleside \",\"Inner Mission\",\"Inner Parkside\",\"Inner Richmond\",\"Inner Sunset\",\"Jordan Park/Laurel Heights\",\"Lake --The Presidio\",\"Lone Mountain\",\"Lower Pacific Heights\",\"Marina\",\"Miraloma Park\",\"Mission Bay\",\"Mission Dolores\",\"Mission Terrace\",\"Nob Hill\",\"Noe Valley\",\"Oceanview\",\"Outer Parkside\",\"Outer Richmond \",\"Outer Sunset\",\"Pacific Heights\",\"Park North\",\"Parkside\",\"Parnassus/Ashbury Heights\",\"Portola\",\"Potrero Hill\",\"Presidio Heights\",\"Russian Hill\",\"South Beach\",\"South of Market\",\"Sunnyside\",\"Telegraph Hill\",\"Twin Peaks\",\"Union Square District\",\"Van Ness/ Civic Center\",\"West Portal\",\"Western Addition\",\"Yerba Buena\",\"Bernal Heights \",\"Clarendon Heights\",\"Duboce Triangle\",\"Ingleside Heights\",\"North Beach\",\"North Waterfront\",\"Outer Mission\",\"Westwood Highlands\",\"Merced Heights\",\"Midtown Terrace\",\"Visitacion Valley\",\"Silver Terrace\",\"Westwood Park\",\"Bayview Heights\"],\"title\":\"neighborhood\",\"value\":\"Alamo Square\",\"width\":250},\"id\":\"2302\",\"type\":\"Select\"},{\"attributes\":{},\"id\":\"2258\",\"type\":\"Selection\"},{\"attributes\":{},\"id\":\"2241\",\"type\":\"BasicTicker\"},{\"attributes\":{},\"id\":\"2246\",\"type\":\"WheelZoomTool\"},{\"attributes\":{\"line_alpha\":0.1,\"line_color\":\"#30a2da\",\"line_width\":2,\"x\":{\"field\":\"year\"},\"y\":{\"field\":\"sale_price_sqr_foot\"}},\"id\":\"2261\",\"type\":\"Line\"},{\"attributes\":{\"children\":[{\"id\":\"2302\"}],\"css_classes\":[\"panel-widget-box\"],\"margin\":[5,5,5,5],\"name\":\"WidgetBox03597\"},\"id\":\"2301\",\"type\":\"Column\"},{\"attributes\":{},\"id\":\"2244\",\"type\":\"SaveTool\"},{\"attributes\":{\"line_color\":\"#30a2da\",\"line_width\":2,\"x\":{\"field\":\"year\"},\"y\":{\"field\":\"sale_price_sqr_foot\"}},\"id\":\"2265\",\"type\":\"Line\"},{\"attributes\":{\"overlay\":{\"id\":\"2249\"}},\"id\":\"2247\",\"type\":\"BoxZoomTool\"},{\"attributes\":{},\"id\":\"2268\",\"type\":\"AllLabels\"},{\"attributes\":{},\"id\":\"2248\",\"type\":\"ResetTool\"},{\"attributes\":{},\"id\":\"2267\",\"type\":\"BasicTickFormatter\"},{\"attributes\":{},\"id\":\"2232\",\"type\":\"LinearScale\"},{\"attributes\":{\"margin\":[5,5,5,5],\"name\":\"HSpacer03606\",\"sizing_mode\":\"stretch_width\"},\"id\":\"2298\",\"type\":\"Spacer\"},{\"attributes\":{\"children\":[{\"id\":\"2300\"},{\"id\":\"2301\"},{\"id\":\"2303\"}],\"margin\":[0,0,0,0],\"name\":\"Column03604\"},\"id\":\"2299\",\"type\":\"Column\"},{\"attributes\":{\"coordinates\":null,\"data_source\":{\"id\":\"2257\"},\"glyph\":{\"id\":\"2260\"},\"group\":null,\"hover_glyph\":null,\"muted_glyph\":{\"id\":\"2262\"},\"nonselection_glyph\":{\"id\":\"2261\"},\"selection_glyph\":{\"id\":\"2265\"},\"view\":{\"id\":\"2264\"}},\"id\":\"2263\",\"type\":\"GlyphRenderer\"},{\"attributes\":{},\"id\":\"2285\",\"type\":\"UnionRenderers\"},{\"attributes\":{},\"id\":\"2270\",\"type\":\"BasicTickFormatter\"}],\"root_ids\":[\"2222\",\"2334\"]},\"title\":\"Bokeh Application\",\"version\":\"2.4.2\"}};\n",
       "    var render_items = [{\"docid\":\"b292a8fa-1c37-46bb-b6a9-1fceb33363ac\",\"root_ids\":[\"2222\"],\"roots\":{\"2222\":\"362861e9-d94a-4902-a0c9-e99a898cff82\"}}];\n",
       "    root.Bokeh.embed.embed_items_notebook(docs_json, render_items);\n",
       "  }\n",
       "  if (root.Bokeh !== undefined && root.Bokeh.Panel !== undefined && ( root['Plotly'] !== undefined)) {\n",
       "    embed_document(root);\n",
       "  } else {\n",
       "    var attempts = 0;\n",
       "    var timer = setInterval(function(root) {\n",
       "      if (root.Bokeh !== undefined && root.Bokeh.Panel !== undefined && (root['Plotly'] !== undefined)) {\n",
       "        clearInterval(timer);\n",
       "        embed_document(root);\n",
       "      } else if (document.readyState == \"complete\") {\n",
       "        attempts++;\n",
       "        if (attempts > 200) {\n",
       "          clearInterval(timer);\n",
       "          console.log(\"Bokeh: ERROR: Unable to run BokehJS code because BokehJS library is missing\");\n",
       "        }\n",
       "      }\n",
       "    }, 25, root)\n",
       "  }\n",
       "})(window);</script>"
      ],
      "text/plain": [
       ":DynamicMap   [neighborhood]\n",
       "   :Curve   [year]   (sale_price_sqr_foot)"
      ]
     },
     "execution_count": 69,
     "metadata": {
      "application/vnd.holoviews_exec.v0+json": {
       "id": "2222"
      }
     },
     "output_type": "execute_result"
    }
   ],
   "source": [
    "# Use hvplot to create an interactive line chart of the average price per sq ft.\n",
    "# The plot should have a dropdown selector for the neighborhood\n",
    "sfo_reset.hvplot.line(\n",
    "    x=\"year\",\n",
    "    y=\"sale_price_sqr_foot\",\n",
    "    groupby = \"neighborhood\",\n",
    "    xlabel = \"Year\",\n",
    "    ylabel = \"Avg. Sale Price per Square Foot\"\n",
    ")\n"
   ]
  },
  {
   "cell_type": "code",
   "execution_count": 70,
   "id": "102db198",
   "metadata": {},
   "outputs": [
    {
     "data": {},
     "metadata": {},
     "output_type": "display_data"
    },
    {
     "data": {
      "application/vnd.holoviews_exec.v0+json": "",
      "text/html": [
       "<div id='2385'>\n",
       "\n",
       "\n",
       "\n",
       "\n",
       "\n",
       "  <div class=\"bk-root\" id=\"47b2995f-ee88-454b-b3fb-78f06ca53f97\" data-root-id=\"2385\"></div>\n",
       "</div>\n",
       "<script type=\"application/javascript\">(function(root) {\n",
       "  function embed_document(root) {\n",
       "    var docs_json = {\"1d2b5315-a5a1-4fb8-abbe-0d4bb5f0787c\":{\"defs\":[{\"extends\":null,\"module\":null,\"name\":\"ReactiveHTML1\",\"overrides\":[],\"properties\":[]},{\"extends\":null,\"module\":null,\"name\":\"FlexBox1\",\"overrides\":[],\"properties\":[{\"default\":\"flex-start\",\"kind\":null,\"name\":\"align_content\"},{\"default\":\"flex-start\",\"kind\":null,\"name\":\"align_items\"},{\"default\":\"row\",\"kind\":null,\"name\":\"flex_direction\"},{\"default\":\"wrap\",\"kind\":null,\"name\":\"flex_wrap\"},{\"default\":\"flex-start\",\"kind\":null,\"name\":\"justify_content\"}]},{\"extends\":null,\"module\":null,\"name\":\"TemplateActions1\",\"overrides\":[],\"properties\":[{\"default\":0,\"kind\":null,\"name\":\"open_modal\"},{\"default\":0,\"kind\":null,\"name\":\"close_modal\"}]},{\"extends\":null,\"module\":null,\"name\":\"MaterialTemplateActions1\",\"overrides\":[],\"properties\":[{\"default\":0,\"kind\":null,\"name\":\"open_modal\"},{\"default\":0,\"kind\":null,\"name\":\"close_modal\"}]}],\"roots\":{\"references\":[{\"attributes\":{},\"id\":\"2409\",\"type\":\"WheelZoomTool\"},{\"attributes\":{\"overlay\":{\"id\":\"2412\"}},\"id\":\"2410\",\"type\":\"BoxZoomTool\"},{\"attributes\":{\"margin\":[5,5,5,5],\"name\":\"VSpacer03859\",\"sizing_mode\":\"stretch_height\"},\"id\":\"2463\",\"type\":\"Spacer\"},{\"attributes\":{},\"id\":\"2411\",\"type\":\"ResetTool\"},{\"attributes\":{\"bottom_units\":\"screen\",\"coordinates\":null,\"fill_alpha\":0.5,\"fill_color\":\"lightgrey\",\"group\":null,\"left_units\":\"screen\",\"level\":\"overlay\",\"line_alpha\":1.0,\"line_color\":\"black\",\"line_dash\":[4,4],\"line_width\":2,\"right_units\":\"screen\",\"syncable\":false,\"top_units\":\"screen\"},\"id\":\"2412\",\"type\":\"BoxAnnotation\"},{\"attributes\":{},\"id\":\"2395\",\"type\":\"LinearScale\"},{\"attributes\":{},\"id\":\"2430\",\"type\":\"BasicTickFormatter\"},{\"attributes\":{},\"id\":\"2431\",\"type\":\"AllLabels\"},{\"attributes\":{\"line_color\":\"#30a2da\",\"line_width\":2,\"x\":{\"field\":\"year\"},\"y\":{\"field\":\"gross_rent\"}},\"id\":\"2423\",\"type\":\"Line\"},{\"attributes\":{\"margin\":[5,5,5,5],\"name\":\"HSpacer03862\",\"sizing_mode\":\"stretch_width\"},\"id\":\"2386\",\"type\":\"Spacer\"},{\"attributes\":{\"line_alpha\":0.1,\"line_color\":\"#30a2da\",\"line_width\":2,\"x\":{\"field\":\"year\"},\"y\":{\"field\":\"gross_rent\"}},\"id\":\"2424\",\"type\":\"Line\"},{\"attributes\":{},\"id\":\"2448\",\"type\":\"UnionRenderers\"},{\"attributes\":{\"margin\":[5,5,5,5],\"name\":\"HSpacer03863\",\"sizing_mode\":\"stretch_width\"},\"id\":\"2461\",\"type\":\"Spacer\"},{\"attributes\":{\"children\":[{\"id\":\"2386\"},{\"id\":\"2390\"},{\"id\":\"2461\"},{\"id\":\"2462\"}],\"margin\":[0,0,0,0],\"name\":\"Row03853\"},\"id\":\"2385\",\"type\":\"Row\"},{\"attributes\":{\"end\":2016.0,\"reset_end\":2016.0,\"reset_start\":2010.0,\"start\":2010.0,\"tags\":[[[\"year\",\"year\",null]]]},\"id\":\"2387\",\"type\":\"Range1d\"},{\"attributes\":{\"children\":[{\"id\":\"2463\"},{\"id\":\"2464\"},{\"id\":\"2466\"}],\"margin\":[0,0,0,0],\"name\":\"Column03861\"},\"id\":\"2462\",\"type\":\"Column\"},{\"attributes\":{\"tools\":[{\"id\":\"2389\"},{\"id\":\"2407\"},{\"id\":\"2408\"},{\"id\":\"2409\"},{\"id\":\"2410\"},{\"id\":\"2411\"}]},\"id\":\"2413\",\"type\":\"Toolbar\"},{\"attributes\":{},\"id\":\"2397\",\"type\":\"LinearScale\"},{\"attributes\":{\"below\":[{\"id\":\"2399\"}],\"center\":[{\"id\":\"2402\"},{\"id\":\"2406\"}],\"height\":300,\"left\":[{\"id\":\"2403\"}],\"margin\":[5,5,5,5],\"min_border_bottom\":10,\"min_border_left\":10,\"min_border_right\":10,\"min_border_top\":10,\"renderers\":[{\"id\":\"2426\"}],\"sizing_mode\":\"fixed\",\"title\":{\"id\":\"2391\"},\"toolbar\":{\"id\":\"2413\"},\"width\":700,\"x_range\":{\"id\":\"2387\"},\"x_scale\":{\"id\":\"2395\"},\"y_range\":{\"id\":\"2388\"},\"y_scale\":{\"id\":\"2397\"}},\"id\":\"2390\",\"subtype\":\"Figure\",\"type\":\"Plot\"},{\"attributes\":{\"client_comm_id\":\"915b23f165ab4c38b634c4b7f1b386e6\",\"comm_id\":\"d1a87880691b4be49d703e2eb28c5450\",\"plot_id\":\"2385\"},\"id\":\"2497\",\"type\":\"panel.models.comm_manager.CommManager\"},{\"attributes\":{\"data\":{\"gross_rent\":[1239,1530,2324,2971,3528,3739,4390],\"year\":[2010,2011,2012,2013,2014,2015,2016]},\"selected\":{\"id\":\"2421\"},\"selection_policy\":{\"id\":\"2448\"}},\"id\":\"2420\",\"type\":\"ColumnDataSource\"},{\"attributes\":{\"callback\":null,\"renderers\":[{\"id\":\"2426\"}],\"tags\":[\"hv_created\"],\"tooltips\":[[\"year\",\"@{year}\"],[\"gross_rent\",\"@{gross_rent}\"]]},\"id\":\"2389\",\"type\":\"HoverTool\"},{\"attributes\":{},\"id\":\"2421\",\"type\":\"Selection\"},{\"attributes\":{\"end\":4705.1,\"reset_end\":4705.1,\"reset_start\":923.9,\"start\":923.9,\"tags\":[[[\"gross_rent\",\"gross_rent\",null]]]},\"id\":\"2388\",\"type\":\"Range1d\"},{\"attributes\":{\"coordinates\":null,\"group\":null,\"text\":\"neighborhood: Alamo Square\",\"text_color\":\"black\",\"text_font_size\":\"12pt\"},\"id\":\"2391\",\"type\":\"Title\"},{\"attributes\":{\"children\":[{\"id\":\"2465\"}],\"css_classes\":[\"panel-widget-box\"],\"margin\":[5,5,5,5],\"name\":\"WidgetBox03854\"},\"id\":\"2464\",\"type\":\"Column\"},{\"attributes\":{\"line_alpha\":0.2,\"line_color\":\"#30a2da\",\"line_width\":2,\"x\":{\"field\":\"year\"},\"y\":{\"field\":\"gross_rent\"}},\"id\":\"2425\",\"type\":\"Line\"},{\"attributes\":{\"axis\":{\"id\":\"2399\"},\"coordinates\":null,\"grid_line_color\":null,\"group\":null,\"ticker\":null},\"id\":\"2402\",\"type\":\"Grid\"},{\"attributes\":{},\"id\":\"2434\",\"type\":\"AllLabels\"},{\"attributes\":{\"line_color\":\"#30a2da\",\"line_width\":2,\"x\":{\"field\":\"year\"},\"y\":{\"field\":\"gross_rent\"}},\"id\":\"2428\",\"type\":\"Line\"},{\"attributes\":{},\"id\":\"2400\",\"type\":\"BasicTicker\"},{\"attributes\":{\"coordinates\":null,\"data_source\":{\"id\":\"2420\"},\"glyph\":{\"id\":\"2423\"},\"group\":null,\"hover_glyph\":null,\"muted_glyph\":{\"id\":\"2425\"},\"nonselection_glyph\":{\"id\":\"2424\"},\"selection_glyph\":{\"id\":\"2428\"},\"view\":{\"id\":\"2427\"}},\"id\":\"2426\",\"type\":\"GlyphRenderer\"},{\"attributes\":{\"axis_label\":\"Year\",\"coordinates\":null,\"formatter\":{\"id\":\"2430\"},\"group\":null,\"major_label_policy\":{\"id\":\"2431\"},\"ticker\":{\"id\":\"2400\"}},\"id\":\"2399\",\"type\":\"LinearAxis\"},{\"attributes\":{\"axis\":{\"id\":\"2403\"},\"coordinates\":null,\"dimension\":1,\"grid_line_color\":null,\"group\":null,\"ticker\":null},\"id\":\"2406\",\"type\":\"Grid\"},{\"attributes\":{\"margin\":[5,5,5,5],\"name\":\"VSpacer03860\",\"sizing_mode\":\"stretch_height\"},\"id\":\"2466\",\"type\":\"Spacer\"},{\"attributes\":{},\"id\":\"2408\",\"type\":\"PanTool\"},{\"attributes\":{\"source\":{\"id\":\"2420\"}},\"id\":\"2427\",\"type\":\"CDSView\"},{\"attributes\":{},\"id\":\"2407\",\"type\":\"SaveTool\"},{\"attributes\":{\"axis_label\":\"Avg. Gross Rent Per Year\",\"coordinates\":null,\"formatter\":{\"id\":\"2433\"},\"group\":null,\"major_label_policy\":{\"id\":\"2434\"},\"ticker\":{\"id\":\"2404\"}},\"id\":\"2403\",\"type\":\"LinearAxis\"},{\"attributes\":{\"margin\":[20,20,20,20],\"min_width\":250,\"options\":[\"Alamo Square\",\"Anza Vista\",\"Bayview\",\"Buena Vista Park\",\"Central Richmond\",\"Central Sunset\",\"Corona Heights\",\"Cow Hollow\",\"Croker Amazon\",\"Diamond Heights\",\"Downtown \",\"Eureka Valley/Dolores Heights\",\"Excelsior\",\"Financial District North\",\"Financial District South\",\"Forest Knolls\",\"Glen Park\",\"Golden Gate Heights\",\"Haight Ashbury\",\"Hayes Valley\",\"Hunters Point\",\"Ingleside \",\"Inner Mission\",\"Inner Parkside\",\"Inner Richmond\",\"Inner Sunset\",\"Jordan Park/Laurel Heights\",\"Lake --The Presidio\",\"Lone Mountain\",\"Lower Pacific Heights\",\"Marina\",\"Miraloma Park\",\"Mission Bay\",\"Mission Dolores\",\"Mission Terrace\",\"Nob Hill\",\"Noe Valley\",\"Oceanview\",\"Outer Parkside\",\"Outer Richmond \",\"Outer Sunset\",\"Pacific Heights\",\"Park North\",\"Parkside\",\"Parnassus/Ashbury Heights\",\"Portola\",\"Potrero Hill\",\"Presidio Heights\",\"Russian Hill\",\"South Beach\",\"South of Market\",\"Sunnyside\",\"Telegraph Hill\",\"Twin Peaks\",\"Union Square District\",\"Van Ness/ Civic Center\",\"West Portal\",\"Western Addition\",\"Yerba Buena\",\"Bernal Heights \",\"Clarendon Heights\",\"Duboce Triangle\",\"Ingleside Heights\",\"North Beach\",\"North Waterfront\",\"Outer Mission\",\"Westwood Highlands\",\"Merced Heights\",\"Midtown Terrace\",\"Visitacion Valley\",\"Silver Terrace\",\"Westwood Park\",\"Bayview Heights\"],\"title\":\"neighborhood\",\"value\":\"Alamo Square\",\"width\":250},\"id\":\"2465\",\"type\":\"Select\"},{\"attributes\":{},\"id\":\"2404\",\"type\":\"BasicTicker\"},{\"attributes\":{},\"id\":\"2433\",\"type\":\"BasicTickFormatter\"}],\"root_ids\":[\"2385\",\"2497\"]},\"title\":\"Bokeh Application\",\"version\":\"2.4.2\"}};\n",
       "    var render_items = [{\"docid\":\"1d2b5315-a5a1-4fb8-abbe-0d4bb5f0787c\",\"root_ids\":[\"2385\"],\"roots\":{\"2385\":\"47b2995f-ee88-454b-b3fb-78f06ca53f97\"}}];\n",
       "    root.Bokeh.embed.embed_items_notebook(docs_json, render_items);\n",
       "  }\n",
       "  if (root.Bokeh !== undefined && root.Bokeh.Panel !== undefined && ( root['Plotly'] !== undefined)) {\n",
       "    embed_document(root);\n",
       "  } else {\n",
       "    var attempts = 0;\n",
       "    var timer = setInterval(function(root) {\n",
       "      if (root.Bokeh !== undefined && root.Bokeh.Panel !== undefined && (root['Plotly'] !== undefined)) {\n",
       "        clearInterval(timer);\n",
       "        embed_document(root);\n",
       "      } else if (document.readyState == \"complete\") {\n",
       "        attempts++;\n",
       "        if (attempts > 200) {\n",
       "          clearInterval(timer);\n",
       "          console.log(\"Bokeh: ERROR: Unable to run BokehJS code because BokehJS library is missing\");\n",
       "        }\n",
       "      }\n",
       "    }, 25, root)\n",
       "  }\n",
       "})(window);</script>"
      ],
      "text/plain": [
       ":DynamicMap   [neighborhood]\n",
       "   :Curve   [year]   (gross_rent)"
      ]
     },
     "execution_count": 70,
     "metadata": {
      "application/vnd.holoviews_exec.v0+json": {
       "id": "2385"
      }
     },
     "output_type": "execute_result"
    }
   ],
   "source": [
    "# Use hvplot to create an interactive line chart of the average monthly rent.\n",
    "# The plot should have a dropdown selector for the neighborhood\n",
    "sfo_reset.hvplot.line(\n",
    "    x=\"year\",\n",
    "    y=\"gross_rent\",\n",
    "    groupby = \"neighborhood\",\n",
    "    xlabel = \"Year\",\n",
    "    ylabel = \"Avg. Gross Rent Per Year\"\n",
    ")"
   ]
  },
  {
   "cell_type": "markdown",
   "id": "2b28d798",
   "metadata": {},
   "source": [
    "The Top 10 Most Expensive Neighborhoods\n",
    "In this section, you will need to calculate the mean sale price per square foot for each neighborhood and then sort the values to obtain the top 10 most expensive neighborhoods on average. Plot the results as a bar chart."
   ]
  },
  {
   "cell_type": "code",
   "execution_count": 71,
   "id": "2c59b52e",
   "metadata": {},
   "outputs": [
    {
     "data": {
      "text/html": [
       "<div>\n",
       "<style scoped>\n",
       "    .dataframe tbody tr th:only-of-type {\n",
       "        vertical-align: middle;\n",
       "    }\n",
       "\n",
       "    .dataframe tbody tr th {\n",
       "        vertical-align: top;\n",
       "    }\n",
       "\n",
       "    .dataframe thead th {\n",
       "        text-align: right;\n",
       "    }\n",
       "</style>\n",
       "<table border=\"1\" class=\"dataframe\">\n",
       "  <thead>\n",
       "    <tr style=\"text-align: right;\">\n",
       "      <th></th>\n",
       "      <th>neighborhood</th>\n",
       "      <th>sale_price_sqr_foot</th>\n",
       "      <th>housing_units</th>\n",
       "      <th>gross_rent</th>\n",
       "    </tr>\n",
       "  </thead>\n",
       "  <tbody>\n",
       "    <tr>\n",
       "      <th>0</th>\n",
       "      <td>Union Square District</td>\n",
       "      <td>903.993258</td>\n",
       "      <td>377427.50</td>\n",
       "      <td>2555.166667</td>\n",
       "    </tr>\n",
       "    <tr>\n",
       "      <th>1</th>\n",
       "      <td>Merced Heights</td>\n",
       "      <td>788.844818</td>\n",
       "      <td>380348.00</td>\n",
       "      <td>3414.000000</td>\n",
       "    </tr>\n",
       "    <tr>\n",
       "      <th>2</th>\n",
       "      <td>Miraloma Park</td>\n",
       "      <td>779.810842</td>\n",
       "      <td>375967.25</td>\n",
       "      <td>2155.250000</td>\n",
       "    </tr>\n",
       "    <tr>\n",
       "      <th>3</th>\n",
       "      <td>Pacific Heights</td>\n",
       "      <td>689.555817</td>\n",
       "      <td>378401.00</td>\n",
       "      <td>2817.285714</td>\n",
       "    </tr>\n",
       "    <tr>\n",
       "      <th>4</th>\n",
       "      <td>Westwood Park</td>\n",
       "      <td>687.087575</td>\n",
       "      <td>382295.00</td>\n",
       "      <td>3959.000000</td>\n",
       "    </tr>\n",
       "    <tr>\n",
       "      <th>5</th>\n",
       "      <td>Telegraph Hill</td>\n",
       "      <td>676.506578</td>\n",
       "      <td>378401.00</td>\n",
       "      <td>2817.285714</td>\n",
       "    </tr>\n",
       "    <tr>\n",
       "      <th>6</th>\n",
       "      <td>Presidio Heights</td>\n",
       "      <td>675.350212</td>\n",
       "      <td>378401.00</td>\n",
       "      <td>2817.285714</td>\n",
       "    </tr>\n",
       "    <tr>\n",
       "      <th>7</th>\n",
       "      <td>Cow Hollow</td>\n",
       "      <td>665.964042</td>\n",
       "      <td>378401.00</td>\n",
       "      <td>2817.285714</td>\n",
       "    </tr>\n",
       "    <tr>\n",
       "      <th>8</th>\n",
       "      <td>Potrero Hill</td>\n",
       "      <td>662.013613</td>\n",
       "      <td>378401.00</td>\n",
       "      <td>2817.285714</td>\n",
       "    </tr>\n",
       "    <tr>\n",
       "      <th>9</th>\n",
       "      <td>South Beach</td>\n",
       "      <td>650.124479</td>\n",
       "      <td>375805.00</td>\n",
       "      <td>2099.000000</td>\n",
       "    </tr>\n",
       "  </tbody>\n",
       "</table>\n",
       "</div>"
      ],
      "text/plain": [
       "            neighborhood  sale_price_sqr_foot  housing_units   gross_rent\n",
       "0  Union Square District           903.993258      377427.50  2555.166667\n",
       "1         Merced Heights           788.844818      380348.00  3414.000000\n",
       "2          Miraloma Park           779.810842      375967.25  2155.250000\n",
       "3        Pacific Heights           689.555817      378401.00  2817.285714\n",
       "4          Westwood Park           687.087575      382295.00  3959.000000\n",
       "5         Telegraph Hill           676.506578      378401.00  2817.285714\n",
       "6       Presidio Heights           675.350212      378401.00  2817.285714\n",
       "7             Cow Hollow           665.964042      378401.00  2817.285714\n",
       "8           Potrero Hill           662.013613      378401.00  2817.285714\n",
       "9            South Beach           650.124479      375805.00  2099.000000"
      ]
     },
     "execution_count": 71,
     "metadata": {},
     "output_type": "execute_result"
    }
   ],
   "source": [
    "# Getting the data from the top 10 expensive neighborhoods to own\n",
    "sfo_most_expensive = sfo_data.groupby(\"neighborhood\") \\\n",
    "                            .mean()[[\"sale_price_sqr_foot\",\"housing_units\", \"gross_rent\"]] \\\n",
    "                            .sort_values(\"sale_price_sqr_foot\", ascending = False) \\\n",
    "                            .reset_index().head(10) \n",
    "sfo_most_expensive"
   ]
  },
  {
   "cell_type": "code",
   "execution_count": 72,
   "id": "3257f635",
   "metadata": {},
   "outputs": [
    {
     "data": {},
     "metadata": {},
     "output_type": "display_data"
    },
    {
     "data": {
      "application/vnd.holoviews_exec.v0+json": "",
      "text/html": [
       "<div id='2548'>\n",
       "\n",
       "\n",
       "\n",
       "\n",
       "\n",
       "  <div class=\"bk-root\" id=\"c0803bc5-cc60-4bb2-af33-d69933784c27\" data-root-id=\"2548\"></div>\n",
       "</div>\n",
       "<script type=\"application/javascript\">(function(root) {\n",
       "  function embed_document(root) {\n",
       "    var docs_json = {\"146de192-41f9-40ae-be8b-cdbc1ad12637\":{\"defs\":[{\"extends\":null,\"module\":null,\"name\":\"ReactiveHTML1\",\"overrides\":[],\"properties\":[]},{\"extends\":null,\"module\":null,\"name\":\"FlexBox1\",\"overrides\":[],\"properties\":[{\"default\":\"flex-start\",\"kind\":null,\"name\":\"align_content\"},{\"default\":\"flex-start\",\"kind\":null,\"name\":\"align_items\"},{\"default\":\"row\",\"kind\":null,\"name\":\"flex_direction\"},{\"default\":\"wrap\",\"kind\":null,\"name\":\"flex_wrap\"},{\"default\":\"flex-start\",\"kind\":null,\"name\":\"justify_content\"}]},{\"extends\":null,\"module\":null,\"name\":\"TemplateActions1\",\"overrides\":[],\"properties\":[{\"default\":0,\"kind\":null,\"name\":\"open_modal\"},{\"default\":0,\"kind\":null,\"name\":\"close_modal\"}]},{\"extends\":null,\"module\":null,\"name\":\"MaterialTemplateActions1\",\"overrides\":[],\"properties\":[{\"default\":0,\"kind\":null,\"name\":\"open_modal\"},{\"default\":0,\"kind\":null,\"name\":\"close_modal\"}]}],\"roots\":{\"references\":[{\"attributes\":{\"callback\":null,\"renderers\":[{\"id\":\"2588\"}],\"tags\":[\"hv_created\"],\"tooltips\":[[\"neighborhood\",\"@{neighborhood}\"],[\"sale_price_sqr_foot\",\"@{sale_price_sqr_foot}\"]]},\"id\":\"2552\",\"type\":\"HoverTool\"},{\"attributes\":{},\"id\":\"2604\",\"type\":\"UnionRenderers\"},{\"attributes\":{},\"id\":\"2563\",\"type\":\"CategoricalTicker\"},{\"attributes\":{\"axis\":{\"id\":\"2562\"},\"coordinates\":null,\"grid_line_color\":null,\"group\":null,\"ticker\":null},\"id\":\"2564\",\"type\":\"Grid\"},{\"attributes\":{},\"id\":\"2570\",\"type\":\"PanTool\"},{\"attributes\":{\"axis_label\":\"Neighborhood\",\"coordinates\":null,\"formatter\":{\"id\":\"2592\"},\"group\":null,\"major_label_orientation\":1.5707963267948966,\"major_label_policy\":{\"id\":\"2593\"},\"ticker\":{\"id\":\"2563\"}},\"id\":\"2562\",\"type\":\"CategoricalAxis\"},{\"attributes\":{\"axis\":{\"id\":\"2565\"},\"coordinates\":null,\"dimension\":1,\"grid_line_color\":null,\"group\":null,\"ticker\":null},\"id\":\"2568\",\"type\":\"Grid\"},{\"attributes\":{\"bottom\":{\"value\":0},\"fill_alpha\":{\"value\":1.0},\"fill_color\":{\"value\":\"#30a2da\"},\"hatch_alpha\":{\"value\":1.0},\"hatch_color\":{\"value\":\"#30a2da\"},\"hatch_scale\":{\"value\":12.0},\"hatch_weight\":{\"value\":1.0},\"line_alpha\":{\"value\":1.0},\"line_cap\":{\"value\":\"butt\"},\"line_color\":{\"value\":\"black\"},\"line_dash\":{\"value\":[]},\"line_dash_offset\":{\"value\":0},\"line_join\":{\"value\":\"bevel\"},\"line_width\":{\"value\":1},\"top\":{\"field\":\"sale_price_sqr_foot\"},\"width\":{\"value\":0.8},\"x\":{\"field\":\"neighborhood\"}},\"id\":\"2590\",\"type\":\"VBar\"},{\"attributes\":{\"data\":{\"neighborhood\":[\"Union Square District\",\"Merced Heights\",\"Miraloma Park\",\"Pacific Heights\",\"Westwood Park\",\"Telegraph Hill\",\"Presidio Heights\",\"Cow Hollow\",\"Potrero Hill\",\"South Beach\"],\"sale_price_sqr_foot\":{\"__ndarray__\":\"JRAUMfI/jEB9IrkvwqaIQFx/3pp8XohAFpsVUHKMhUBr0ERas3iFQL0KhXgNJIVAy835O80ahUALV25bts+EQJrMCuEbsIRAya3y7v5QhEA=\",\"dtype\":\"float64\",\"order\":\"little\",\"shape\":[10]}},\"selected\":{\"id\":\"2583\"},\"selection_policy\":{\"id\":\"2604\"}},\"id\":\"2582\",\"type\":\"ColumnDataSource\"},{\"attributes\":{},\"id\":\"2583\",\"type\":\"Selection\"},{\"attributes\":{\"axis_label\":\"Avg. Sale Price Per Sq Foot\",\"coordinates\":null,\"formatter\":{\"id\":\"2595\"},\"group\":null,\"major_label_policy\":{\"id\":\"2596\"},\"ticker\":{\"id\":\"2566\"}},\"id\":\"2565\",\"type\":\"LinearAxis\"},{\"attributes\":{},\"id\":\"2566\",\"type\":\"BasicTicker\"},{\"attributes\":{},\"id\":\"2596\",\"type\":\"AllLabels\"},{\"attributes\":{\"margin\":[5,5,5,5],\"name\":\"HSpacer04167\",\"sizing_mode\":\"stretch_width\"},\"id\":\"2617\",\"type\":\"Spacer\"},{\"attributes\":{},\"id\":\"2571\",\"type\":\"WheelZoomTool\"},{\"attributes\":{\"fill_alpha\":{\"value\":0.1},\"fill_color\":{\"value\":\"#30a2da\"},\"hatch_alpha\":{\"value\":0.1},\"hatch_color\":{\"value\":\"#30a2da\"},\"line_alpha\":{\"value\":0.1},\"top\":{\"field\":\"sale_price_sqr_foot\"},\"width\":{\"value\":0.8},\"x\":{\"field\":\"neighborhood\"}},\"id\":\"2586\",\"type\":\"VBar\"},{\"attributes\":{},\"id\":\"2595\",\"type\":\"BasicTickFormatter\"},{\"attributes\":{},\"id\":\"2593\",\"type\":\"AllLabels\"},{\"attributes\":{},\"id\":\"2569\",\"type\":\"SaveTool\"},{\"attributes\":{\"fill_color\":{\"value\":\"#30a2da\"},\"hatch_color\":{\"value\":\"#30a2da\"},\"top\":{\"field\":\"sale_price_sqr_foot\"},\"width\":{\"value\":0.8},\"x\":{\"field\":\"neighborhood\"}},\"id\":\"2585\",\"type\":\"VBar\"},{\"attributes\":{\"end\":929.3801355198136,\"reset_end\":929.3801355198136,\"reset_start\":0.0,\"tags\":[[[\"sale_price_sqr_foot\",\"sale_price_sqr_foot\",null]]]},\"id\":\"2551\",\"type\":\"Range1d\"},{\"attributes\":{\"overlay\":{\"id\":\"2574\"}},\"id\":\"2572\",\"type\":\"BoxZoomTool\"},{\"attributes\":{\"margin\":[5,5,5,5],\"name\":\"HSpacer04166\",\"sizing_mode\":\"stretch_width\"},\"id\":\"2549\",\"type\":\"Spacer\"},{\"attributes\":{},\"id\":\"2573\",\"type\":\"ResetTool\"},{\"attributes\":{\"coordinates\":null,\"data_source\":{\"id\":\"2582\"},\"glyph\":{\"id\":\"2585\"},\"group\":null,\"hover_glyph\":null,\"muted_glyph\":{\"id\":\"2587\"},\"nonselection_glyph\":{\"id\":\"2586\"},\"selection_glyph\":{\"id\":\"2590\"},\"view\":{\"id\":\"2589\"}},\"id\":\"2588\",\"type\":\"GlyphRenderer\"},{\"attributes\":{\"source\":{\"id\":\"2582\"}},\"id\":\"2589\",\"type\":\"CDSView\"},{\"attributes\":{\"bottom_units\":\"screen\",\"coordinates\":null,\"fill_alpha\":0.5,\"fill_color\":\"lightgrey\",\"group\":null,\"left_units\":\"screen\",\"level\":\"overlay\",\"line_alpha\":1.0,\"line_color\":\"black\",\"line_dash\":[4,4],\"line_width\":2,\"right_units\":\"screen\",\"syncable\":false,\"top_units\":\"screen\"},\"id\":\"2574\",\"type\":\"BoxAnnotation\"},{\"attributes\":{},\"id\":\"2558\",\"type\":\"CategoricalScale\"},{\"attributes\":{\"tools\":[{\"id\":\"2552\"},{\"id\":\"2569\"},{\"id\":\"2570\"},{\"id\":\"2571\"},{\"id\":\"2572\"},{\"id\":\"2573\"}]},\"id\":\"2575\",\"type\":\"Toolbar\"},{\"attributes\":{\"fill_alpha\":{\"value\":0.2},\"fill_color\":{\"value\":\"#30a2da\"},\"hatch_alpha\":{\"value\":0.2},\"hatch_color\":{\"value\":\"#30a2da\"},\"line_alpha\":{\"value\":0.2},\"top\":{\"field\":\"sale_price_sqr_foot\"},\"width\":{\"value\":0.8},\"x\":{\"field\":\"neighborhood\"}},\"id\":\"2587\",\"type\":\"VBar\"},{\"attributes\":{\"below\":[{\"id\":\"2562\"}],\"center\":[{\"id\":\"2564\"},{\"id\":\"2568\"}],\"height\":400,\"left\":[{\"id\":\"2565\"}],\"margin\":[5,5,5,5],\"min_border_bottom\":10,\"min_border_left\":10,\"min_border_right\":10,\"min_border_top\":10,\"renderers\":[{\"id\":\"2588\"}],\"sizing_mode\":\"fixed\",\"title\":{\"id\":\"2554\"},\"toolbar\":{\"id\":\"2575\"},\"width\":700,\"x_range\":{\"id\":\"2550\"},\"x_scale\":{\"id\":\"2558\"},\"y_range\":{\"id\":\"2551\"},\"y_scale\":{\"id\":\"2560\"}},\"id\":\"2553\",\"subtype\":\"Figure\",\"type\":\"Plot\"},{\"attributes\":{},\"id\":\"2592\",\"type\":\"CategoricalTickFormatter\"},{\"attributes\":{\"factors\":[\"Union Square District\",\"Merced Heights\",\"Miraloma Park\",\"Pacific Heights\",\"Westwood Park\",\"Telegraph Hill\",\"Presidio Heights\",\"Cow Hollow\",\"Potrero Hill\",\"South Beach\"],\"tags\":[[[\"neighborhood\",\"neighborhood\",null]]]},\"id\":\"2550\",\"type\":\"FactorRange\"},{\"attributes\":{\"children\":[{\"id\":\"2549\"},{\"id\":\"2553\"},{\"id\":\"2617\"}],\"margin\":[0,0,0,0],\"name\":\"Row04162\",\"tags\":[\"embedded\"]},\"id\":\"2548\",\"type\":\"Row\"},{\"attributes\":{\"coordinates\":null,\"group\":null,\"text\":\"Top 10 Expensive Neighborhoods in SFO\",\"text_color\":\"black\",\"text_font_size\":\"12pt\"},\"id\":\"2554\",\"type\":\"Title\"},{\"attributes\":{},\"id\":\"2560\",\"type\":\"LinearScale\"}],\"root_ids\":[\"2548\"]},\"title\":\"Bokeh Application\",\"version\":\"2.4.2\"}};\n",
       "    var render_items = [{\"docid\":\"146de192-41f9-40ae-be8b-cdbc1ad12637\",\"root_ids\":[\"2548\"],\"roots\":{\"2548\":\"c0803bc5-cc60-4bb2-af33-d69933784c27\"}}];\n",
       "    root.Bokeh.embed.embed_items_notebook(docs_json, render_items);\n",
       "  }\n",
       "  if (root.Bokeh !== undefined && root.Bokeh.Panel !== undefined && ( root['Plotly'] !== undefined)) {\n",
       "    embed_document(root);\n",
       "  } else {\n",
       "    var attempts = 0;\n",
       "    var timer = setInterval(function(root) {\n",
       "      if (root.Bokeh !== undefined && root.Bokeh.Panel !== undefined && (root['Plotly'] !== undefined)) {\n",
       "        clearInterval(timer);\n",
       "        embed_document(root);\n",
       "      } else if (document.readyState == \"complete\") {\n",
       "        attempts++;\n",
       "        if (attempts > 200) {\n",
       "          clearInterval(timer);\n",
       "          console.log(\"Bokeh: ERROR: Unable to run BokehJS code because BokehJS library is missing\");\n",
       "        }\n",
       "      }\n",
       "    }, 25, root)\n",
       "  }\n",
       "})(window);</script>"
      ],
      "text/plain": [
       ":Bars   [neighborhood]   (sale_price_sqr_foot)"
      ]
     },
     "execution_count": 72,
     "metadata": {
      "application/vnd.holoviews_exec.v0+json": {
       "id": "2548"
      }
     },
     "output_type": "execute_result"
    }
   ],
   "source": [
    "# Plotting the data from the top 10 expensive neighborhoods\n",
    "sfo_most_expensive.hvplot.bar(\n",
    "    x=\"neighborhood\",\n",
    "    y=\"sale_price_sqr_foot\",\n",
    "    xlabel = \"Neighborhood\",\n",
    "    ylabel = \"Avg. Sale Price Per Sq Foot\",\n",
    "    title = \"Top 10 Expensive Neighborhoods in SFO\",\n",
    "    rot = 90,\n",
    "    height = 400\n",
    ")"
   ]
  },
  {
   "cell_type": "markdown",
   "id": "c5ec382a",
   "metadata": {},
   "source": [
    "Comparing cost to purchase versus rental income\n",
    "In this section, you will use hvplot to create an interactive visualization with a dropdown selector for the neighborhood. This visualization will feature a side-by-side comparison of average price per square foot versus average montly rent by year.\n",
    "\n",
    "Hint: Use the hvplot parameter, groupby, to create a dropdown selector for the neighborhood."
   ]
  },
  {
   "cell_type": "code",
   "execution_count": 73,
   "id": "e058a022",
   "metadata": {},
   "outputs": [
    {
     "data": {
      "text/html": [
       "<div>\n",
       "<style scoped>\n",
       "    .dataframe tbody tr th:only-of-type {\n",
       "        vertical-align: middle;\n",
       "    }\n",
       "\n",
       "    .dataframe tbody tr th {\n",
       "        vertical-align: top;\n",
       "    }\n",
       "\n",
       "    .dataframe thead th {\n",
       "        text-align: right;\n",
       "    }\n",
       "</style>\n",
       "<table border=\"1\" class=\"dataframe\">\n",
       "  <thead>\n",
       "    <tr style=\"text-align: right;\">\n",
       "      <th></th>\n",
       "      <th>year</th>\n",
       "      <th>neighborhood</th>\n",
       "      <th>sale_price_sqr_foot</th>\n",
       "      <th>housing_units</th>\n",
       "      <th>gross_rent</th>\n",
       "    </tr>\n",
       "  </thead>\n",
       "  <tbody>\n",
       "    <tr>\n",
       "      <th>0</th>\n",
       "      <td>2010</td>\n",
       "      <td>Alamo Square</td>\n",
       "      <td>291.182945</td>\n",
       "      <td>372560</td>\n",
       "      <td>1239</td>\n",
       "    </tr>\n",
       "    <tr>\n",
       "      <th>1</th>\n",
       "      <td>2010</td>\n",
       "      <td>Anza Vista</td>\n",
       "      <td>267.932583</td>\n",
       "      <td>372560</td>\n",
       "      <td>1239</td>\n",
       "    </tr>\n",
       "    <tr>\n",
       "      <th>2</th>\n",
       "      <td>2010</td>\n",
       "      <td>Bayview</td>\n",
       "      <td>170.098665</td>\n",
       "      <td>372560</td>\n",
       "      <td>1239</td>\n",
       "    </tr>\n",
       "    <tr>\n",
       "      <th>3</th>\n",
       "      <td>2010</td>\n",
       "      <td>Buena Vista Park</td>\n",
       "      <td>347.394919</td>\n",
       "      <td>372560</td>\n",
       "      <td>1239</td>\n",
       "    </tr>\n",
       "    <tr>\n",
       "      <th>4</th>\n",
       "      <td>2010</td>\n",
       "      <td>Central Richmond</td>\n",
       "      <td>319.027623</td>\n",
       "      <td>372560</td>\n",
       "      <td>1239</td>\n",
       "    </tr>\n",
       "    <tr>\n",
       "      <th>5</th>\n",
       "      <td>2010</td>\n",
       "      <td>Central Sunset</td>\n",
       "      <td>418.172493</td>\n",
       "      <td>372560</td>\n",
       "      <td>1239</td>\n",
       "    </tr>\n",
       "    <tr>\n",
       "      <th>6</th>\n",
       "      <td>2010</td>\n",
       "      <td>Corona Heights</td>\n",
       "      <td>369.359338</td>\n",
       "      <td>372560</td>\n",
       "      <td>1239</td>\n",
       "    </tr>\n",
       "    <tr>\n",
       "      <th>7</th>\n",
       "      <td>2010</td>\n",
       "      <td>Cow Hollow</td>\n",
       "      <td>569.379968</td>\n",
       "      <td>372560</td>\n",
       "      <td>1239</td>\n",
       "    </tr>\n",
       "    <tr>\n",
       "      <th>8</th>\n",
       "      <td>2010</td>\n",
       "      <td>Croker Amazon</td>\n",
       "      <td>165.645730</td>\n",
       "      <td>372560</td>\n",
       "      <td>1239</td>\n",
       "    </tr>\n",
       "    <tr>\n",
       "      <th>9</th>\n",
       "      <td>2010</td>\n",
       "      <td>Diamond Heights</td>\n",
       "      <td>456.930822</td>\n",
       "      <td>372560</td>\n",
       "      <td>1239</td>\n",
       "    </tr>\n",
       "  </tbody>\n",
       "</table>\n",
       "</div>"
      ],
      "text/plain": [
       "   year      neighborhood  sale_price_sqr_foot  housing_units  gross_rent\n",
       "0  2010      Alamo Square           291.182945         372560        1239\n",
       "1  2010        Anza Vista           267.932583         372560        1239\n",
       "2  2010           Bayview           170.098665         372560        1239\n",
       "3  2010  Buena Vista Park           347.394919         372560        1239\n",
       "4  2010  Central Richmond           319.027623         372560        1239\n",
       "5  2010    Central Sunset           418.172493         372560        1239\n",
       "6  2010    Corona Heights           369.359338         372560        1239\n",
       "7  2010        Cow Hollow           569.379968         372560        1239\n",
       "8  2010     Croker Amazon           165.645730         372560        1239\n",
       "9  2010   Diamond Heights           456.930822         372560        1239"
      ]
     },
     "execution_count": 73,
     "metadata": {},
     "output_type": "execute_result"
    }
   ],
   "source": [
    "# Fetch the previously generated DataFrame that was grouped by year and neighborhood\n",
    "sfo_reset.head(10)"
   ]
  },
  {
   "cell_type": "code",
   "execution_count": 74,
   "id": "1c9761ef",
   "metadata": {},
   "outputs": [
    {
     "data": {},
     "metadata": {},
     "output_type": "display_data"
    },
    {
     "data": {
      "application/vnd.holoviews_exec.v0+json": "",
      "text/html": [
       "<div id='2669'>\n",
       "\n",
       "\n",
       "\n",
       "\n",
       "\n",
       "  <div class=\"bk-root\" id=\"78ac4d95-9199-4f62-a3f2-c9127c2a948f\" data-root-id=\"2669\"></div>\n",
       "</div>\n",
       "<script type=\"application/javascript\">(function(root) {\n",
       "  function embed_document(root) {\n",
       "    var docs_json = {\"b40eb89d-b2a4-40a9-813e-14752f385aae\":{\"defs\":[{\"extends\":null,\"module\":null,\"name\":\"ReactiveHTML1\",\"overrides\":[],\"properties\":[]},{\"extends\":null,\"module\":null,\"name\":\"FlexBox1\",\"overrides\":[],\"properties\":[{\"default\":\"flex-start\",\"kind\":null,\"name\":\"align_content\"},{\"default\":\"flex-start\",\"kind\":null,\"name\":\"align_items\"},{\"default\":\"row\",\"kind\":null,\"name\":\"flex_direction\"},{\"default\":\"wrap\",\"kind\":null,\"name\":\"flex_wrap\"},{\"default\":\"flex-start\",\"kind\":null,\"name\":\"justify_content\"}]},{\"extends\":null,\"module\":null,\"name\":\"TemplateActions1\",\"overrides\":[],\"properties\":[{\"default\":0,\"kind\":null,\"name\":\"open_modal\"},{\"default\":0,\"kind\":null,\"name\":\"close_modal\"}]},{\"extends\":null,\"module\":null,\"name\":\"MaterialTemplateActions1\",\"overrides\":[],\"properties\":[{\"default\":0,\"kind\":null,\"name\":\"open_modal\"},{\"default\":0,\"kind\":null,\"name\":\"close_modal\"}]}],\"roots\":{\"references\":[{\"attributes\":{\"axis\":{\"id\":\"2683\"},\"coordinates\":null,\"grid_line_color\":null,\"group\":null,\"ticker\":null},\"id\":\"2685\",\"type\":\"Grid\"},{\"attributes\":{\"source\":{\"id\":\"2704\"}},\"id\":\"2711\",\"type\":\"CDSView\"},{\"attributes\":{\"factors\":[[\"2010\",\"gross_rent\"],[\"2010\",\"sale_price_sqr_foot\"],[\"2011\",\"gross_rent\"],[\"2011\",\"sale_price_sqr_foot\"],[\"2012\",\"gross_rent\"],[\"2012\",\"sale_price_sqr_foot\"],[\"2013\",\"gross_rent\"],[\"2013\",\"sale_price_sqr_foot\"],[\"2014\",\"gross_rent\"],[\"2014\",\"sale_price_sqr_foot\"],[\"2015\",\"gross_rent\"],[\"2015\",\"sale_price_sqr_foot\"],[\"2016\",\"gross_rent\"],[\"2016\",\"sale_price_sqr_foot\"]],\"tags\":[[[\"year\",\"year\",null],[\"Variable\",\"Variable\",null]]]},\"id\":\"2671\",\"type\":\"FactorRange\"},{\"attributes\":{},\"id\":\"2691\",\"type\":\"PanTool\"},{\"attributes\":{\"axis_label\":\"Neighborhood\",\"coordinates\":null,\"formatter\":{\"id\":\"2714\"},\"group\":null,\"major_label_orientation\":1.5707963267948966,\"major_label_policy\":{\"id\":\"2715\"},\"ticker\":{\"id\":\"2684\"}},\"id\":\"2683\",\"type\":\"CategoricalAxis\"},{\"attributes\":{},\"id\":\"2718\",\"type\":\"AllLabels\"},{\"attributes\":{\"fill_alpha\":{\"value\":0.2},\"fill_color\":{\"field\":\"Variable\",\"transform\":{\"id\":\"2703\"}},\"hatch_alpha\":{\"value\":0.2},\"hatch_color\":{\"field\":\"Variable\",\"transform\":{\"id\":\"2703\"}},\"line_alpha\":{\"value\":0.2},\"top\":{\"field\":\"value\"},\"width\":{\"value\":0.8},\"x\":{\"field\":\"xoffsets\"}},\"id\":\"2709\",\"type\":\"VBar\"},{\"attributes\":{\"axis\":{\"id\":\"2686\"},\"coordinates\":null,\"dimension\":1,\"grid_line_color\":null,\"group\":null,\"ticker\":null},\"id\":\"2689\",\"type\":\"Grid\"},{\"attributes\":{},\"id\":\"2717\",\"type\":\"BasicTickFormatter\"},{\"attributes\":{\"data\":{\"Variable\":[\"gross_rent\",\"gross_rent\",\"gross_rent\",\"gross_rent\",\"gross_rent\",\"gross_rent\",\"gross_rent\",\"sale_price_sqr_foot\",\"sale_price_sqr_foot\",\"sale_price_sqr_foot\",\"sale_price_sqr_foot\",\"sale_price_sqr_foot\",\"sale_price_sqr_foot\",\"sale_price_sqr_foot\"],\"value\":{\"__ndarray__\":\"AAAAAABck0AAAAAAAOiXQAAAAAAAKKJAAAAAAAA2p0AAAAAAAJCrQAAAAAAANq1AAAAAAAAmsUANRztY7TJyQJp+zNxvCHFAgpGzmi3jZkAoOiDQtDx4QBUyKcoYR35AjhXkUO3QgkBUIdyYtU91QA==\",\"dtype\":\"float64\",\"order\":\"little\",\"shape\":[14]},\"xoffsets\":[[\"2010\",\"gross_rent\"],[\"2011\",\"gross_rent\"],[\"2012\",\"gross_rent\"],[\"2013\",\"gross_rent\"],[\"2014\",\"gross_rent\"],[\"2015\",\"gross_rent\"],[\"2016\",\"gross_rent\"],[\"2010\",\"sale_price_sqr_foot\"],[\"2011\",\"sale_price_sqr_foot\"],[\"2012\",\"sale_price_sqr_foot\"],[\"2013\",\"sale_price_sqr_foot\"],[\"2014\",\"sale_price_sqr_foot\"],[\"2015\",\"sale_price_sqr_foot\"],[\"2016\",\"sale_price_sqr_foot\"]],\"year\":[\"2010\",\"2011\",\"2012\",\"2013\",\"2014\",\"2015\",\"2016\",\"2010\",\"2011\",\"2012\",\"2013\",\"2014\",\"2015\",\"2016\"]},\"selected\":{\"id\":\"2705\"},\"selection_policy\":{\"id\":\"2732\"}},\"id\":\"2704\",\"type\":\"ColumnDataSource\"},{\"attributes\":{\"children\":[{\"id\":\"2670\"},{\"id\":\"2674\"},{\"id\":\"2745\"},{\"id\":\"2746\"}],\"margin\":[0,0,0,0],\"name\":\"Row04262\"},\"id\":\"2669\",\"type\":\"Row\"},{\"attributes\":{},\"id\":\"2714\",\"type\":\"CategoricalTickFormatter\"},{\"attributes\":{},\"id\":\"2715\",\"type\":\"AllLabels\"},{\"attributes\":{\"coordinates\":null,\"data_source\":{\"id\":\"2704\"},\"glyph\":{\"id\":\"2707\"},\"group\":null,\"hover_glyph\":null,\"muted_glyph\":{\"id\":\"2709\"},\"nonselection_glyph\":{\"id\":\"2708\"},\"selection_glyph\":{\"id\":\"2712\"},\"view\":{\"id\":\"2711\"}},\"id\":\"2710\",\"type\":\"GlyphRenderer\"},{\"attributes\":{\"axis_label\":\"$\",\"coordinates\":null,\"formatter\":{\"id\":\"2717\"},\"group\":null,\"major_label_policy\":{\"id\":\"2718\"},\"ticker\":{\"id\":\"2687\"}},\"id\":\"2686\",\"type\":\"LinearAxis\"},{\"attributes\":{},\"id\":\"2705\",\"type\":\"Selection\"},{\"attributes\":{\"bottom\":{\"value\":0},\"fill_alpha\":{\"value\":1.0},\"fill_color\":{\"field\":\"Variable\",\"transform\":{\"id\":\"2703\"}},\"hatch_alpha\":{\"value\":1.0},\"hatch_color\":{\"field\":\"Variable\",\"transform\":{\"id\":\"2703\"}},\"hatch_scale\":{\"value\":12.0},\"hatch_weight\":{\"value\":1.0},\"line_alpha\":{\"value\":1.0},\"line_cap\":{\"value\":\"butt\"},\"line_color\":{\"value\":\"black\"},\"line_dash\":{\"value\":[]},\"line_dash_offset\":{\"value\":0},\"line_join\":{\"value\":\"bevel\"},\"line_width\":{\"value\":1},\"top\":{\"field\":\"value\"},\"width\":{\"value\":0.8},\"x\":{\"field\":\"xoffsets\"}},\"id\":\"2712\",\"type\":\"VBar\"},{\"attributes\":{},\"id\":\"2687\",\"type\":\"BasicTicker\"},{\"attributes\":{\"children\":[{\"id\":\"2747\"},{\"id\":\"2748\"},{\"id\":\"2750\"}],\"margin\":[0,0,0,0],\"name\":\"Column04270\"},\"id\":\"2746\",\"type\":\"Column\"},{\"attributes\":{},\"id\":\"2692\",\"type\":\"WheelZoomTool\"},{\"attributes\":{},\"id\":\"2690\",\"type\":\"SaveTool\"},{\"attributes\":{},\"id\":\"2732\",\"type\":\"UnionRenderers\"},{\"attributes\":{\"overlay\":{\"id\":\"2695\"}},\"id\":\"2693\",\"type\":\"BoxZoomTool\"},{\"attributes\":{\"factors\":[\"gross_rent\",\"sale_price_sqr_foot\"],\"palette\":[\"#30a2da\",\"#fc4f30\"]},\"id\":\"2703\",\"type\":\"CategoricalColorMapper\"},{\"attributes\":{},\"id\":\"2694\",\"type\":\"ResetTool\"},{\"attributes\":{\"margin\":[5,5,5,5],\"name\":\"HSpacer04272\",\"sizing_mode\":\"stretch_width\"},\"id\":\"2745\",\"type\":\"Spacer\"},{\"attributes\":{\"margin\":[5,5,5,5],\"name\":\"HSpacer04271\",\"sizing_mode\":\"stretch_width\"},\"id\":\"2670\",\"type\":\"Spacer\"},{\"attributes\":{\"bottom_units\":\"screen\",\"coordinates\":null,\"fill_alpha\":0.5,\"fill_color\":\"lightgrey\",\"group\":null,\"left_units\":\"screen\",\"level\":\"overlay\",\"line_alpha\":1.0,\"line_color\":\"black\",\"line_dash\":[4,4],\"line_width\":2,\"right_units\":\"screen\",\"syncable\":false,\"top_units\":\"screen\"},\"id\":\"2695\",\"type\":\"BoxAnnotation\"},{\"attributes\":{\"callback\":null,\"renderers\":[{\"id\":\"2710\"}],\"tags\":[\"hv_created\"],\"tooltips\":[[\"year\",\"@{year}\"],[\"Variable\",\"@{Variable}\"],[\"value\",\"@{value}\"]]},\"id\":\"2673\",\"type\":\"HoverTool\"},{\"attributes\":{\"fill_alpha\":{\"value\":0.1},\"fill_color\":{\"field\":\"Variable\",\"transform\":{\"id\":\"2703\"}},\"hatch_alpha\":{\"value\":0.1},\"hatch_color\":{\"field\":\"Variable\",\"transform\":{\"id\":\"2703\"}},\"line_alpha\":{\"value\":0.1},\"top\":{\"field\":\"value\"},\"width\":{\"value\":0.8},\"x\":{\"field\":\"xoffsets\"}},\"id\":\"2708\",\"type\":\"VBar\"},{\"attributes\":{},\"id\":\"2684\",\"type\":\"CategoricalTicker\"},{\"attributes\":{\"margin\":[20,20,20,20],\"min_width\":250,\"options\":[\"Alamo Square\",\"Anza Vista\",\"Bayview\",\"Buena Vista Park\",\"Central Richmond\",\"Central Sunset\",\"Corona Heights\",\"Cow Hollow\",\"Croker Amazon\",\"Diamond Heights\",\"Downtown \",\"Eureka Valley/Dolores Heights\",\"Excelsior\",\"Financial District North\",\"Financial District South\",\"Forest Knolls\",\"Glen Park\",\"Golden Gate Heights\",\"Haight Ashbury\",\"Hayes Valley\",\"Hunters Point\",\"Ingleside \",\"Inner Mission\",\"Inner Parkside\",\"Inner Richmond\",\"Inner Sunset\",\"Jordan Park/Laurel Heights\",\"Lake --The Presidio\",\"Lone Mountain\",\"Lower Pacific Heights\",\"Marina\",\"Miraloma Park\",\"Mission Bay\",\"Mission Dolores\",\"Mission Terrace\",\"Nob Hill\",\"Noe Valley\",\"Oceanview\",\"Outer Parkside\",\"Outer Richmond \",\"Outer Sunset\",\"Pacific Heights\",\"Park North\",\"Parkside\",\"Parnassus/Ashbury Heights\",\"Portola\",\"Potrero Hill\",\"Presidio Heights\",\"Russian Hill\",\"South Beach\",\"South of Market\",\"Sunnyside\",\"Telegraph Hill\",\"Twin Peaks\",\"Union Square District\",\"Van Ness/ Civic Center\",\"West Portal\",\"Western Addition\",\"Yerba Buena\",\"Bernal Heights \",\"Clarendon Heights\",\"Duboce Triangle\",\"Ingleside Heights\",\"North Beach\",\"North Waterfront\",\"Outer Mission\",\"Westwood Highlands\",\"Merced Heights\",\"Midtown Terrace\",\"Visitacion Valley\",\"Silver Terrace\",\"Westwood Park\",\"Bayview Heights\"],\"title\":\"neighborhood\",\"value\":\"Alamo Square\",\"width\":250},\"id\":\"2749\",\"type\":\"Select\"},{\"attributes\":{\"client_comm_id\":\"f8db496081e04056a7ff6e61f93b9742\",\"comm_id\":\"3fad0cfa9b2a4556bd5a8c7493a5c67b\",\"plot_id\":\"2669\"},\"id\":\"2781\",\"type\":\"panel.models.comm_manager.CommManager\"},{\"attributes\":{},\"id\":\"2679\",\"type\":\"CategoricalScale\"},{\"attributes\":{\"children\":[{\"id\":\"2749\"}],\"css_classes\":[\"panel-widget-box\"],\"margin\":[5,5,5,5],\"name\":\"WidgetBox04263\"},\"id\":\"2748\",\"type\":\"Column\"},{\"attributes\":{\"fill_color\":{\"field\":\"Variable\",\"transform\":{\"id\":\"2703\"}},\"hatch_color\":{\"field\":\"Variable\",\"transform\":{\"id\":\"2703\"}},\"top\":{\"field\":\"value\"},\"width\":{\"value\":0.8},\"x\":{\"field\":\"xoffsets\"}},\"id\":\"2707\",\"type\":\"VBar\"},{\"attributes\":{\"tools\":[{\"id\":\"2673\"},{\"id\":\"2690\"},{\"id\":\"2691\"},{\"id\":\"2692\"},{\"id\":\"2693\"},{\"id\":\"2694\"}]},\"id\":\"2696\",\"type\":\"Toolbar\"},{\"attributes\":{\"margin\":[5,5,5,5],\"name\":\"VSpacer04268\",\"sizing_mode\":\"stretch_height\"},\"id\":\"2747\",\"type\":\"Spacer\"},{\"attributes\":{\"below\":[{\"id\":\"2683\"}],\"center\":[{\"id\":\"2685\"},{\"id\":\"2689\"}],\"height\":400,\"left\":[{\"id\":\"2686\"}],\"margin\":[5,5,5,5],\"min_border_bottom\":10,\"min_border_left\":10,\"min_border_right\":10,\"min_border_top\":10,\"renderers\":[{\"id\":\"2710\"}],\"sizing_mode\":\"fixed\",\"title\":{\"id\":\"2675\"},\"toolbar\":{\"id\":\"2696\"},\"width\":700,\"x_range\":{\"id\":\"2671\"},\"x_scale\":{\"id\":\"2679\"},\"y_range\":{\"id\":\"2672\"},\"y_scale\":{\"id\":\"2681\"}},\"id\":\"2674\",\"subtype\":\"Figure\",\"type\":\"Plot\"},{\"attributes\":{\"margin\":[5,5,5,5],\"name\":\"VSpacer04269\",\"sizing_mode\":\"stretch_height\"},\"id\":\"2750\",\"type\":\"Spacer\"},{\"attributes\":{\"end\":4810.690068306854,\"reset_end\":4810.690068306854,\"reset_start\":0.0,\"tags\":[[[\"value\",\"value\",null]]]},\"id\":\"2672\",\"type\":\"Range1d\"},{\"attributes\":{\"coordinates\":null,\"group\":null,\"text\":\"Cost to Purchase versus Rental Income\",\"text_color\":\"black\",\"text_font_size\":\"12pt\"},\"id\":\"2675\",\"type\":\"Title\"},{\"attributes\":{},\"id\":\"2681\",\"type\":\"LinearScale\"}],\"root_ids\":[\"2669\",\"2781\"]},\"title\":\"Bokeh Application\",\"version\":\"2.4.2\"}};\n",
       "    var render_items = [{\"docid\":\"b40eb89d-b2a4-40a9-813e-14752f385aae\",\"root_ids\":[\"2669\"],\"roots\":{\"2669\":\"78ac4d95-9199-4f62-a3f2-c9127c2a948f\"}}];\n",
       "    root.Bokeh.embed.embed_items_notebook(docs_json, render_items);\n",
       "  }\n",
       "  if (root.Bokeh !== undefined && root.Bokeh.Panel !== undefined && ( root['Plotly'] !== undefined)) {\n",
       "    embed_document(root);\n",
       "  } else {\n",
       "    var attempts = 0;\n",
       "    var timer = setInterval(function(root) {\n",
       "      if (root.Bokeh !== undefined && root.Bokeh.Panel !== undefined && (root['Plotly'] !== undefined)) {\n",
       "        clearInterval(timer);\n",
       "        embed_document(root);\n",
       "      } else if (document.readyState == \"complete\") {\n",
       "        attempts++;\n",
       "        if (attempts > 200) {\n",
       "          clearInterval(timer);\n",
       "          console.log(\"Bokeh: ERROR: Unable to run BokehJS code because BokehJS library is missing\");\n",
       "        }\n",
       "      }\n",
       "    }, 25, root)\n",
       "  }\n",
       "})(window);</script>"
      ],
      "text/plain": [
       ":DynamicMap   [neighborhood]\n",
       "   :Bars   [year,Variable]   (value)"
      ]
     },
     "execution_count": 74,
     "metadata": {
      "application/vnd.holoviews_exec.v0+json": {
       "id": "2669"
      }
     },
     "output_type": "execute_result"
    }
   ],
   "source": [
    "# Plot side-by-side visualization of average price per square foot versus average monthly rent by year\n",
    "sfo_reset.hvplot.bar(\n",
    "    x=\"year\",\n",
    "    y=[\"gross_rent\", \"sale_price_sqr_foot\"],\n",
    "    xlabel = \"Neighborhood\",\n",
    "    ylabel = \"$\",\n",
    "    groupby = \"neighborhood\",\n",
    "    title = \"Cost to Purchase versus Rental Income\",\n",
    "    rot = 90,\n",
    "    height = 400\n",
    ")\n"
   ]
  },
  {
   "cell_type": "markdown",
   "id": "f1b3dc4b",
   "metadata": {},
   "source": [
    "Neighborhood Map\n",
    "In this section, you will read in neighborhoods location data and build an interactive map with the average house value per neighborhood. Use a scatter_mapbox from Plotly express to create the visualization. Remember, you will need your Mapbox API key for this."
   ]
  },
  {
   "cell_type": "markdown",
   "id": "82ed8e52",
   "metadata": {},
   "source": [
    "Load Location Data"
   ]
  },
  {
   "cell_type": "code",
   "execution_count": 75,
   "id": "04d666d6",
   "metadata": {},
   "outputs": [
    {
     "data": {
      "text/html": [
       "<div>\n",
       "<style scoped>\n",
       "    .dataframe tbody tr th:only-of-type {\n",
       "        vertical-align: middle;\n",
       "    }\n",
       "\n",
       "    .dataframe tbody tr th {\n",
       "        vertical-align: top;\n",
       "    }\n",
       "\n",
       "    .dataframe thead th {\n",
       "        text-align: right;\n",
       "    }\n",
       "</style>\n",
       "<table border=\"1\" class=\"dataframe\">\n",
       "  <thead>\n",
       "    <tr style=\"text-align: right;\">\n",
       "      <th></th>\n",
       "      <th>Neighborhood</th>\n",
       "      <th>Lat</th>\n",
       "      <th>Lon</th>\n",
       "    </tr>\n",
       "  </thead>\n",
       "  <tbody>\n",
       "    <tr>\n",
       "      <th>0</th>\n",
       "      <td>Alamo Square</td>\n",
       "      <td>37.791012</td>\n",
       "      <td>-122.402100</td>\n",
       "    </tr>\n",
       "    <tr>\n",
       "      <th>1</th>\n",
       "      <td>Anza Vista</td>\n",
       "      <td>37.779598</td>\n",
       "      <td>-122.443451</td>\n",
       "    </tr>\n",
       "    <tr>\n",
       "      <th>2</th>\n",
       "      <td>Bayview</td>\n",
       "      <td>37.734670</td>\n",
       "      <td>-122.401060</td>\n",
       "    </tr>\n",
       "    <tr>\n",
       "      <th>3</th>\n",
       "      <td>Bayview Heights</td>\n",
       "      <td>37.728740</td>\n",
       "      <td>-122.410980</td>\n",
       "    </tr>\n",
       "    <tr>\n",
       "      <th>4</th>\n",
       "      <td>Bernal Heights</td>\n",
       "      <td>37.728630</td>\n",
       "      <td>-122.443050</td>\n",
       "    </tr>\n",
       "  </tbody>\n",
       "</table>\n",
       "</div>"
      ],
      "text/plain": [
       "      Neighborhood        Lat         Lon\n",
       "0     Alamo Square  37.791012 -122.402100\n",
       "1       Anza Vista  37.779598 -122.443451\n",
       "2          Bayview  37.734670 -122.401060\n",
       "3  Bayview Heights  37.728740 -122.410980\n",
       "4   Bernal Heights  37.728630 -122.443050"
      ]
     },
     "execution_count": 75,
     "metadata": {},
     "output_type": "execute_result"
    }
   ],
   "source": [
    "# Load neighborhoods coordinates data\n",
    "file_path_loc = Path(\"Data/neighborhoods_coordinates.csv\")\n",
    "loc_data = pd.read_csv(file_path_loc)\n",
    "loc_data.head()"
   ]
  },
  {
   "cell_type": "markdown",
   "id": "ea5ca066",
   "metadata": {},
   "source": [
    "Data Preparation\n",
    "You will need to join the location data with the mean values per neighborhood.\n",
    "\n",
    "Calculate the mean values for each neighborhood.\n",
    "\n",
    "Join the average values with the neighborhood locations."
   ]
  },
  {
   "cell_type": "code",
   "execution_count": 76,
   "id": "f4b3b41f",
   "metadata": {},
   "outputs": [
    {
     "data": {
      "text/html": [
       "<div>\n",
       "<style scoped>\n",
       "    .dataframe tbody tr th:only-of-type {\n",
       "        vertical-align: middle;\n",
       "    }\n",
       "\n",
       "    .dataframe tbody tr th {\n",
       "        vertical-align: top;\n",
       "    }\n",
       "\n",
       "    .dataframe thead th {\n",
       "        text-align: right;\n",
       "    }\n",
       "</style>\n",
       "<table border=\"1\" class=\"dataframe\">\n",
       "  <thead>\n",
       "    <tr style=\"text-align: right;\">\n",
       "      <th></th>\n",
       "      <th>neighborhood</th>\n",
       "      <th>sale_price_sqr_foot</th>\n",
       "      <th>housing_units</th>\n",
       "      <th>gross_rent</th>\n",
       "    </tr>\n",
       "  </thead>\n",
       "  <tbody>\n",
       "    <tr>\n",
       "      <th>0</th>\n",
       "      <td>Alamo Square</td>\n",
       "      <td>366.020712</td>\n",
       "      <td>378401.0</td>\n",
       "      <td>2817.285714</td>\n",
       "    </tr>\n",
       "    <tr>\n",
       "      <th>1</th>\n",
       "      <td>Anza Vista</td>\n",
       "      <td>373.382198</td>\n",
       "      <td>379050.0</td>\n",
       "      <td>3031.833333</td>\n",
       "    </tr>\n",
       "    <tr>\n",
       "      <th>2</th>\n",
       "      <td>Bayview</td>\n",
       "      <td>204.588623</td>\n",
       "      <td>376454.0</td>\n",
       "      <td>2318.400000</td>\n",
       "    </tr>\n",
       "    <tr>\n",
       "      <th>3</th>\n",
       "      <td>Bayview Heights</td>\n",
       "      <td>590.792839</td>\n",
       "      <td>382295.0</td>\n",
       "      <td>3739.000000</td>\n",
       "    </tr>\n",
       "    <tr>\n",
       "      <th>4</th>\n",
       "      <td>Bernal Heights</td>\n",
       "      <td>576.746488</td>\n",
       "      <td>379374.5</td>\n",
       "      <td>3080.333333</td>\n",
       "    </tr>\n",
       "  </tbody>\n",
       "</table>\n",
       "</div>"
      ],
      "text/plain": [
       "      neighborhood  sale_price_sqr_foot  housing_units   gross_rent\n",
       "0     Alamo Square           366.020712       378401.0  2817.285714\n",
       "1       Anza Vista           373.382198       379050.0  3031.833333\n",
       "2          Bayview           204.588623       376454.0  2318.400000\n",
       "3  Bayview Heights           590.792839       382295.0  3739.000000\n",
       "4  Bernal Heights            576.746488       379374.5  3080.333333"
      ]
     },
     "execution_count": 76,
     "metadata": {},
     "output_type": "execute_result"
    }
   ],
   "source": [
    "# Calculate the mean values for each neighborhood\n",
    "sfo_avg_neighbor = sfo_data.groupby(\"neighborhood\").mean()[[\"sale_price_sqr_foot\",\"housing_units\", \"gross_rent\"]].reset_index()\n",
    "sfo_avg_neighbor.head()"
   ]
  },
  {
   "cell_type": "code",
   "execution_count": 77,
   "id": "3ed37e3b",
   "metadata": {},
   "outputs": [
    {
     "data": {
      "text/html": [
       "<div>\n",
       "<style scoped>\n",
       "    .dataframe tbody tr th:only-of-type {\n",
       "        vertical-align: middle;\n",
       "    }\n",
       "\n",
       "    .dataframe tbody tr th {\n",
       "        vertical-align: top;\n",
       "    }\n",
       "\n",
       "    .dataframe thead th {\n",
       "        text-align: right;\n",
       "    }\n",
       "</style>\n",
       "<table border=\"1\" class=\"dataframe\">\n",
       "  <thead>\n",
       "    <tr style=\"text-align: right;\">\n",
       "      <th></th>\n",
       "      <th>Neighborhood</th>\n",
       "      <th>Lat</th>\n",
       "      <th>Lon</th>\n",
       "      <th>sale_price_sqr_foot</th>\n",
       "      <th>housing_units</th>\n",
       "      <th>gross_rent</th>\n",
       "    </tr>\n",
       "  </thead>\n",
       "  <tbody>\n",
       "    <tr>\n",
       "      <th>0</th>\n",
       "      <td>Alamo Square</td>\n",
       "      <td>37.791012</td>\n",
       "      <td>-122.402100</td>\n",
       "      <td>366.020712</td>\n",
       "      <td>378401.0</td>\n",
       "      <td>2817.285714</td>\n",
       "    </tr>\n",
       "    <tr>\n",
       "      <th>1</th>\n",
       "      <td>Anza Vista</td>\n",
       "      <td>37.779598</td>\n",
       "      <td>-122.443451</td>\n",
       "      <td>373.382198</td>\n",
       "      <td>379050.0</td>\n",
       "      <td>3031.833333</td>\n",
       "    </tr>\n",
       "    <tr>\n",
       "      <th>2</th>\n",
       "      <td>Bayview</td>\n",
       "      <td>37.734670</td>\n",
       "      <td>-122.401060</td>\n",
       "      <td>204.588623</td>\n",
       "      <td>376454.0</td>\n",
       "      <td>2318.400000</td>\n",
       "    </tr>\n",
       "    <tr>\n",
       "      <th>3</th>\n",
       "      <td>Bayview Heights</td>\n",
       "      <td>37.728740</td>\n",
       "      <td>-122.410980</td>\n",
       "      <td>590.792839</td>\n",
       "      <td>382295.0</td>\n",
       "      <td>3739.000000</td>\n",
       "    </tr>\n",
       "    <tr>\n",
       "      <th>4</th>\n",
       "      <td>Bernal Heights</td>\n",
       "      <td>37.728630</td>\n",
       "      <td>-122.443050</td>\n",
       "      <td>576.746488</td>\n",
       "      <td>379374.5</td>\n",
       "      <td>3080.333333</td>\n",
       "    </tr>\n",
       "  </tbody>\n",
       "</table>\n",
       "</div>"
      ],
      "text/plain": [
       "      Neighborhood        Lat         Lon  sale_price_sqr_foot  housing_units  \\\n",
       "0     Alamo Square  37.791012 -122.402100           366.020712       378401.0   \n",
       "1       Anza Vista  37.779598 -122.443451           373.382198       379050.0   \n",
       "2          Bayview  37.734670 -122.401060           204.588623       376454.0   \n",
       "3  Bayview Heights  37.728740 -122.410980           590.792839       382295.0   \n",
       "4   Bernal Heights  37.728630 -122.443050           576.746488       379374.5   \n",
       "\n",
       "    gross_rent  \n",
       "0  2817.285714  \n",
       "1  3031.833333  \n",
       "2  2318.400000  \n",
       "3  3739.000000  \n",
       "4  3080.333333  "
      ]
     },
     "execution_count": 77,
     "metadata": {},
     "output_type": "execute_result"
    }
   ],
   "source": [
    "# Join the average values with the neighborhood locations\n",
    "combined_df = pd.concat([loc_data, sfo_avg_neighbor], axis = \"columns\", join = \"inner\").drop(columns=[\"neighborhood\"])\n",
    "combined_df.head()"
   ]
  },
  {
   "cell_type": "markdown",
   "id": "529890e2",
   "metadata": {},
   "source": [
    "Mapbox Visualization\n",
    "Plot the average values per neighborhood using a Plotly express scatter_mapbox visualization."
   ]
  },
  {
   "cell_type": "code",
   "execution_count": 119,
   "id": "1ff30cff",
   "metadata": {},
   "outputs": [
    {
     "data": {
      "application/vnd.plotly.v1+json": {
       "config": {
        "plotlyServerURL": "https://plot.ly"
       },
       "data": [
        {
         "customdata": [
          [
           366.02071153227644
          ],
          [
           373.382197826477
          ],
          [
           204.58862288246596
          ],
          [
           590.7928388746803
          ],
          [
           576.7464881132382
          ],
          [
           452.6805909308441
          ],
          [
           394.42239878005887
          ],
          [
           423.68792770158234
          ],
          [
           487.2448860262576
          ],
          [
           587.5390673661739
          ],
          [
           665.9640415783227
          ],
          [
           303.0041844084943
          ],
          [
           434.9917394452212
          ],
          [
           391.43437776742576
          ],
          [
           502.59915555623616
          ],
          [
           642.2486706357391
          ],
          [
           388.7659270023075
          ],
          [
           391.36253308010487
          ],
          [
           455.83621223779153
          ],
          [
           321.84083657398736
          ],
          [
           623.8261775374349
          ],
          [
           639.3935574881156
          ],
          [
           449.5447622856192
          ],
          [
           355.93282794805776
          ],
          [
           170.62491987132685
          ],
          [
           367.8951440852775
          ],
          [
           384.7979281346047
          ],
          [
           397.67371473613446
          ],
          [
           519.3856038526768
          ],
          [
           378.5943139613646
          ],
          [
           413.66751546215943
          ],
          [
           529.3841850673389
          ],
          [
           409.95435219297514
          ],
          [
           478.2285530213679
          ],
          [
           539.237968878326
          ],
          [
           583.7492694814548
          ],
          [
           788.8448175872469
          ],
          [
           550.5103482917151
          ],
          [
           779.810842264425
          ],
          [
           566.1922135483312
          ],
          [
           418.9156225067234
          ],
          [
           523.4662013248023
          ],
          [
           458.2040944846015
          ],
          [
           542.4429128151736
          ],
          [
           411.646875881678
          ],
          [
           498.2697550078768
          ],
          [
           330.0973846552545
          ],
          [
           242.37095202049665
          ],
          [
           485.0270126111035
          ],
          [
           473.90077331796317
          ],
          [
           394.21903228550775
          ],
          [
           689.5558168113664
          ],
          [
           373.73285637176303
          ],
          [
           336.172661037069
          ],
          [
           632.740453508577
          ],
          [
           327.1139253464728
          ],
          [
           662.0136128276529
          ],
          [
           675.3502120510033
          ],
          [
           608.9832172374425
          ],
          [
           170.2925485152069
          ],
          [
           650.1244791945729
          ],
          [
           570.2714266991686
          ],
          [
           528.3183317138463
          ],
          [
           676.5065775293257
          ],
          [
           469.39862649935156
          ],
          [
           903.9932576720645
          ],
          [
           404.1501801622257
          ],
          [
           301.46617997450267
          ],
          [
           498.4884848295011
          ],
          [
           307.5622009799607
          ],
          [
           533.7039354359513
          ],
          [
           687.0875745178322
          ],
          [
           576.709848378276
          ]
         ],
         "hovertemplate": "<b>%{hovertext}</b><br><br>gross_rent=%{marker.color}<br>Lat=%{lat}<br>Lon=%{lon}<br>sale_price_sqr_foot=%{customdata[0]}<extra></extra>",
         "hovertext": [
          "Alamo Square",
          "Anza Vista",
          "Bayview",
          "Bayview Heights",
          "Bernal Heights",
          "Buena Vista Park",
          "Central Richmond",
          "Central Sunset",
          "Clarendon Heights",
          "Corona Heights",
          "Cow Hollow",
          "Croker Amazon",
          "Diamond Heights",
          "Downtown",
          "Duboce Triangle",
          "Eureka Valley/Dolores Heights",
          "Excelsior",
          "Financial District North",
          "Financial District South",
          "Forest Knolls",
          "Glen Park",
          "Golden Gate Heights",
          "Haight Ashbury",
          "Hayes Valley",
          "Hunters Point",
          "Ingleside",
          "Ingleside Heights",
          "Inner Mission",
          "Inner Parkside",
          "Inner Richmond",
          "Inner Sunset",
          "Jordan Park/Laurel Heights",
          "Lake --The Presidio",
          "Lone Mountain",
          "Lower Pacific Heights",
          "Marina",
          "Merced Heights",
          "Midtown Terrace",
          "Miraloma Park",
          "Mission Bay",
          "Mission Dolores",
          "Mission Terrace",
          "Nob Hill",
          "Noe Valley",
          "North Beach",
          "North Waterfront",
          "Oceanview",
          "Outer Mission",
          "Outer Parkside",
          "Outer Richmond",
          "Outer Sunset",
          "Pacific Heights",
          "Park North",
          "Parkside",
          "Parnassus/Ashbury Heights",
          "Portola",
          "Potrero Hill",
          "Presidio Heights",
          "Russian Hill",
          "Silver Terrace",
          "South Beach",
          "South of Market",
          "Sunnyside",
          "Telegraph Hill",
          "Twin Peaks",
          "Union Square District",
          "Van Ness/ Civic Center",
          "Visitacion Valley",
          "West Portal",
          "Western Addition",
          "Westwood Highlands",
          "Westwood Park",
          "Yerba Buena"
         ],
         "lat": [
          37.791012,
          37.779598,
          37.73467,
          37.72874,
          37.72863,
          37.76816,
          37.77789,
          37.74961,
          37.75331,
          37.78553,
          37.79298,
          37.7228,
          37.72863,
          37.79101,
          37.76964,
          37.75554,
          37.72874,
          37.79101,
          37.79101,
          37.75706,
          37.72863,
          37.757912,
          37.76525,
          37.76525,
          37.72551,
          37.721161,
          37.72116,
          37.75416,
          37.74961,
          37.769112,
          37.74961,
          37.78553,
          37.80152,
          37.7789,
          37.79298,
          37.79972,
          37.71993,
          37.75331,
          37.73415,
          37.78323,
          37.75184,
          37.72863,
          37.79298,
          37.75331,
          37.80055,
          37.80055,
          37.71993,
          37.7228,
          37.7517,
          37.76911,
          37.74961,
          37.79298,
          37.72838,
          37.74961,
          37.76355,
          37.73467,
          37.73196,
          37.78553,
          37.79298,
          37.73467,
          37.78323,
          37.79101,
          37.73415,
          37.80055,
          37.753311,
          37.79101,
          37.77951,
          37.72874,
          37.74026,
          37.79298,
          37.7347,
          37.73415,
          37.79298
         ],
         "legendgroup": "",
         "lon": [
          -122.4021,
          -122.443451,
          -122.40106,
          -122.41098,
          -122.44305,
          -122.43933,
          -122.44517,
          -122.48999,
          -122.44703,
          -122.456,
          -122.43579,
          -122.43869,
          -122.44305,
          -122.4021,
          -122.42611,
          -122.43779,
          -122.41098,
          -122.4021,
          -122.4021,
          -122.45509,
          -122.44305,
          -122.46402,
          -122.43596,
          -122.43596,
          -122.37178,
          -122.487068,
          -122.48707,
          -122.41947,
          -122.48999,
          -122.483566,
          -122.48997,
          -122.456,
          -122.45457,
          -122.45496,
          -122.43579,
          -122.46689,
          -122.46595,
          -122.44703,
          -122.457,
          -122.40065,
          -122.42522,
          -122.44305,
          -122.43579,
          -122.44703,
          -122.40433,
          -122.40433,
          -122.46595,
          -122.43869,
          -122.446,
          -122.48357,
          -122.48999,
          -122.43579,
          -122.47851,
          -122.48999,
          -122.45765,
          -122.40106,
          -122.38324,
          -122.456,
          -122.43579,
          -122.40106,
          -122.40065,
          -122.4021,
          -122.457,
          -122.40433,
          -122.447029,
          -122.4021,
          -122.42022,
          -122.41098,
          -122.46388,
          -122.43579,
          -122.456854,
          -122.457,
          -122.39636
         ],
         "marker": {
          "color": [
           2817.285714285714,
           3031.8333333333335,
           2318.4,
           3739,
           3080.3333333333335,
           2698.8333333333335,
           2817.285714285714,
           2817.285714285714,
           2250.5,
           2472,
           2817.285714285714,
           2698.8333333333335,
           2016,
           2817.285714285714,
           2780.25,
           2817.285714285714,
           3031.8333333333335,
           2817.285714285714,
           2472,
           1781.5,
           2899.5,
           2601.4,
           2817.285714285714,
           2817.285714285714,
           2489,
           2509,
           2960,
           2817.285714285714,
           3224,
           2817.285714285714,
           2817.285714285714,
           2817.285714285714,
           2555.1666666666665,
           2555.1666666666665,
           2817.285714285714,
           2817.285714285714,
           3414,
           2647.5,
           2155.25,
           2663.6666666666665,
           2555.1666666666665,
           3173.4,
           2817.285714285714,
           2817.285714285714,
           2990.8,
           2818.4,
           2434,
           2995.75,
           2817.285714285714,
           2817.285714285714,
           2817.285714285714,
           2817.285714285714,
           2817.285714285714,
           2555.1666666666665,
           2817.285714285714,
           2318.4,
           2817.285714285714,
           2817.285714285714,
           2817.285714285714,
           3528,
           2099,
           2817.285714285714,
           2899.5,
           2817.285714285714,
           2817.285714285714,
           2555.1666666666665,
           2817.285714285714,
           3657,
           2515.5,
           2555.1666666666665,
           2250.5,
           3959,
           2555.1666666666665
          ],
          "coloraxis": "coloraxis",
          "size": [
           2817.285714285714,
           3031.8333333333335,
           2318.4,
           3739,
           3080.3333333333335,
           2698.8333333333335,
           2817.285714285714,
           2817.285714285714,
           2250.5,
           2472,
           2817.285714285714,
           2698.8333333333335,
           2016,
           2817.285714285714,
           2780.25,
           2817.285714285714,
           3031.8333333333335,
           2817.285714285714,
           2472,
           1781.5,
           2899.5,
           2601.4,
           2817.285714285714,
           2817.285714285714,
           2489,
           2509,
           2960,
           2817.285714285714,
           3224,
           2817.285714285714,
           2817.285714285714,
           2817.285714285714,
           2555.1666666666665,
           2555.1666666666665,
           2817.285714285714,
           2817.285714285714,
           3414,
           2647.5,
           2155.25,
           2663.6666666666665,
           2555.1666666666665,
           3173.4,
           2817.285714285714,
           2817.285714285714,
           2990.8,
           2818.4,
           2434,
           2995.75,
           2817.285714285714,
           2817.285714285714,
           2817.285714285714,
           2817.285714285714,
           2817.285714285714,
           2555.1666666666665,
           2817.285714285714,
           2318.4,
           2817.285714285714,
           2817.285714285714,
           2817.285714285714,
           3528,
           2099,
           2817.285714285714,
           2899.5,
           2817.285714285714,
           2817.285714285714,
           2555.1666666666665,
           2817.285714285714,
           3657,
           2515.5,
           2555.1666666666665,
           2250.5,
           3959,
           2555.1666666666665
          ],
          "sizemode": "area",
          "sizeref": 9.8975
         },
         "mode": "markers",
         "name": "",
         "showlegend": false,
         "subplot": "mapbox",
         "type": "scattermapbox"
        }
       ],
       "layout": {
        "coloraxis": {
         "colorbar": {
          "title": {
           "text": "gross_rent"
          }
         },
         "colorscale": [
          [
           0,
           "#0d0887"
          ],
          [
           0.1111111111111111,
           "#46039f"
          ],
          [
           0.2222222222222222,
           "#7201a8"
          ],
          [
           0.3333333333333333,
           "#9c179e"
          ],
          [
           0.4444444444444444,
           "#bd3786"
          ],
          [
           0.5555555555555556,
           "#d8576b"
          ],
          [
           0.6666666666666666,
           "#ed7953"
          ],
          [
           0.7777777777777778,
           "#fb9f3a"
          ],
          [
           0.8888888888888888,
           "#fdca26"
          ],
          [
           1,
           "#f0f921"
          ]
         ]
        },
        "legend": {
         "itemsizing": "constant",
         "tracegroupgap": 0
        },
        "mapbox": {
         "accesstoken": "pk.eyJ1IjoiZ3NhbGR1dHRpIiwiYSI6ImNreWRpOGgzNTA3ajEycHNld28ycXZjYXQifQ.hz3B3yQbfEL7Spw59vuFXg",
         "center": {
          "lat": 37.76019350684932,
          "lon": -122.43912380821916
         },
         "domain": {
          "x": [
           0,
           1
          ],
          "y": [
           0,
           1
          ]
         },
         "zoom": 10.5
        },
        "template": {
         "data": {
          "bar": [
           {
            "error_x": {
             "color": "#2a3f5f"
            },
            "error_y": {
             "color": "#2a3f5f"
            },
            "marker": {
             "line": {
              "color": "#E5ECF6",
              "width": 0.5
             },
             "pattern": {
              "fillmode": "overlay",
              "size": 10,
              "solidity": 0.2
             }
            },
            "type": "bar"
           }
          ],
          "barpolar": [
           {
            "marker": {
             "line": {
              "color": "#E5ECF6",
              "width": 0.5
             },
             "pattern": {
              "fillmode": "overlay",
              "size": 10,
              "solidity": 0.2
             }
            },
            "type": "barpolar"
           }
          ],
          "carpet": [
           {
            "aaxis": {
             "endlinecolor": "#2a3f5f",
             "gridcolor": "white",
             "linecolor": "white",
             "minorgridcolor": "white",
             "startlinecolor": "#2a3f5f"
            },
            "baxis": {
             "endlinecolor": "#2a3f5f",
             "gridcolor": "white",
             "linecolor": "white",
             "minorgridcolor": "white",
             "startlinecolor": "#2a3f5f"
            },
            "type": "carpet"
           }
          ],
          "choropleth": [
           {
            "colorbar": {
             "outlinewidth": 0,
             "ticks": ""
            },
            "type": "choropleth"
           }
          ],
          "contour": [
           {
            "colorbar": {
             "outlinewidth": 0,
             "ticks": ""
            },
            "colorscale": [
             [
              0,
              "#0d0887"
             ],
             [
              0.1111111111111111,
              "#46039f"
             ],
             [
              0.2222222222222222,
              "#7201a8"
             ],
             [
              0.3333333333333333,
              "#9c179e"
             ],
             [
              0.4444444444444444,
              "#bd3786"
             ],
             [
              0.5555555555555556,
              "#d8576b"
             ],
             [
              0.6666666666666666,
              "#ed7953"
             ],
             [
              0.7777777777777778,
              "#fb9f3a"
             ],
             [
              0.8888888888888888,
              "#fdca26"
             ],
             [
              1,
              "#f0f921"
             ]
            ],
            "type": "contour"
           }
          ],
          "contourcarpet": [
           {
            "colorbar": {
             "outlinewidth": 0,
             "ticks": ""
            },
            "type": "contourcarpet"
           }
          ],
          "heatmap": [
           {
            "colorbar": {
             "outlinewidth": 0,
             "ticks": ""
            },
            "colorscale": [
             [
              0,
              "#0d0887"
             ],
             [
              0.1111111111111111,
              "#46039f"
             ],
             [
              0.2222222222222222,
              "#7201a8"
             ],
             [
              0.3333333333333333,
              "#9c179e"
             ],
             [
              0.4444444444444444,
              "#bd3786"
             ],
             [
              0.5555555555555556,
              "#d8576b"
             ],
             [
              0.6666666666666666,
              "#ed7953"
             ],
             [
              0.7777777777777778,
              "#fb9f3a"
             ],
             [
              0.8888888888888888,
              "#fdca26"
             ],
             [
              1,
              "#f0f921"
             ]
            ],
            "type": "heatmap"
           }
          ],
          "heatmapgl": [
           {
            "colorbar": {
             "outlinewidth": 0,
             "ticks": ""
            },
            "colorscale": [
             [
              0,
              "#0d0887"
             ],
             [
              0.1111111111111111,
              "#46039f"
             ],
             [
              0.2222222222222222,
              "#7201a8"
             ],
             [
              0.3333333333333333,
              "#9c179e"
             ],
             [
              0.4444444444444444,
              "#bd3786"
             ],
             [
              0.5555555555555556,
              "#d8576b"
             ],
             [
              0.6666666666666666,
              "#ed7953"
             ],
             [
              0.7777777777777778,
              "#fb9f3a"
             ],
             [
              0.8888888888888888,
              "#fdca26"
             ],
             [
              1,
              "#f0f921"
             ]
            ],
            "type": "heatmapgl"
           }
          ],
          "histogram": [
           {
            "marker": {
             "pattern": {
              "fillmode": "overlay",
              "size": 10,
              "solidity": 0.2
             }
            },
            "type": "histogram"
           }
          ],
          "histogram2d": [
           {
            "colorbar": {
             "outlinewidth": 0,
             "ticks": ""
            },
            "colorscale": [
             [
              0,
              "#0d0887"
             ],
             [
              0.1111111111111111,
              "#46039f"
             ],
             [
              0.2222222222222222,
              "#7201a8"
             ],
             [
              0.3333333333333333,
              "#9c179e"
             ],
             [
              0.4444444444444444,
              "#bd3786"
             ],
             [
              0.5555555555555556,
              "#d8576b"
             ],
             [
              0.6666666666666666,
              "#ed7953"
             ],
             [
              0.7777777777777778,
              "#fb9f3a"
             ],
             [
              0.8888888888888888,
              "#fdca26"
             ],
             [
              1,
              "#f0f921"
             ]
            ],
            "type": "histogram2d"
           }
          ],
          "histogram2dcontour": [
           {
            "colorbar": {
             "outlinewidth": 0,
             "ticks": ""
            },
            "colorscale": [
             [
              0,
              "#0d0887"
             ],
             [
              0.1111111111111111,
              "#46039f"
             ],
             [
              0.2222222222222222,
              "#7201a8"
             ],
             [
              0.3333333333333333,
              "#9c179e"
             ],
             [
              0.4444444444444444,
              "#bd3786"
             ],
             [
              0.5555555555555556,
              "#d8576b"
             ],
             [
              0.6666666666666666,
              "#ed7953"
             ],
             [
              0.7777777777777778,
              "#fb9f3a"
             ],
             [
              0.8888888888888888,
              "#fdca26"
             ],
             [
              1,
              "#f0f921"
             ]
            ],
            "type": "histogram2dcontour"
           }
          ],
          "mesh3d": [
           {
            "colorbar": {
             "outlinewidth": 0,
             "ticks": ""
            },
            "type": "mesh3d"
           }
          ],
          "parcoords": [
           {
            "line": {
             "colorbar": {
              "outlinewidth": 0,
              "ticks": ""
             }
            },
            "type": "parcoords"
           }
          ],
          "pie": [
           {
            "automargin": true,
            "type": "pie"
           }
          ],
          "scatter": [
           {
            "marker": {
             "colorbar": {
              "outlinewidth": 0,
              "ticks": ""
             }
            },
            "type": "scatter"
           }
          ],
          "scatter3d": [
           {
            "line": {
             "colorbar": {
              "outlinewidth": 0,
              "ticks": ""
             }
            },
            "marker": {
             "colorbar": {
              "outlinewidth": 0,
              "ticks": ""
             }
            },
            "type": "scatter3d"
           }
          ],
          "scattercarpet": [
           {
            "marker": {
             "colorbar": {
              "outlinewidth": 0,
              "ticks": ""
             }
            },
            "type": "scattercarpet"
           }
          ],
          "scattergeo": [
           {
            "marker": {
             "colorbar": {
              "outlinewidth": 0,
              "ticks": ""
             }
            },
            "type": "scattergeo"
           }
          ],
          "scattergl": [
           {
            "marker": {
             "colorbar": {
              "outlinewidth": 0,
              "ticks": ""
             }
            },
            "type": "scattergl"
           }
          ],
          "scattermapbox": [
           {
            "marker": {
             "colorbar": {
              "outlinewidth": 0,
              "ticks": ""
             }
            },
            "type": "scattermapbox"
           }
          ],
          "scatterpolar": [
           {
            "marker": {
             "colorbar": {
              "outlinewidth": 0,
              "ticks": ""
             }
            },
            "type": "scatterpolar"
           }
          ],
          "scatterpolargl": [
           {
            "marker": {
             "colorbar": {
              "outlinewidth": 0,
              "ticks": ""
             }
            },
            "type": "scatterpolargl"
           }
          ],
          "scatterternary": [
           {
            "marker": {
             "colorbar": {
              "outlinewidth": 0,
              "ticks": ""
             }
            },
            "type": "scatterternary"
           }
          ],
          "surface": [
           {
            "colorbar": {
             "outlinewidth": 0,
             "ticks": ""
            },
            "colorscale": [
             [
              0,
              "#0d0887"
             ],
             [
              0.1111111111111111,
              "#46039f"
             ],
             [
              0.2222222222222222,
              "#7201a8"
             ],
             [
              0.3333333333333333,
              "#9c179e"
             ],
             [
              0.4444444444444444,
              "#bd3786"
             ],
             [
              0.5555555555555556,
              "#d8576b"
             ],
             [
              0.6666666666666666,
              "#ed7953"
             ],
             [
              0.7777777777777778,
              "#fb9f3a"
             ],
             [
              0.8888888888888888,
              "#fdca26"
             ],
             [
              1,
              "#f0f921"
             ]
            ],
            "type": "surface"
           }
          ],
          "table": [
           {
            "cells": {
             "fill": {
              "color": "#EBF0F8"
             },
             "line": {
              "color": "white"
             }
            },
            "header": {
             "fill": {
              "color": "#C8D4E3"
             },
             "line": {
              "color": "white"
             }
            },
            "type": "table"
           }
          ]
         },
         "layout": {
          "annotationdefaults": {
           "arrowcolor": "#2a3f5f",
           "arrowhead": 0,
           "arrowwidth": 1
          },
          "autotypenumbers": "strict",
          "coloraxis": {
           "colorbar": {
            "outlinewidth": 0,
            "ticks": ""
           }
          },
          "colorscale": {
           "diverging": [
            [
             0,
             "#8e0152"
            ],
            [
             0.1,
             "#c51b7d"
            ],
            [
             0.2,
             "#de77ae"
            ],
            [
             0.3,
             "#f1b6da"
            ],
            [
             0.4,
             "#fde0ef"
            ],
            [
             0.5,
             "#f7f7f7"
            ],
            [
             0.6,
             "#e6f5d0"
            ],
            [
             0.7,
             "#b8e186"
            ],
            [
             0.8,
             "#7fbc41"
            ],
            [
             0.9,
             "#4d9221"
            ],
            [
             1,
             "#276419"
            ]
           ],
           "sequential": [
            [
             0,
             "#0d0887"
            ],
            [
             0.1111111111111111,
             "#46039f"
            ],
            [
             0.2222222222222222,
             "#7201a8"
            ],
            [
             0.3333333333333333,
             "#9c179e"
            ],
            [
             0.4444444444444444,
             "#bd3786"
            ],
            [
             0.5555555555555556,
             "#d8576b"
            ],
            [
             0.6666666666666666,
             "#ed7953"
            ],
            [
             0.7777777777777778,
             "#fb9f3a"
            ],
            [
             0.8888888888888888,
             "#fdca26"
            ],
            [
             1,
             "#f0f921"
            ]
           ],
           "sequentialminus": [
            [
             0,
             "#0d0887"
            ],
            [
             0.1111111111111111,
             "#46039f"
            ],
            [
             0.2222222222222222,
             "#7201a8"
            ],
            [
             0.3333333333333333,
             "#9c179e"
            ],
            [
             0.4444444444444444,
             "#bd3786"
            ],
            [
             0.5555555555555556,
             "#d8576b"
            ],
            [
             0.6666666666666666,
             "#ed7953"
            ],
            [
             0.7777777777777778,
             "#fb9f3a"
            ],
            [
             0.8888888888888888,
             "#fdca26"
            ],
            [
             1,
             "#f0f921"
            ]
           ]
          },
          "colorway": [
           "#636efa",
           "#EF553B",
           "#00cc96",
           "#ab63fa",
           "#FFA15A",
           "#19d3f3",
           "#FF6692",
           "#B6E880",
           "#FF97FF",
           "#FECB52"
          ],
          "font": {
           "color": "#2a3f5f"
          },
          "geo": {
           "bgcolor": "white",
           "lakecolor": "white",
           "landcolor": "#E5ECF6",
           "showlakes": true,
           "showland": true,
           "subunitcolor": "white"
          },
          "hoverlabel": {
           "align": "left"
          },
          "hovermode": "closest",
          "mapbox": {
           "style": "light"
          },
          "paper_bgcolor": "white",
          "plot_bgcolor": "#E5ECF6",
          "polar": {
           "angularaxis": {
            "gridcolor": "white",
            "linecolor": "white",
            "ticks": ""
           },
           "bgcolor": "#E5ECF6",
           "radialaxis": {
            "gridcolor": "white",
            "linecolor": "white",
            "ticks": ""
           }
          },
          "scene": {
           "xaxis": {
            "backgroundcolor": "#E5ECF6",
            "gridcolor": "white",
            "gridwidth": 2,
            "linecolor": "white",
            "showbackground": true,
            "ticks": "",
            "zerolinecolor": "white"
           },
           "yaxis": {
            "backgroundcolor": "#E5ECF6",
            "gridcolor": "white",
            "gridwidth": 2,
            "linecolor": "white",
            "showbackground": true,
            "ticks": "",
            "zerolinecolor": "white"
           },
           "zaxis": {
            "backgroundcolor": "#E5ECF6",
            "gridcolor": "white",
            "gridwidth": 2,
            "linecolor": "white",
            "showbackground": true,
            "ticks": "",
            "zerolinecolor": "white"
           }
          },
          "shapedefaults": {
           "line": {
            "color": "#2a3f5f"
           }
          },
          "ternary": {
           "aaxis": {
            "gridcolor": "white",
            "linecolor": "white",
            "ticks": ""
           },
           "baxis": {
            "gridcolor": "white",
            "linecolor": "white",
            "ticks": ""
           },
           "bgcolor": "#E5ECF6",
           "caxis": {
            "gridcolor": "white",
            "linecolor": "white",
            "ticks": ""
           }
          },
          "title": {
           "x": 0.05
          },
          "xaxis": {
           "automargin": true,
           "gridcolor": "white",
           "linecolor": "white",
           "ticks": "",
           "title": {
            "standoff": 15
           },
           "zerolinecolor": "white",
           "zerolinewidth": 2
          },
          "yaxis": {
           "automargin": true,
           "gridcolor": "white",
           "linecolor": "white",
           "ticks": "",
           "title": {
            "standoff": 15
           },
           "zerolinecolor": "white",
           "zerolinewidth": 2
          }
         }
        },
        "title": {
         "text": "Average Sales Price Per Square Foot and Gross Rent in San Francisco"
        }
       }
      },
      "text/html": [
       "<div>                            <div id=\"c4374efe-a796-44fd-a827-fdf3d5f63148\" class=\"plotly-graph-div\" style=\"height:525px; width:100%;\"></div>            <script type=\"text/javascript\">                require([\"plotly\"], function(Plotly) {                    window.PLOTLYENV=window.PLOTLYENV || {};                                    if (document.getElementById(\"c4374efe-a796-44fd-a827-fdf3d5f63148\")) {                    Plotly.newPlot(                        \"c4374efe-a796-44fd-a827-fdf3d5f63148\",                        [{\"customdata\":[[366.02071153227644],[373.382197826477],[204.58862288246596],[590.7928388746803],[576.7464881132382],[452.6805909308441],[394.42239878005887],[423.68792770158234],[487.2448860262576],[587.5390673661739],[665.9640415783227],[303.0041844084943],[434.9917394452212],[391.43437776742576],[502.59915555623616],[642.2486706357391],[388.7659270023075],[391.36253308010487],[455.83621223779153],[321.84083657398736],[623.8261775374349],[639.3935574881156],[449.5447622856192],[355.93282794805776],[170.62491987132685],[367.8951440852775],[384.7979281346047],[397.67371473613446],[519.3856038526768],[378.5943139613646],[413.66751546215943],[529.3841850673389],[409.95435219297514],[478.2285530213679],[539.237968878326],[583.7492694814548],[788.8448175872469],[550.5103482917151],[779.810842264425],[566.1922135483312],[418.9156225067234],[523.4662013248023],[458.2040944846015],[542.4429128151736],[411.646875881678],[498.2697550078768],[330.0973846552545],[242.37095202049665],[485.0270126111035],[473.90077331796317],[394.21903228550775],[689.5558168113664],[373.73285637176303],[336.172661037069],[632.740453508577],[327.1139253464728],[662.0136128276529],[675.3502120510033],[608.9832172374425],[170.2925485152069],[650.1244791945729],[570.2714266991686],[528.3183317138463],[676.5065775293257],[469.39862649935156],[903.9932576720645],[404.1501801622257],[301.46617997450267],[498.4884848295011],[307.5622009799607],[533.7039354359513],[687.0875745178322],[576.709848378276]],\"hovertemplate\":\"<b>%{hovertext}</b><br><br>gross_rent=%{marker.color}<br>Lat=%{lat}<br>Lon=%{lon}<br>sale_price_sqr_foot=%{customdata[0]}<extra></extra>\",\"hovertext\":[\"Alamo Square\",\"Anza Vista\",\"Bayview\",\"Bayview Heights\",\"Bernal Heights\",\"Buena Vista Park\",\"Central Richmond\",\"Central Sunset\",\"Clarendon Heights\",\"Corona Heights\",\"Cow Hollow\",\"Croker Amazon\",\"Diamond Heights\",\"Downtown\",\"Duboce Triangle\",\"Eureka Valley/Dolores Heights\",\"Excelsior\",\"Financial District North\",\"Financial District South\",\"Forest Knolls\",\"Glen Park\",\"Golden Gate Heights\",\"Haight Ashbury\",\"Hayes Valley\",\"Hunters Point\",\"Ingleside\",\"Ingleside Heights\",\"Inner Mission\",\"Inner Parkside\",\"Inner Richmond\",\"Inner Sunset\",\"Jordan Park/Laurel Heights\",\"Lake --The Presidio\",\"Lone Mountain\",\"Lower Pacific Heights\",\"Marina\",\"Merced Heights\",\"Midtown Terrace\",\"Miraloma Park\",\"Mission Bay\",\"Mission Dolores\",\"Mission Terrace\",\"Nob Hill\",\"Noe Valley\",\"North Beach\",\"North Waterfront\",\"Oceanview\",\"Outer Mission\",\"Outer Parkside\",\"Outer Richmond\",\"Outer Sunset\",\"Pacific Heights\",\"Park North\",\"Parkside\",\"Parnassus/Ashbury Heights\",\"Portola\",\"Potrero Hill\",\"Presidio Heights\",\"Russian Hill\",\"Silver Terrace\",\"South Beach\",\"South of Market\",\"Sunnyside\",\"Telegraph Hill\",\"Twin Peaks\",\"Union Square District\",\"Van Ness/ Civic Center\",\"Visitacion Valley\",\"West Portal\",\"Western Addition\",\"Westwood Highlands\",\"Westwood Park\",\"Yerba Buena\"],\"lat\":[37.791012,37.779598,37.73467,37.72874,37.72863,37.76816,37.77789,37.74961,37.75331,37.78553,37.79298,37.7228,37.72863,37.79101,37.76964,37.75554,37.72874,37.79101,37.79101,37.75706,37.72863,37.757912,37.76525,37.76525,37.72551,37.721161,37.72116,37.75416,37.74961,37.769112,37.74961,37.78553,37.80152,37.7789,37.79298,37.79972,37.71993,37.75331,37.73415,37.78323,37.75184,37.72863,37.79298,37.75331,37.80055,37.80055,37.71993,37.7228,37.7517,37.76911,37.74961,37.79298,37.72838,37.74961,37.76355,37.73467,37.73196,37.78553,37.79298,37.73467,37.78323,37.79101,37.73415,37.80055,37.753311,37.79101,37.77951,37.72874,37.74026,37.79298,37.7347,37.73415,37.79298],\"legendgroup\":\"\",\"lon\":[-122.4021,-122.443451,-122.40106,-122.41098,-122.44305,-122.43933,-122.44517,-122.48999,-122.44703,-122.456,-122.43579,-122.43869,-122.44305,-122.4021,-122.42611,-122.43779,-122.41098,-122.4021,-122.4021,-122.45509,-122.44305,-122.46402,-122.43596,-122.43596,-122.37178,-122.487068,-122.48707,-122.41947,-122.48999,-122.483566,-122.48997,-122.456,-122.45457,-122.45496,-122.43579,-122.46689,-122.46595,-122.44703,-122.457,-122.40065,-122.42522,-122.44305,-122.43579,-122.44703,-122.40433,-122.40433,-122.46595,-122.43869,-122.446,-122.48357,-122.48999,-122.43579,-122.47851,-122.48999,-122.45765,-122.40106,-122.38324,-122.456,-122.43579,-122.40106,-122.40065,-122.4021,-122.457,-122.40433,-122.447029,-122.4021,-122.42022,-122.41098,-122.46388,-122.43579,-122.456854,-122.457,-122.39636],\"marker\":{\"color\":[2817.285714285714,3031.8333333333335,2318.4,3739.0,3080.3333333333335,2698.8333333333335,2817.285714285714,2817.285714285714,2250.5,2472.0,2817.285714285714,2698.8333333333335,2016.0,2817.285714285714,2780.25,2817.285714285714,3031.8333333333335,2817.285714285714,2472.0,1781.5,2899.5,2601.4,2817.285714285714,2817.285714285714,2489.0,2509.0,2960.0,2817.285714285714,3224.0,2817.285714285714,2817.285714285714,2817.285714285714,2555.1666666666665,2555.1666666666665,2817.285714285714,2817.285714285714,3414.0,2647.5,2155.25,2663.6666666666665,2555.1666666666665,3173.4,2817.285714285714,2817.285714285714,2990.8,2818.4,2434.0,2995.75,2817.285714285714,2817.285714285714,2817.285714285714,2817.285714285714,2817.285714285714,2555.1666666666665,2817.285714285714,2318.4,2817.285714285714,2817.285714285714,2817.285714285714,3528.0,2099.0,2817.285714285714,2899.5,2817.285714285714,2817.285714285714,2555.1666666666665,2817.285714285714,3657.0,2515.5,2555.1666666666665,2250.5,3959.0,2555.1666666666665],\"coloraxis\":\"coloraxis\",\"size\":[2817.285714285714,3031.8333333333335,2318.4,3739.0,3080.3333333333335,2698.8333333333335,2817.285714285714,2817.285714285714,2250.5,2472.0,2817.285714285714,2698.8333333333335,2016.0,2817.285714285714,2780.25,2817.285714285714,3031.8333333333335,2817.285714285714,2472.0,1781.5,2899.5,2601.4,2817.285714285714,2817.285714285714,2489.0,2509.0,2960.0,2817.285714285714,3224.0,2817.285714285714,2817.285714285714,2817.285714285714,2555.1666666666665,2555.1666666666665,2817.285714285714,2817.285714285714,3414.0,2647.5,2155.25,2663.6666666666665,2555.1666666666665,3173.4,2817.285714285714,2817.285714285714,2990.8,2818.4,2434.0,2995.75,2817.285714285714,2817.285714285714,2817.285714285714,2817.285714285714,2817.285714285714,2555.1666666666665,2817.285714285714,2318.4,2817.285714285714,2817.285714285714,2817.285714285714,3528.0,2099.0,2817.285714285714,2899.5,2817.285714285714,2817.285714285714,2555.1666666666665,2817.285714285714,3657.0,2515.5,2555.1666666666665,2250.5,3959.0,2555.1666666666665],\"sizemode\":\"area\",\"sizeref\":9.8975},\"mode\":\"markers\",\"name\":\"\",\"showlegend\":false,\"subplot\":\"mapbox\",\"type\":\"scattermapbox\"}],                        {\"template\":{\"data\":{\"bar\":[{\"error_x\":{\"color\":\"#2a3f5f\"},\"error_y\":{\"color\":\"#2a3f5f\"},\"marker\":{\"line\":{\"color\":\"#E5ECF6\",\"width\":0.5},\"pattern\":{\"fillmode\":\"overlay\",\"size\":10,\"solidity\":0.2}},\"type\":\"bar\"}],\"barpolar\":[{\"marker\":{\"line\":{\"color\":\"#E5ECF6\",\"width\":0.5},\"pattern\":{\"fillmode\":\"overlay\",\"size\":10,\"solidity\":0.2}},\"type\":\"barpolar\"}],\"carpet\":[{\"aaxis\":{\"endlinecolor\":\"#2a3f5f\",\"gridcolor\":\"white\",\"linecolor\":\"white\",\"minorgridcolor\":\"white\",\"startlinecolor\":\"#2a3f5f\"},\"baxis\":{\"endlinecolor\":\"#2a3f5f\",\"gridcolor\":\"white\",\"linecolor\":\"white\",\"minorgridcolor\":\"white\",\"startlinecolor\":\"#2a3f5f\"},\"type\":\"carpet\"}],\"choropleth\":[{\"colorbar\":{\"outlinewidth\":0,\"ticks\":\"\"},\"type\":\"choropleth\"}],\"contour\":[{\"colorbar\":{\"outlinewidth\":0,\"ticks\":\"\"},\"colorscale\":[[0.0,\"#0d0887\"],[0.1111111111111111,\"#46039f\"],[0.2222222222222222,\"#7201a8\"],[0.3333333333333333,\"#9c179e\"],[0.4444444444444444,\"#bd3786\"],[0.5555555555555556,\"#d8576b\"],[0.6666666666666666,\"#ed7953\"],[0.7777777777777778,\"#fb9f3a\"],[0.8888888888888888,\"#fdca26\"],[1.0,\"#f0f921\"]],\"type\":\"contour\"}],\"contourcarpet\":[{\"colorbar\":{\"outlinewidth\":0,\"ticks\":\"\"},\"type\":\"contourcarpet\"}],\"heatmap\":[{\"colorbar\":{\"outlinewidth\":0,\"ticks\":\"\"},\"colorscale\":[[0.0,\"#0d0887\"],[0.1111111111111111,\"#46039f\"],[0.2222222222222222,\"#7201a8\"],[0.3333333333333333,\"#9c179e\"],[0.4444444444444444,\"#bd3786\"],[0.5555555555555556,\"#d8576b\"],[0.6666666666666666,\"#ed7953\"],[0.7777777777777778,\"#fb9f3a\"],[0.8888888888888888,\"#fdca26\"],[1.0,\"#f0f921\"]],\"type\":\"heatmap\"}],\"heatmapgl\":[{\"colorbar\":{\"outlinewidth\":0,\"ticks\":\"\"},\"colorscale\":[[0.0,\"#0d0887\"],[0.1111111111111111,\"#46039f\"],[0.2222222222222222,\"#7201a8\"],[0.3333333333333333,\"#9c179e\"],[0.4444444444444444,\"#bd3786\"],[0.5555555555555556,\"#d8576b\"],[0.6666666666666666,\"#ed7953\"],[0.7777777777777778,\"#fb9f3a\"],[0.8888888888888888,\"#fdca26\"],[1.0,\"#f0f921\"]],\"type\":\"heatmapgl\"}],\"histogram\":[{\"marker\":{\"pattern\":{\"fillmode\":\"overlay\",\"size\":10,\"solidity\":0.2}},\"type\":\"histogram\"}],\"histogram2d\":[{\"colorbar\":{\"outlinewidth\":0,\"ticks\":\"\"},\"colorscale\":[[0.0,\"#0d0887\"],[0.1111111111111111,\"#46039f\"],[0.2222222222222222,\"#7201a8\"],[0.3333333333333333,\"#9c179e\"],[0.4444444444444444,\"#bd3786\"],[0.5555555555555556,\"#d8576b\"],[0.6666666666666666,\"#ed7953\"],[0.7777777777777778,\"#fb9f3a\"],[0.8888888888888888,\"#fdca26\"],[1.0,\"#f0f921\"]],\"type\":\"histogram2d\"}],\"histogram2dcontour\":[{\"colorbar\":{\"outlinewidth\":0,\"ticks\":\"\"},\"colorscale\":[[0.0,\"#0d0887\"],[0.1111111111111111,\"#46039f\"],[0.2222222222222222,\"#7201a8\"],[0.3333333333333333,\"#9c179e\"],[0.4444444444444444,\"#bd3786\"],[0.5555555555555556,\"#d8576b\"],[0.6666666666666666,\"#ed7953\"],[0.7777777777777778,\"#fb9f3a\"],[0.8888888888888888,\"#fdca26\"],[1.0,\"#f0f921\"]],\"type\":\"histogram2dcontour\"}],\"mesh3d\":[{\"colorbar\":{\"outlinewidth\":0,\"ticks\":\"\"},\"type\":\"mesh3d\"}],\"parcoords\":[{\"line\":{\"colorbar\":{\"outlinewidth\":0,\"ticks\":\"\"}},\"type\":\"parcoords\"}],\"pie\":[{\"automargin\":true,\"type\":\"pie\"}],\"scatter\":[{\"marker\":{\"colorbar\":{\"outlinewidth\":0,\"ticks\":\"\"}},\"type\":\"scatter\"}],\"scatter3d\":[{\"line\":{\"colorbar\":{\"outlinewidth\":0,\"ticks\":\"\"}},\"marker\":{\"colorbar\":{\"outlinewidth\":0,\"ticks\":\"\"}},\"type\":\"scatter3d\"}],\"scattercarpet\":[{\"marker\":{\"colorbar\":{\"outlinewidth\":0,\"ticks\":\"\"}},\"type\":\"scattercarpet\"}],\"scattergeo\":[{\"marker\":{\"colorbar\":{\"outlinewidth\":0,\"ticks\":\"\"}},\"type\":\"scattergeo\"}],\"scattergl\":[{\"marker\":{\"colorbar\":{\"outlinewidth\":0,\"ticks\":\"\"}},\"type\":\"scattergl\"}],\"scattermapbox\":[{\"marker\":{\"colorbar\":{\"outlinewidth\":0,\"ticks\":\"\"}},\"type\":\"scattermapbox\"}],\"scatterpolar\":[{\"marker\":{\"colorbar\":{\"outlinewidth\":0,\"ticks\":\"\"}},\"type\":\"scatterpolar\"}],\"scatterpolargl\":[{\"marker\":{\"colorbar\":{\"outlinewidth\":0,\"ticks\":\"\"}},\"type\":\"scatterpolargl\"}],\"scatterternary\":[{\"marker\":{\"colorbar\":{\"outlinewidth\":0,\"ticks\":\"\"}},\"type\":\"scatterternary\"}],\"surface\":[{\"colorbar\":{\"outlinewidth\":0,\"ticks\":\"\"},\"colorscale\":[[0.0,\"#0d0887\"],[0.1111111111111111,\"#46039f\"],[0.2222222222222222,\"#7201a8\"],[0.3333333333333333,\"#9c179e\"],[0.4444444444444444,\"#bd3786\"],[0.5555555555555556,\"#d8576b\"],[0.6666666666666666,\"#ed7953\"],[0.7777777777777778,\"#fb9f3a\"],[0.8888888888888888,\"#fdca26\"],[1.0,\"#f0f921\"]],\"type\":\"surface\"}],\"table\":[{\"cells\":{\"fill\":{\"color\":\"#EBF0F8\"},\"line\":{\"color\":\"white\"}},\"header\":{\"fill\":{\"color\":\"#C8D4E3\"},\"line\":{\"color\":\"white\"}},\"type\":\"table\"}]},\"layout\":{\"annotationdefaults\":{\"arrowcolor\":\"#2a3f5f\",\"arrowhead\":0,\"arrowwidth\":1},\"autotypenumbers\":\"strict\",\"coloraxis\":{\"colorbar\":{\"outlinewidth\":0,\"ticks\":\"\"}},\"colorscale\":{\"diverging\":[[0,\"#8e0152\"],[0.1,\"#c51b7d\"],[0.2,\"#de77ae\"],[0.3,\"#f1b6da\"],[0.4,\"#fde0ef\"],[0.5,\"#f7f7f7\"],[0.6,\"#e6f5d0\"],[0.7,\"#b8e186\"],[0.8,\"#7fbc41\"],[0.9,\"#4d9221\"],[1,\"#276419\"]],\"sequential\":[[0.0,\"#0d0887\"],[0.1111111111111111,\"#46039f\"],[0.2222222222222222,\"#7201a8\"],[0.3333333333333333,\"#9c179e\"],[0.4444444444444444,\"#bd3786\"],[0.5555555555555556,\"#d8576b\"],[0.6666666666666666,\"#ed7953\"],[0.7777777777777778,\"#fb9f3a\"],[0.8888888888888888,\"#fdca26\"],[1.0,\"#f0f921\"]],\"sequentialminus\":[[0.0,\"#0d0887\"],[0.1111111111111111,\"#46039f\"],[0.2222222222222222,\"#7201a8\"],[0.3333333333333333,\"#9c179e\"],[0.4444444444444444,\"#bd3786\"],[0.5555555555555556,\"#d8576b\"],[0.6666666666666666,\"#ed7953\"],[0.7777777777777778,\"#fb9f3a\"],[0.8888888888888888,\"#fdca26\"],[1.0,\"#f0f921\"]]},\"colorway\":[\"#636efa\",\"#EF553B\",\"#00cc96\",\"#ab63fa\",\"#FFA15A\",\"#19d3f3\",\"#FF6692\",\"#B6E880\",\"#FF97FF\",\"#FECB52\"],\"font\":{\"color\":\"#2a3f5f\"},\"geo\":{\"bgcolor\":\"white\",\"lakecolor\":\"white\",\"landcolor\":\"#E5ECF6\",\"showlakes\":true,\"showland\":true,\"subunitcolor\":\"white\"},\"hoverlabel\":{\"align\":\"left\"},\"hovermode\":\"closest\",\"mapbox\":{\"style\":\"light\"},\"paper_bgcolor\":\"white\",\"plot_bgcolor\":\"#E5ECF6\",\"polar\":{\"angularaxis\":{\"gridcolor\":\"white\",\"linecolor\":\"white\",\"ticks\":\"\"},\"bgcolor\":\"#E5ECF6\",\"radialaxis\":{\"gridcolor\":\"white\",\"linecolor\":\"white\",\"ticks\":\"\"}},\"scene\":{\"xaxis\":{\"backgroundcolor\":\"#E5ECF6\",\"gridcolor\":\"white\",\"gridwidth\":2,\"linecolor\":\"white\",\"showbackground\":true,\"ticks\":\"\",\"zerolinecolor\":\"white\"},\"yaxis\":{\"backgroundcolor\":\"#E5ECF6\",\"gridcolor\":\"white\",\"gridwidth\":2,\"linecolor\":\"white\",\"showbackground\":true,\"ticks\":\"\",\"zerolinecolor\":\"white\"},\"zaxis\":{\"backgroundcolor\":\"#E5ECF6\",\"gridcolor\":\"white\",\"gridwidth\":2,\"linecolor\":\"white\",\"showbackground\":true,\"ticks\":\"\",\"zerolinecolor\":\"white\"}},\"shapedefaults\":{\"line\":{\"color\":\"#2a3f5f\"}},\"ternary\":{\"aaxis\":{\"gridcolor\":\"white\",\"linecolor\":\"white\",\"ticks\":\"\"},\"baxis\":{\"gridcolor\":\"white\",\"linecolor\":\"white\",\"ticks\":\"\"},\"bgcolor\":\"#E5ECF6\",\"caxis\":{\"gridcolor\":\"white\",\"linecolor\":\"white\",\"ticks\":\"\"}},\"title\":{\"x\":0.05},\"xaxis\":{\"automargin\":true,\"gridcolor\":\"white\",\"linecolor\":\"white\",\"ticks\":\"\",\"title\":{\"standoff\":15},\"zerolinecolor\":\"white\",\"zerolinewidth\":2},\"yaxis\":{\"automargin\":true,\"gridcolor\":\"white\",\"linecolor\":\"white\",\"ticks\":\"\",\"title\":{\"standoff\":15},\"zerolinecolor\":\"white\",\"zerolinewidth\":2}}},\"mapbox\":{\"domain\":{\"x\":[0.0,1.0],\"y\":[0.0,1.0]},\"center\":{\"lat\":37.76019350684932,\"lon\":-122.43912380821916},\"accesstoken\":\"pk.eyJ1IjoiZ3NhbGR1dHRpIiwiYSI6ImNreWRpOGgzNTA3ajEycHNld28ycXZjYXQifQ.hz3B3yQbfEL7Spw59vuFXg\",\"zoom\":10.5},\"coloraxis\":{\"colorbar\":{\"title\":{\"text\":\"gross_rent\"}},\"colorscale\":[[0.0,\"#0d0887\"],[0.1111111111111111,\"#46039f\"],[0.2222222222222222,\"#7201a8\"],[0.3333333333333333,\"#9c179e\"],[0.4444444444444444,\"#bd3786\"],[0.5555555555555556,\"#d8576b\"],[0.6666666666666666,\"#ed7953\"],[0.7777777777777778,\"#fb9f3a\"],[0.8888888888888888,\"#fdca26\"],[1.0,\"#f0f921\"]]},\"legend\":{\"tracegroupgap\":0,\"itemsizing\":\"constant\"},\"title\":{\"text\":\"Average Sales Price Per Square Foot and Gross Rent in San Francisco\"}},                        {\"responsive\": true}                    ).then(function(){\n",
       "                            \n",
       "var gd = document.getElementById('c4374efe-a796-44fd-a827-fdf3d5f63148');\n",
       "var x = new MutationObserver(function (mutations, observer) {{\n",
       "        var display = window.getComputedStyle(gd).display;\n",
       "        if (!display || display === 'none') {{\n",
       "            console.log([gd, 'removed!']);\n",
       "            Plotly.purge(gd);\n",
       "            observer.disconnect();\n",
       "        }}\n",
       "}});\n",
       "\n",
       "// Listen for the removal of the full notebook cells\n",
       "var notebookContainer = gd.closest('#notebook-container');\n",
       "if (notebookContainer) {{\n",
       "    x.observe(notebookContainer, {childList: true});\n",
       "}}\n",
       "\n",
       "// Listen for the clearing of the current output cell\n",
       "var outputEl = gd.closest('.output');\n",
       "if (outputEl) {{\n",
       "    x.observe(outputEl, {childList: true});\n",
       "}}\n",
       "\n",
       "                        })                };                });            </script>        </div>"
      ]
     },
     "metadata": {},
     "output_type": "display_data"
    }
   ],
   "source": [
    "# Set the mapbox access token\n",
    "access_token='pk.eyJ1IjoiZ3NhbGR1dHRpIiwiYSI6ImNreWRpOGgzNTA3ajEycHNld28ycXZjYXQifQ.hz3B3yQbfEL7Spw59vuFXg'\n",
    "\n",
    "px.set_mapbox_access_token('pk.eyJ1IjoiZ3NhbGR1dHRpIiwiYSI6ImNreWRpOGgzNTA3ajEycHNld28ycXZjYXQifQ.hz3B3yQbfEL7Spw59vuFXg')\n",
    "\n",
    "# pk.eyJ1IjoiZ3NhbGR1dHRpIiwiYSI6ImNreWRpOGgzNTA3ajEycHNld28ycXZjYXQifQ.hz3B3yQbfEL7Spw59vuFXg\n",
    "\n",
    "# Create a scatter mapbox to analyze neighborhood info\n",
    "map_plot = px.scatter_mapbox(\n",
    "    combined_df,\n",
    "    title = \"Average Sales Price Per Square Foot and Gross Rent in San Francisco\",\n",
    "    lat = \"Lat\",\n",
    "    lon = \"Lon\",\n",
    "    color = \"gross_rent\",\n",
    "    size = \"gross_rent\",\n",
    "    hover_name = \"Neighborhood\",\n",
    "    hover_data = [\"sale_price_sqr_foot\"],\n",
    "    zoom = 10.5\n",
    ")\n",
    "\n",
    "map_plot.show()"
   ]
  },
  {
   "cell_type": "markdown",
   "id": "dde7b593",
   "metadata": {},
   "source": [
    "Cost Analysis - Optional Challenge\n",
    "In this section, you will use Plotly express to create visualizations that investors can use to interactively filter and explore various factors related to the house value of the San Francisco's neighborhoods.\n",
    "\n",
    "Create a DataFrame showing the most expensive neighborhoods in San Francisco by year"
   ]
  },
  {
   "cell_type": "code",
   "execution_count": 111,
   "id": "9af58814",
   "metadata": {},
   "outputs": [
    {
     "data": {
      "text/html": [
       "<div>\n",
       "<style scoped>\n",
       "    .dataframe tbody tr th:only-of-type {\n",
       "        vertical-align: middle;\n",
       "    }\n",
       "\n",
       "    .dataframe tbody tr th {\n",
       "        vertical-align: top;\n",
       "    }\n",
       "\n",
       "    .dataframe thead th {\n",
       "        text-align: right;\n",
       "    }\n",
       "</style>\n",
       "<table border=\"1\" class=\"dataframe\">\n",
       "  <thead>\n",
       "    <tr style=\"text-align: right;\">\n",
       "      <th></th>\n",
       "      <th>year</th>\n",
       "      <th>neighborhood</th>\n",
       "      <th>sale_price_sqr_foot</th>\n",
       "      <th>housing_units</th>\n",
       "      <th>gross_rent</th>\n",
       "    </tr>\n",
       "  </thead>\n",
       "  <tbody>\n",
       "    <tr>\n",
       "      <th>7</th>\n",
       "      <td>2010</td>\n",
       "      <td>Cow Hollow</td>\n",
       "      <td>569.379968</td>\n",
       "      <td>372560</td>\n",
       "      <td>1239</td>\n",
       "    </tr>\n",
       "    <tr>\n",
       "      <th>31</th>\n",
       "      <td>2010</td>\n",
       "      <td>Miraloma Park</td>\n",
       "      <td>680.608729</td>\n",
       "      <td>372560</td>\n",
       "      <td>1239</td>\n",
       "    </tr>\n",
       "    <tr>\n",
       "      <th>41</th>\n",
       "      <td>2010</td>\n",
       "      <td>Pacific Heights</td>\n",
       "      <td>496.516014</td>\n",
       "      <td>372560</td>\n",
       "      <td>1239</td>\n",
       "    </tr>\n",
       "    <tr>\n",
       "      <th>46</th>\n",
       "      <td>2010</td>\n",
       "      <td>Potrero Hill</td>\n",
       "      <td>491.450004</td>\n",
       "      <td>372560</td>\n",
       "      <td>1239</td>\n",
       "    </tr>\n",
       "    <tr>\n",
       "      <th>47</th>\n",
       "      <td>2010</td>\n",
       "      <td>Presidio Heights</td>\n",
       "      <td>549.417931</td>\n",
       "      <td>372560</td>\n",
       "      <td>1239</td>\n",
       "    </tr>\n",
       "  </tbody>\n",
       "</table>\n",
       "</div>"
      ],
      "text/plain": [
       "    year      neighborhood  sale_price_sqr_foot  housing_units  gross_rent\n",
       "7   2010        Cow Hollow           569.379968         372560        1239\n",
       "31  2010     Miraloma Park           680.608729         372560        1239\n",
       "41  2010   Pacific Heights           496.516014         372560        1239\n",
       "46  2010      Potrero Hill           491.450004         372560        1239\n",
       "47  2010  Presidio Heights           549.417931         372560        1239"
      ]
     },
     "execution_count": 111,
     "metadata": {},
     "output_type": "execute_result"
    }
   ],
   "source": [
    "# Fetch the data from all expensive neighborhoods per year.\n",
    "df_expensive_neighborhoods_per_year = sfo_reset[sfo_reset[\"neighborhood\"].isin(sfo_most_expensive[\"neighborhood\"])]\n",
    "df_expensive_neighborhoods_per_year.head()"
   ]
  },
  {
   "cell_type": "markdown",
   "id": "cbd7a7b2",
   "metadata": {},
   "source": [
    "Create a parallel coordinates plot and parallel categories plot of most expensive neighborhoods in San Francisco per year"
   ]
  },
  {
   "cell_type": "code",
   "execution_count": 112,
   "id": "b503284f",
   "metadata": {},
   "outputs": [
    {
     "data": {
      "application/vnd.plotly.v1+json": {
       "config": {
        "plotlyServerURL": "https://plot.ly"
       },
       "data": [
        {
         "dimensions": [
          {
           "label": "neighborhood",
           "values": [
            "Union Square District",
            "Merced Heights",
            "Miraloma Park",
            "Pacific Heights",
            "Westwood Park",
            "Telegraph Hill",
            "Presidio Heights",
            "Cow Hollow",
            "Potrero Hill",
            "South Beach"
           ]
          },
          {
           "label": "sale_price_sqr_foot",
           "values": [
            903.9932576720645,
            788.8448175872469,
            779.810842264425,
            689.5558168113664,
            687.0875745178322,
            676.5065775293257,
            675.3502120510033,
            665.9640415783227,
            662.0136128276529,
            650.1244791945729
           ]
          },
          {
           "label": "housing_units",
           "values": [
            377427.5,
            380348,
            375967.25,
            378401,
            382295,
            378401,
            378401,
            378401,
            378401,
            375805
           ]
          },
          {
           "label": "gross_rent",
           "values": [
            2555.1666666666665,
            3414,
            2155.25,
            2817.285714285714,
            3959,
            2817.285714285714,
            2817.285714285714,
            2817.285714285714,
            2817.285714285714,
            2099
           ]
          }
         ],
         "domain": {
          "x": [
           0,
           1
          ],
          "y": [
           0,
           1
          ]
         },
         "line": {
          "color": [
           903.9932576720645,
           788.8448175872469,
           779.810842264425,
           689.5558168113664,
           687.0875745178322,
           676.5065775293257,
           675.3502120510033,
           665.9640415783227,
           662.0136128276529,
           650.1244791945729
          ],
          "coloraxis": "coloraxis"
         },
         "name": "",
         "type": "parcats"
        }
       ],
       "layout": {
        "coloraxis": {
         "colorbar": {
          "title": {
           "text": "sale_price_sqr_foot"
          }
         },
         "colorscale": [
          [
           0,
           "#0d0887"
          ],
          [
           0.1111111111111111,
           "#46039f"
          ],
          [
           0.2222222222222222,
           "#7201a8"
          ],
          [
           0.3333333333333333,
           "#9c179e"
          ],
          [
           0.4444444444444444,
           "#bd3786"
          ],
          [
           0.5555555555555556,
           "#d8576b"
          ],
          [
           0.6666666666666666,
           "#ed7953"
          ],
          [
           0.7777777777777778,
           "#fb9f3a"
          ],
          [
           0.8888888888888888,
           "#fdca26"
          ],
          [
           1,
           "#f0f921"
          ]
         ]
        },
        "legend": {
         "tracegroupgap": 0
        },
        "template": {
         "data": {
          "bar": [
           {
            "error_x": {
             "color": "#2a3f5f"
            },
            "error_y": {
             "color": "#2a3f5f"
            },
            "marker": {
             "line": {
              "color": "#E5ECF6",
              "width": 0.5
             },
             "pattern": {
              "fillmode": "overlay",
              "size": 10,
              "solidity": 0.2
             }
            },
            "type": "bar"
           }
          ],
          "barpolar": [
           {
            "marker": {
             "line": {
              "color": "#E5ECF6",
              "width": 0.5
             },
             "pattern": {
              "fillmode": "overlay",
              "size": 10,
              "solidity": 0.2
             }
            },
            "type": "barpolar"
           }
          ],
          "carpet": [
           {
            "aaxis": {
             "endlinecolor": "#2a3f5f",
             "gridcolor": "white",
             "linecolor": "white",
             "minorgridcolor": "white",
             "startlinecolor": "#2a3f5f"
            },
            "baxis": {
             "endlinecolor": "#2a3f5f",
             "gridcolor": "white",
             "linecolor": "white",
             "minorgridcolor": "white",
             "startlinecolor": "#2a3f5f"
            },
            "type": "carpet"
           }
          ],
          "choropleth": [
           {
            "colorbar": {
             "outlinewidth": 0,
             "ticks": ""
            },
            "type": "choropleth"
           }
          ],
          "contour": [
           {
            "colorbar": {
             "outlinewidth": 0,
             "ticks": ""
            },
            "colorscale": [
             [
              0,
              "#0d0887"
             ],
             [
              0.1111111111111111,
              "#46039f"
             ],
             [
              0.2222222222222222,
              "#7201a8"
             ],
             [
              0.3333333333333333,
              "#9c179e"
             ],
             [
              0.4444444444444444,
              "#bd3786"
             ],
             [
              0.5555555555555556,
              "#d8576b"
             ],
             [
              0.6666666666666666,
              "#ed7953"
             ],
             [
              0.7777777777777778,
              "#fb9f3a"
             ],
             [
              0.8888888888888888,
              "#fdca26"
             ],
             [
              1,
              "#f0f921"
             ]
            ],
            "type": "contour"
           }
          ],
          "contourcarpet": [
           {
            "colorbar": {
             "outlinewidth": 0,
             "ticks": ""
            },
            "type": "contourcarpet"
           }
          ],
          "heatmap": [
           {
            "colorbar": {
             "outlinewidth": 0,
             "ticks": ""
            },
            "colorscale": [
             [
              0,
              "#0d0887"
             ],
             [
              0.1111111111111111,
              "#46039f"
             ],
             [
              0.2222222222222222,
              "#7201a8"
             ],
             [
              0.3333333333333333,
              "#9c179e"
             ],
             [
              0.4444444444444444,
              "#bd3786"
             ],
             [
              0.5555555555555556,
              "#d8576b"
             ],
             [
              0.6666666666666666,
              "#ed7953"
             ],
             [
              0.7777777777777778,
              "#fb9f3a"
             ],
             [
              0.8888888888888888,
              "#fdca26"
             ],
             [
              1,
              "#f0f921"
             ]
            ],
            "type": "heatmap"
           }
          ],
          "heatmapgl": [
           {
            "colorbar": {
             "outlinewidth": 0,
             "ticks": ""
            },
            "colorscale": [
             [
              0,
              "#0d0887"
             ],
             [
              0.1111111111111111,
              "#46039f"
             ],
             [
              0.2222222222222222,
              "#7201a8"
             ],
             [
              0.3333333333333333,
              "#9c179e"
             ],
             [
              0.4444444444444444,
              "#bd3786"
             ],
             [
              0.5555555555555556,
              "#d8576b"
             ],
             [
              0.6666666666666666,
              "#ed7953"
             ],
             [
              0.7777777777777778,
              "#fb9f3a"
             ],
             [
              0.8888888888888888,
              "#fdca26"
             ],
             [
              1,
              "#f0f921"
             ]
            ],
            "type": "heatmapgl"
           }
          ],
          "histogram": [
           {
            "marker": {
             "pattern": {
              "fillmode": "overlay",
              "size": 10,
              "solidity": 0.2
             }
            },
            "type": "histogram"
           }
          ],
          "histogram2d": [
           {
            "colorbar": {
             "outlinewidth": 0,
             "ticks": ""
            },
            "colorscale": [
             [
              0,
              "#0d0887"
             ],
             [
              0.1111111111111111,
              "#46039f"
             ],
             [
              0.2222222222222222,
              "#7201a8"
             ],
             [
              0.3333333333333333,
              "#9c179e"
             ],
             [
              0.4444444444444444,
              "#bd3786"
             ],
             [
              0.5555555555555556,
              "#d8576b"
             ],
             [
              0.6666666666666666,
              "#ed7953"
             ],
             [
              0.7777777777777778,
              "#fb9f3a"
             ],
             [
              0.8888888888888888,
              "#fdca26"
             ],
             [
              1,
              "#f0f921"
             ]
            ],
            "type": "histogram2d"
           }
          ],
          "histogram2dcontour": [
           {
            "colorbar": {
             "outlinewidth": 0,
             "ticks": ""
            },
            "colorscale": [
             [
              0,
              "#0d0887"
             ],
             [
              0.1111111111111111,
              "#46039f"
             ],
             [
              0.2222222222222222,
              "#7201a8"
             ],
             [
              0.3333333333333333,
              "#9c179e"
             ],
             [
              0.4444444444444444,
              "#bd3786"
             ],
             [
              0.5555555555555556,
              "#d8576b"
             ],
             [
              0.6666666666666666,
              "#ed7953"
             ],
             [
              0.7777777777777778,
              "#fb9f3a"
             ],
             [
              0.8888888888888888,
              "#fdca26"
             ],
             [
              1,
              "#f0f921"
             ]
            ],
            "type": "histogram2dcontour"
           }
          ],
          "mesh3d": [
           {
            "colorbar": {
             "outlinewidth": 0,
             "ticks": ""
            },
            "type": "mesh3d"
           }
          ],
          "parcoords": [
           {
            "line": {
             "colorbar": {
              "outlinewidth": 0,
              "ticks": ""
             }
            },
            "type": "parcoords"
           }
          ],
          "pie": [
           {
            "automargin": true,
            "type": "pie"
           }
          ],
          "scatter": [
           {
            "marker": {
             "colorbar": {
              "outlinewidth": 0,
              "ticks": ""
             }
            },
            "type": "scatter"
           }
          ],
          "scatter3d": [
           {
            "line": {
             "colorbar": {
              "outlinewidth": 0,
              "ticks": ""
             }
            },
            "marker": {
             "colorbar": {
              "outlinewidth": 0,
              "ticks": ""
             }
            },
            "type": "scatter3d"
           }
          ],
          "scattercarpet": [
           {
            "marker": {
             "colorbar": {
              "outlinewidth": 0,
              "ticks": ""
             }
            },
            "type": "scattercarpet"
           }
          ],
          "scattergeo": [
           {
            "marker": {
             "colorbar": {
              "outlinewidth": 0,
              "ticks": ""
             }
            },
            "type": "scattergeo"
           }
          ],
          "scattergl": [
           {
            "marker": {
             "colorbar": {
              "outlinewidth": 0,
              "ticks": ""
             }
            },
            "type": "scattergl"
           }
          ],
          "scattermapbox": [
           {
            "marker": {
             "colorbar": {
              "outlinewidth": 0,
              "ticks": ""
             }
            },
            "type": "scattermapbox"
           }
          ],
          "scatterpolar": [
           {
            "marker": {
             "colorbar": {
              "outlinewidth": 0,
              "ticks": ""
             }
            },
            "type": "scatterpolar"
           }
          ],
          "scatterpolargl": [
           {
            "marker": {
             "colorbar": {
              "outlinewidth": 0,
              "ticks": ""
             }
            },
            "type": "scatterpolargl"
           }
          ],
          "scatterternary": [
           {
            "marker": {
             "colorbar": {
              "outlinewidth": 0,
              "ticks": ""
             }
            },
            "type": "scatterternary"
           }
          ],
          "surface": [
           {
            "colorbar": {
             "outlinewidth": 0,
             "ticks": ""
            },
            "colorscale": [
             [
              0,
              "#0d0887"
             ],
             [
              0.1111111111111111,
              "#46039f"
             ],
             [
              0.2222222222222222,
              "#7201a8"
             ],
             [
              0.3333333333333333,
              "#9c179e"
             ],
             [
              0.4444444444444444,
              "#bd3786"
             ],
             [
              0.5555555555555556,
              "#d8576b"
             ],
             [
              0.6666666666666666,
              "#ed7953"
             ],
             [
              0.7777777777777778,
              "#fb9f3a"
             ],
             [
              0.8888888888888888,
              "#fdca26"
             ],
             [
              1,
              "#f0f921"
             ]
            ],
            "type": "surface"
           }
          ],
          "table": [
           {
            "cells": {
             "fill": {
              "color": "#EBF0F8"
             },
             "line": {
              "color": "white"
             }
            },
            "header": {
             "fill": {
              "color": "#C8D4E3"
             },
             "line": {
              "color": "white"
             }
            },
            "type": "table"
           }
          ]
         },
         "layout": {
          "annotationdefaults": {
           "arrowcolor": "#2a3f5f",
           "arrowhead": 0,
           "arrowwidth": 1
          },
          "autotypenumbers": "strict",
          "coloraxis": {
           "colorbar": {
            "outlinewidth": 0,
            "ticks": ""
           }
          },
          "colorscale": {
           "diverging": [
            [
             0,
             "#8e0152"
            ],
            [
             0.1,
             "#c51b7d"
            ],
            [
             0.2,
             "#de77ae"
            ],
            [
             0.3,
             "#f1b6da"
            ],
            [
             0.4,
             "#fde0ef"
            ],
            [
             0.5,
             "#f7f7f7"
            ],
            [
             0.6,
             "#e6f5d0"
            ],
            [
             0.7,
             "#b8e186"
            ],
            [
             0.8,
             "#7fbc41"
            ],
            [
             0.9,
             "#4d9221"
            ],
            [
             1,
             "#276419"
            ]
           ],
           "sequential": [
            [
             0,
             "#0d0887"
            ],
            [
             0.1111111111111111,
             "#46039f"
            ],
            [
             0.2222222222222222,
             "#7201a8"
            ],
            [
             0.3333333333333333,
             "#9c179e"
            ],
            [
             0.4444444444444444,
             "#bd3786"
            ],
            [
             0.5555555555555556,
             "#d8576b"
            ],
            [
             0.6666666666666666,
             "#ed7953"
            ],
            [
             0.7777777777777778,
             "#fb9f3a"
            ],
            [
             0.8888888888888888,
             "#fdca26"
            ],
            [
             1,
             "#f0f921"
            ]
           ],
           "sequentialminus": [
            [
             0,
             "#0d0887"
            ],
            [
             0.1111111111111111,
             "#46039f"
            ],
            [
             0.2222222222222222,
             "#7201a8"
            ],
            [
             0.3333333333333333,
             "#9c179e"
            ],
            [
             0.4444444444444444,
             "#bd3786"
            ],
            [
             0.5555555555555556,
             "#d8576b"
            ],
            [
             0.6666666666666666,
             "#ed7953"
            ],
            [
             0.7777777777777778,
             "#fb9f3a"
            ],
            [
             0.8888888888888888,
             "#fdca26"
            ],
            [
             1,
             "#f0f921"
            ]
           ]
          },
          "colorway": [
           "#636efa",
           "#EF553B",
           "#00cc96",
           "#ab63fa",
           "#FFA15A",
           "#19d3f3",
           "#FF6692",
           "#B6E880",
           "#FF97FF",
           "#FECB52"
          ],
          "font": {
           "color": "#2a3f5f"
          },
          "geo": {
           "bgcolor": "white",
           "lakecolor": "white",
           "landcolor": "#E5ECF6",
           "showlakes": true,
           "showland": true,
           "subunitcolor": "white"
          },
          "hoverlabel": {
           "align": "left"
          },
          "hovermode": "closest",
          "mapbox": {
           "style": "light"
          },
          "paper_bgcolor": "white",
          "plot_bgcolor": "#E5ECF6",
          "polar": {
           "angularaxis": {
            "gridcolor": "white",
            "linecolor": "white",
            "ticks": ""
           },
           "bgcolor": "#E5ECF6",
           "radialaxis": {
            "gridcolor": "white",
            "linecolor": "white",
            "ticks": ""
           }
          },
          "scene": {
           "xaxis": {
            "backgroundcolor": "#E5ECF6",
            "gridcolor": "white",
            "gridwidth": 2,
            "linecolor": "white",
            "showbackground": true,
            "ticks": "",
            "zerolinecolor": "white"
           },
           "yaxis": {
            "backgroundcolor": "#E5ECF6",
            "gridcolor": "white",
            "gridwidth": 2,
            "linecolor": "white",
            "showbackground": true,
            "ticks": "",
            "zerolinecolor": "white"
           },
           "zaxis": {
            "backgroundcolor": "#E5ECF6",
            "gridcolor": "white",
            "gridwidth": 2,
            "linecolor": "white",
            "showbackground": true,
            "ticks": "",
            "zerolinecolor": "white"
           }
          },
          "shapedefaults": {
           "line": {
            "color": "#2a3f5f"
           }
          },
          "ternary": {
           "aaxis": {
            "gridcolor": "white",
            "linecolor": "white",
            "ticks": ""
           },
           "baxis": {
            "gridcolor": "white",
            "linecolor": "white",
            "ticks": ""
           },
           "bgcolor": "#E5ECF6",
           "caxis": {
            "gridcolor": "white",
            "linecolor": "white",
            "ticks": ""
           }
          },
          "title": {
           "x": 0.05
          },
          "xaxis": {
           "automargin": true,
           "gridcolor": "white",
           "linecolor": "white",
           "ticks": "",
           "title": {
            "standoff": 15
           },
           "zerolinecolor": "white",
           "zerolinewidth": 2
          },
          "yaxis": {
           "automargin": true,
           "gridcolor": "white",
           "linecolor": "white",
           "ticks": "",
           "title": {
            "standoff": 15
           },
           "zerolinecolor": "white",
           "zerolinewidth": 2
          }
         }
        },
        "title": {
         "text": "Parallel Categories Analysis of Most Expensive San Francisco Neighborhoods"
        }
       }
      },
      "text/html": [
       "<div>                            <div id=\"84e75668-4651-4531-aeeb-7248553cb5c6\" class=\"plotly-graph-div\" style=\"height:525px; width:100%;\"></div>            <script type=\"text/javascript\">                require([\"plotly\"], function(Plotly) {                    window.PLOTLYENV=window.PLOTLYENV || {};                                    if (document.getElementById(\"84e75668-4651-4531-aeeb-7248553cb5c6\")) {                    Plotly.newPlot(                        \"84e75668-4651-4531-aeeb-7248553cb5c6\",                        [{\"dimensions\":[{\"label\":\"neighborhood\",\"values\":[\"Union Square District\",\"Merced Heights\",\"Miraloma Park\",\"Pacific Heights\",\"Westwood Park\",\"Telegraph Hill\",\"Presidio Heights\",\"Cow Hollow\",\"Potrero Hill\",\"South Beach\"]},{\"label\":\"sale_price_sqr_foot\",\"values\":[903.9932576720645,788.8448175872469,779.810842264425,689.5558168113664,687.0875745178322,676.5065775293257,675.3502120510033,665.9640415783227,662.0136128276529,650.1244791945729]},{\"label\":\"housing_units\",\"values\":[377427.5,380348.0,375967.25,378401.0,382295.0,378401.0,378401.0,378401.0,378401.0,375805.0]},{\"label\":\"gross_rent\",\"values\":[2555.1666666666665,3414.0,2155.25,2817.285714285714,3959.0,2817.285714285714,2817.285714285714,2817.285714285714,2817.285714285714,2099.0]}],\"domain\":{\"x\":[0.0,1.0],\"y\":[0.0,1.0]},\"line\":{\"color\":[903.9932576720645,788.8448175872469,779.810842264425,689.5558168113664,687.0875745178322,676.5065775293257,675.3502120510033,665.9640415783227,662.0136128276529,650.1244791945729],\"coloraxis\":\"coloraxis\"},\"name\":\"\",\"type\":\"parcats\"}],                        {\"template\":{\"data\":{\"bar\":[{\"error_x\":{\"color\":\"#2a3f5f\"},\"error_y\":{\"color\":\"#2a3f5f\"},\"marker\":{\"line\":{\"color\":\"#E5ECF6\",\"width\":0.5},\"pattern\":{\"fillmode\":\"overlay\",\"size\":10,\"solidity\":0.2}},\"type\":\"bar\"}],\"barpolar\":[{\"marker\":{\"line\":{\"color\":\"#E5ECF6\",\"width\":0.5},\"pattern\":{\"fillmode\":\"overlay\",\"size\":10,\"solidity\":0.2}},\"type\":\"barpolar\"}],\"carpet\":[{\"aaxis\":{\"endlinecolor\":\"#2a3f5f\",\"gridcolor\":\"white\",\"linecolor\":\"white\",\"minorgridcolor\":\"white\",\"startlinecolor\":\"#2a3f5f\"},\"baxis\":{\"endlinecolor\":\"#2a3f5f\",\"gridcolor\":\"white\",\"linecolor\":\"white\",\"minorgridcolor\":\"white\",\"startlinecolor\":\"#2a3f5f\"},\"type\":\"carpet\"}],\"choropleth\":[{\"colorbar\":{\"outlinewidth\":0,\"ticks\":\"\"},\"type\":\"choropleth\"}],\"contour\":[{\"colorbar\":{\"outlinewidth\":0,\"ticks\":\"\"},\"colorscale\":[[0.0,\"#0d0887\"],[0.1111111111111111,\"#46039f\"],[0.2222222222222222,\"#7201a8\"],[0.3333333333333333,\"#9c179e\"],[0.4444444444444444,\"#bd3786\"],[0.5555555555555556,\"#d8576b\"],[0.6666666666666666,\"#ed7953\"],[0.7777777777777778,\"#fb9f3a\"],[0.8888888888888888,\"#fdca26\"],[1.0,\"#f0f921\"]],\"type\":\"contour\"}],\"contourcarpet\":[{\"colorbar\":{\"outlinewidth\":0,\"ticks\":\"\"},\"type\":\"contourcarpet\"}],\"heatmap\":[{\"colorbar\":{\"outlinewidth\":0,\"ticks\":\"\"},\"colorscale\":[[0.0,\"#0d0887\"],[0.1111111111111111,\"#46039f\"],[0.2222222222222222,\"#7201a8\"],[0.3333333333333333,\"#9c179e\"],[0.4444444444444444,\"#bd3786\"],[0.5555555555555556,\"#d8576b\"],[0.6666666666666666,\"#ed7953\"],[0.7777777777777778,\"#fb9f3a\"],[0.8888888888888888,\"#fdca26\"],[1.0,\"#f0f921\"]],\"type\":\"heatmap\"}],\"heatmapgl\":[{\"colorbar\":{\"outlinewidth\":0,\"ticks\":\"\"},\"colorscale\":[[0.0,\"#0d0887\"],[0.1111111111111111,\"#46039f\"],[0.2222222222222222,\"#7201a8\"],[0.3333333333333333,\"#9c179e\"],[0.4444444444444444,\"#bd3786\"],[0.5555555555555556,\"#d8576b\"],[0.6666666666666666,\"#ed7953\"],[0.7777777777777778,\"#fb9f3a\"],[0.8888888888888888,\"#fdca26\"],[1.0,\"#f0f921\"]],\"type\":\"heatmapgl\"}],\"histogram\":[{\"marker\":{\"pattern\":{\"fillmode\":\"overlay\",\"size\":10,\"solidity\":0.2}},\"type\":\"histogram\"}],\"histogram2d\":[{\"colorbar\":{\"outlinewidth\":0,\"ticks\":\"\"},\"colorscale\":[[0.0,\"#0d0887\"],[0.1111111111111111,\"#46039f\"],[0.2222222222222222,\"#7201a8\"],[0.3333333333333333,\"#9c179e\"],[0.4444444444444444,\"#bd3786\"],[0.5555555555555556,\"#d8576b\"],[0.6666666666666666,\"#ed7953\"],[0.7777777777777778,\"#fb9f3a\"],[0.8888888888888888,\"#fdca26\"],[1.0,\"#f0f921\"]],\"type\":\"histogram2d\"}],\"histogram2dcontour\":[{\"colorbar\":{\"outlinewidth\":0,\"ticks\":\"\"},\"colorscale\":[[0.0,\"#0d0887\"],[0.1111111111111111,\"#46039f\"],[0.2222222222222222,\"#7201a8\"],[0.3333333333333333,\"#9c179e\"],[0.4444444444444444,\"#bd3786\"],[0.5555555555555556,\"#d8576b\"],[0.6666666666666666,\"#ed7953\"],[0.7777777777777778,\"#fb9f3a\"],[0.8888888888888888,\"#fdca26\"],[1.0,\"#f0f921\"]],\"type\":\"histogram2dcontour\"}],\"mesh3d\":[{\"colorbar\":{\"outlinewidth\":0,\"ticks\":\"\"},\"type\":\"mesh3d\"}],\"parcoords\":[{\"line\":{\"colorbar\":{\"outlinewidth\":0,\"ticks\":\"\"}},\"type\":\"parcoords\"}],\"pie\":[{\"automargin\":true,\"type\":\"pie\"}],\"scatter\":[{\"marker\":{\"colorbar\":{\"outlinewidth\":0,\"ticks\":\"\"}},\"type\":\"scatter\"}],\"scatter3d\":[{\"line\":{\"colorbar\":{\"outlinewidth\":0,\"ticks\":\"\"}},\"marker\":{\"colorbar\":{\"outlinewidth\":0,\"ticks\":\"\"}},\"type\":\"scatter3d\"}],\"scattercarpet\":[{\"marker\":{\"colorbar\":{\"outlinewidth\":0,\"ticks\":\"\"}},\"type\":\"scattercarpet\"}],\"scattergeo\":[{\"marker\":{\"colorbar\":{\"outlinewidth\":0,\"ticks\":\"\"}},\"type\":\"scattergeo\"}],\"scattergl\":[{\"marker\":{\"colorbar\":{\"outlinewidth\":0,\"ticks\":\"\"}},\"type\":\"scattergl\"}],\"scattermapbox\":[{\"marker\":{\"colorbar\":{\"outlinewidth\":0,\"ticks\":\"\"}},\"type\":\"scattermapbox\"}],\"scatterpolar\":[{\"marker\":{\"colorbar\":{\"outlinewidth\":0,\"ticks\":\"\"}},\"type\":\"scatterpolar\"}],\"scatterpolargl\":[{\"marker\":{\"colorbar\":{\"outlinewidth\":0,\"ticks\":\"\"}},\"type\":\"scatterpolargl\"}],\"scatterternary\":[{\"marker\":{\"colorbar\":{\"outlinewidth\":0,\"ticks\":\"\"}},\"type\":\"scatterternary\"}],\"surface\":[{\"colorbar\":{\"outlinewidth\":0,\"ticks\":\"\"},\"colorscale\":[[0.0,\"#0d0887\"],[0.1111111111111111,\"#46039f\"],[0.2222222222222222,\"#7201a8\"],[0.3333333333333333,\"#9c179e\"],[0.4444444444444444,\"#bd3786\"],[0.5555555555555556,\"#d8576b\"],[0.6666666666666666,\"#ed7953\"],[0.7777777777777778,\"#fb9f3a\"],[0.8888888888888888,\"#fdca26\"],[1.0,\"#f0f921\"]],\"type\":\"surface\"}],\"table\":[{\"cells\":{\"fill\":{\"color\":\"#EBF0F8\"},\"line\":{\"color\":\"white\"}},\"header\":{\"fill\":{\"color\":\"#C8D4E3\"},\"line\":{\"color\":\"white\"}},\"type\":\"table\"}]},\"layout\":{\"annotationdefaults\":{\"arrowcolor\":\"#2a3f5f\",\"arrowhead\":0,\"arrowwidth\":1},\"autotypenumbers\":\"strict\",\"coloraxis\":{\"colorbar\":{\"outlinewidth\":0,\"ticks\":\"\"}},\"colorscale\":{\"diverging\":[[0,\"#8e0152\"],[0.1,\"#c51b7d\"],[0.2,\"#de77ae\"],[0.3,\"#f1b6da\"],[0.4,\"#fde0ef\"],[0.5,\"#f7f7f7\"],[0.6,\"#e6f5d0\"],[0.7,\"#b8e186\"],[0.8,\"#7fbc41\"],[0.9,\"#4d9221\"],[1,\"#276419\"]],\"sequential\":[[0.0,\"#0d0887\"],[0.1111111111111111,\"#46039f\"],[0.2222222222222222,\"#7201a8\"],[0.3333333333333333,\"#9c179e\"],[0.4444444444444444,\"#bd3786\"],[0.5555555555555556,\"#d8576b\"],[0.6666666666666666,\"#ed7953\"],[0.7777777777777778,\"#fb9f3a\"],[0.8888888888888888,\"#fdca26\"],[1.0,\"#f0f921\"]],\"sequentialminus\":[[0.0,\"#0d0887\"],[0.1111111111111111,\"#46039f\"],[0.2222222222222222,\"#7201a8\"],[0.3333333333333333,\"#9c179e\"],[0.4444444444444444,\"#bd3786\"],[0.5555555555555556,\"#d8576b\"],[0.6666666666666666,\"#ed7953\"],[0.7777777777777778,\"#fb9f3a\"],[0.8888888888888888,\"#fdca26\"],[1.0,\"#f0f921\"]]},\"colorway\":[\"#636efa\",\"#EF553B\",\"#00cc96\",\"#ab63fa\",\"#FFA15A\",\"#19d3f3\",\"#FF6692\",\"#B6E880\",\"#FF97FF\",\"#FECB52\"],\"font\":{\"color\":\"#2a3f5f\"},\"geo\":{\"bgcolor\":\"white\",\"lakecolor\":\"white\",\"landcolor\":\"#E5ECF6\",\"showlakes\":true,\"showland\":true,\"subunitcolor\":\"white\"},\"hoverlabel\":{\"align\":\"left\"},\"hovermode\":\"closest\",\"mapbox\":{\"style\":\"light\"},\"paper_bgcolor\":\"white\",\"plot_bgcolor\":\"#E5ECF6\",\"polar\":{\"angularaxis\":{\"gridcolor\":\"white\",\"linecolor\":\"white\",\"ticks\":\"\"},\"bgcolor\":\"#E5ECF6\",\"radialaxis\":{\"gridcolor\":\"white\",\"linecolor\":\"white\",\"ticks\":\"\"}},\"scene\":{\"xaxis\":{\"backgroundcolor\":\"#E5ECF6\",\"gridcolor\":\"white\",\"gridwidth\":2,\"linecolor\":\"white\",\"showbackground\":true,\"ticks\":\"\",\"zerolinecolor\":\"white\"},\"yaxis\":{\"backgroundcolor\":\"#E5ECF6\",\"gridcolor\":\"white\",\"gridwidth\":2,\"linecolor\":\"white\",\"showbackground\":true,\"ticks\":\"\",\"zerolinecolor\":\"white\"},\"zaxis\":{\"backgroundcolor\":\"#E5ECF6\",\"gridcolor\":\"white\",\"gridwidth\":2,\"linecolor\":\"white\",\"showbackground\":true,\"ticks\":\"\",\"zerolinecolor\":\"white\"}},\"shapedefaults\":{\"line\":{\"color\":\"#2a3f5f\"}},\"ternary\":{\"aaxis\":{\"gridcolor\":\"white\",\"linecolor\":\"white\",\"ticks\":\"\"},\"baxis\":{\"gridcolor\":\"white\",\"linecolor\":\"white\",\"ticks\":\"\"},\"bgcolor\":\"#E5ECF6\",\"caxis\":{\"gridcolor\":\"white\",\"linecolor\":\"white\",\"ticks\":\"\"}},\"title\":{\"x\":0.05},\"xaxis\":{\"automargin\":true,\"gridcolor\":\"white\",\"linecolor\":\"white\",\"ticks\":\"\",\"title\":{\"standoff\":15},\"zerolinecolor\":\"white\",\"zerolinewidth\":2},\"yaxis\":{\"automargin\":true,\"gridcolor\":\"white\",\"linecolor\":\"white\",\"ticks\":\"\",\"title\":{\"standoff\":15},\"zerolinecolor\":\"white\",\"zerolinewidth\":2}}},\"coloraxis\":{\"colorbar\":{\"title\":{\"text\":\"sale_price_sqr_foot\"}},\"colorscale\":[[0.0,\"#0d0887\"],[0.1111111111111111,\"#46039f\"],[0.2222222222222222,\"#7201a8\"],[0.3333333333333333,\"#9c179e\"],[0.4444444444444444,\"#bd3786\"],[0.5555555555555556,\"#d8576b\"],[0.6666666666666666,\"#ed7953\"],[0.7777777777777778,\"#fb9f3a\"],[0.8888888888888888,\"#fdca26\"],[1.0,\"#f0f921\"]]},\"legend\":{\"tracegroupgap\":0},\"title\":{\"text\":\"Parallel Categories Analysis of Most Expensive San Francisco Neighborhoods\"}},                        {\"responsive\": true}                    ).then(function(){\n",
       "                            \n",
       "var gd = document.getElementById('84e75668-4651-4531-aeeb-7248553cb5c6');\n",
       "var x = new MutationObserver(function (mutations, observer) {{\n",
       "        var display = window.getComputedStyle(gd).display;\n",
       "        if (!display || display === 'none') {{\n",
       "            console.log([gd, 'removed!']);\n",
       "            Plotly.purge(gd);\n",
       "            observer.disconnect();\n",
       "        }}\n",
       "}});\n",
       "\n",
       "// Listen for the removal of the full notebook cells\n",
       "var notebookContainer = gd.closest('#notebook-container');\n",
       "if (notebookContainer) {{\n",
       "    x.observe(notebookContainer, {childList: true});\n",
       "}}\n",
       "\n",
       "// Listen for the clearing of the current output cell\n",
       "var outputEl = gd.closest('.output');\n",
       "if (outputEl) {{\n",
       "    x.observe(outputEl, {childList: true});\n",
       "}}\n",
       "\n",
       "                        })                };                });            </script>        </div>"
      ]
     },
     "metadata": {},
     "output_type": "display_data"
    }
   ],
   "source": [
    "# Parallel Categories Plot\n",
    "px.parallel_categories(\n",
    "    sfo_most_expensive,\n",
    "    dimensions = [\"neighborhood\", \"sale_price_sqr_foot\", \"housing_units\", \"gross_rent\"],\n",
    "    color = \"sale_price_sqr_foot\",\n",
    "    title = \"Parallel Categories Analysis of Most Expensive San Francisco Neighborhoods\"\n",
    ")"
   ]
  },
  {
   "cell_type": "code",
   "execution_count": 113,
   "id": "a4eb67cb",
   "metadata": {},
   "outputs": [
    {
     "data": {
      "application/vnd.plotly.v1+json": {
       "config": {
        "plotlyServerURL": "https://plot.ly"
       },
       "data": [
        {
         "dimensions": [
          {
           "label": "sale_price_sqr_foot",
           "values": [
            903.9932576720645,
            788.8448175872469,
            779.810842264425,
            689.5558168113664,
            687.0875745178322,
            676.5065775293257,
            675.3502120510033,
            665.9640415783227,
            662.0136128276529,
            650.1244791945729
           ]
          },
          {
           "label": "housing_units",
           "values": [
            377427.5,
            380348,
            375967.25,
            378401,
            382295,
            378401,
            378401,
            378401,
            378401,
            375805
           ]
          },
          {
           "label": "gross_rent",
           "values": [
            2555.1666666666665,
            3414,
            2155.25,
            2817.285714285714,
            3959,
            2817.285714285714,
            2817.285714285714,
            2817.285714285714,
            2817.285714285714,
            2099
           ]
          }
         ],
         "domain": {
          "x": [
           0,
           1
          ],
          "y": [
           0,
           1
          ]
         },
         "line": {
          "color": [
           903.9932576720645,
           788.8448175872469,
           779.810842264425,
           689.5558168113664,
           687.0875745178322,
           676.5065775293257,
           675.3502120510033,
           665.9640415783227,
           662.0136128276529,
           650.1244791945729
          ],
          "coloraxis": "coloraxis"
         },
         "name": "",
         "type": "parcoords"
        }
       ],
       "layout": {
        "coloraxis": {
         "colorbar": {
          "title": {
           "text": "sale_price_sqr_foot"
          }
         },
         "colorscale": [
          [
           0,
           "#0d0887"
          ],
          [
           0.1111111111111111,
           "#46039f"
          ],
          [
           0.2222222222222222,
           "#7201a8"
          ],
          [
           0.3333333333333333,
           "#9c179e"
          ],
          [
           0.4444444444444444,
           "#bd3786"
          ],
          [
           0.5555555555555556,
           "#d8576b"
          ],
          [
           0.6666666666666666,
           "#ed7953"
          ],
          [
           0.7777777777777778,
           "#fb9f3a"
          ],
          [
           0.8888888888888888,
           "#fdca26"
          ],
          [
           1,
           "#f0f921"
          ]
         ]
        },
        "legend": {
         "tracegroupgap": 0
        },
        "template": {
         "data": {
          "bar": [
           {
            "error_x": {
             "color": "#2a3f5f"
            },
            "error_y": {
             "color": "#2a3f5f"
            },
            "marker": {
             "line": {
              "color": "#E5ECF6",
              "width": 0.5
             },
             "pattern": {
              "fillmode": "overlay",
              "size": 10,
              "solidity": 0.2
             }
            },
            "type": "bar"
           }
          ],
          "barpolar": [
           {
            "marker": {
             "line": {
              "color": "#E5ECF6",
              "width": 0.5
             },
             "pattern": {
              "fillmode": "overlay",
              "size": 10,
              "solidity": 0.2
             }
            },
            "type": "barpolar"
           }
          ],
          "carpet": [
           {
            "aaxis": {
             "endlinecolor": "#2a3f5f",
             "gridcolor": "white",
             "linecolor": "white",
             "minorgridcolor": "white",
             "startlinecolor": "#2a3f5f"
            },
            "baxis": {
             "endlinecolor": "#2a3f5f",
             "gridcolor": "white",
             "linecolor": "white",
             "minorgridcolor": "white",
             "startlinecolor": "#2a3f5f"
            },
            "type": "carpet"
           }
          ],
          "choropleth": [
           {
            "colorbar": {
             "outlinewidth": 0,
             "ticks": ""
            },
            "type": "choropleth"
           }
          ],
          "contour": [
           {
            "colorbar": {
             "outlinewidth": 0,
             "ticks": ""
            },
            "colorscale": [
             [
              0,
              "#0d0887"
             ],
             [
              0.1111111111111111,
              "#46039f"
             ],
             [
              0.2222222222222222,
              "#7201a8"
             ],
             [
              0.3333333333333333,
              "#9c179e"
             ],
             [
              0.4444444444444444,
              "#bd3786"
             ],
             [
              0.5555555555555556,
              "#d8576b"
             ],
             [
              0.6666666666666666,
              "#ed7953"
             ],
             [
              0.7777777777777778,
              "#fb9f3a"
             ],
             [
              0.8888888888888888,
              "#fdca26"
             ],
             [
              1,
              "#f0f921"
             ]
            ],
            "type": "contour"
           }
          ],
          "contourcarpet": [
           {
            "colorbar": {
             "outlinewidth": 0,
             "ticks": ""
            },
            "type": "contourcarpet"
           }
          ],
          "heatmap": [
           {
            "colorbar": {
             "outlinewidth": 0,
             "ticks": ""
            },
            "colorscale": [
             [
              0,
              "#0d0887"
             ],
             [
              0.1111111111111111,
              "#46039f"
             ],
             [
              0.2222222222222222,
              "#7201a8"
             ],
             [
              0.3333333333333333,
              "#9c179e"
             ],
             [
              0.4444444444444444,
              "#bd3786"
             ],
             [
              0.5555555555555556,
              "#d8576b"
             ],
             [
              0.6666666666666666,
              "#ed7953"
             ],
             [
              0.7777777777777778,
              "#fb9f3a"
             ],
             [
              0.8888888888888888,
              "#fdca26"
             ],
             [
              1,
              "#f0f921"
             ]
            ],
            "type": "heatmap"
           }
          ],
          "heatmapgl": [
           {
            "colorbar": {
             "outlinewidth": 0,
             "ticks": ""
            },
            "colorscale": [
             [
              0,
              "#0d0887"
             ],
             [
              0.1111111111111111,
              "#46039f"
             ],
             [
              0.2222222222222222,
              "#7201a8"
             ],
             [
              0.3333333333333333,
              "#9c179e"
             ],
             [
              0.4444444444444444,
              "#bd3786"
             ],
             [
              0.5555555555555556,
              "#d8576b"
             ],
             [
              0.6666666666666666,
              "#ed7953"
             ],
             [
              0.7777777777777778,
              "#fb9f3a"
             ],
             [
              0.8888888888888888,
              "#fdca26"
             ],
             [
              1,
              "#f0f921"
             ]
            ],
            "type": "heatmapgl"
           }
          ],
          "histogram": [
           {
            "marker": {
             "pattern": {
              "fillmode": "overlay",
              "size": 10,
              "solidity": 0.2
             }
            },
            "type": "histogram"
           }
          ],
          "histogram2d": [
           {
            "colorbar": {
             "outlinewidth": 0,
             "ticks": ""
            },
            "colorscale": [
             [
              0,
              "#0d0887"
             ],
             [
              0.1111111111111111,
              "#46039f"
             ],
             [
              0.2222222222222222,
              "#7201a8"
             ],
             [
              0.3333333333333333,
              "#9c179e"
             ],
             [
              0.4444444444444444,
              "#bd3786"
             ],
             [
              0.5555555555555556,
              "#d8576b"
             ],
             [
              0.6666666666666666,
              "#ed7953"
             ],
             [
              0.7777777777777778,
              "#fb9f3a"
             ],
             [
              0.8888888888888888,
              "#fdca26"
             ],
             [
              1,
              "#f0f921"
             ]
            ],
            "type": "histogram2d"
           }
          ],
          "histogram2dcontour": [
           {
            "colorbar": {
             "outlinewidth": 0,
             "ticks": ""
            },
            "colorscale": [
             [
              0,
              "#0d0887"
             ],
             [
              0.1111111111111111,
              "#46039f"
             ],
             [
              0.2222222222222222,
              "#7201a8"
             ],
             [
              0.3333333333333333,
              "#9c179e"
             ],
             [
              0.4444444444444444,
              "#bd3786"
             ],
             [
              0.5555555555555556,
              "#d8576b"
             ],
             [
              0.6666666666666666,
              "#ed7953"
             ],
             [
              0.7777777777777778,
              "#fb9f3a"
             ],
             [
              0.8888888888888888,
              "#fdca26"
             ],
             [
              1,
              "#f0f921"
             ]
            ],
            "type": "histogram2dcontour"
           }
          ],
          "mesh3d": [
           {
            "colorbar": {
             "outlinewidth": 0,
             "ticks": ""
            },
            "type": "mesh3d"
           }
          ],
          "parcoords": [
           {
            "line": {
             "colorbar": {
              "outlinewidth": 0,
              "ticks": ""
             }
            },
            "type": "parcoords"
           }
          ],
          "pie": [
           {
            "automargin": true,
            "type": "pie"
           }
          ],
          "scatter": [
           {
            "marker": {
             "colorbar": {
              "outlinewidth": 0,
              "ticks": ""
             }
            },
            "type": "scatter"
           }
          ],
          "scatter3d": [
           {
            "line": {
             "colorbar": {
              "outlinewidth": 0,
              "ticks": ""
             }
            },
            "marker": {
             "colorbar": {
              "outlinewidth": 0,
              "ticks": ""
             }
            },
            "type": "scatter3d"
           }
          ],
          "scattercarpet": [
           {
            "marker": {
             "colorbar": {
              "outlinewidth": 0,
              "ticks": ""
             }
            },
            "type": "scattercarpet"
           }
          ],
          "scattergeo": [
           {
            "marker": {
             "colorbar": {
              "outlinewidth": 0,
              "ticks": ""
             }
            },
            "type": "scattergeo"
           }
          ],
          "scattergl": [
           {
            "marker": {
             "colorbar": {
              "outlinewidth": 0,
              "ticks": ""
             }
            },
            "type": "scattergl"
           }
          ],
          "scattermapbox": [
           {
            "marker": {
             "colorbar": {
              "outlinewidth": 0,
              "ticks": ""
             }
            },
            "type": "scattermapbox"
           }
          ],
          "scatterpolar": [
           {
            "marker": {
             "colorbar": {
              "outlinewidth": 0,
              "ticks": ""
             }
            },
            "type": "scatterpolar"
           }
          ],
          "scatterpolargl": [
           {
            "marker": {
             "colorbar": {
              "outlinewidth": 0,
              "ticks": ""
             }
            },
            "type": "scatterpolargl"
           }
          ],
          "scatterternary": [
           {
            "marker": {
             "colorbar": {
              "outlinewidth": 0,
              "ticks": ""
             }
            },
            "type": "scatterternary"
           }
          ],
          "surface": [
           {
            "colorbar": {
             "outlinewidth": 0,
             "ticks": ""
            },
            "colorscale": [
             [
              0,
              "#0d0887"
             ],
             [
              0.1111111111111111,
              "#46039f"
             ],
             [
              0.2222222222222222,
              "#7201a8"
             ],
             [
              0.3333333333333333,
              "#9c179e"
             ],
             [
              0.4444444444444444,
              "#bd3786"
             ],
             [
              0.5555555555555556,
              "#d8576b"
             ],
             [
              0.6666666666666666,
              "#ed7953"
             ],
             [
              0.7777777777777778,
              "#fb9f3a"
             ],
             [
              0.8888888888888888,
              "#fdca26"
             ],
             [
              1,
              "#f0f921"
             ]
            ],
            "type": "surface"
           }
          ],
          "table": [
           {
            "cells": {
             "fill": {
              "color": "#EBF0F8"
             },
             "line": {
              "color": "white"
             }
            },
            "header": {
             "fill": {
              "color": "#C8D4E3"
             },
             "line": {
              "color": "white"
             }
            },
            "type": "table"
           }
          ]
         },
         "layout": {
          "annotationdefaults": {
           "arrowcolor": "#2a3f5f",
           "arrowhead": 0,
           "arrowwidth": 1
          },
          "autotypenumbers": "strict",
          "coloraxis": {
           "colorbar": {
            "outlinewidth": 0,
            "ticks": ""
           }
          },
          "colorscale": {
           "diverging": [
            [
             0,
             "#8e0152"
            ],
            [
             0.1,
             "#c51b7d"
            ],
            [
             0.2,
             "#de77ae"
            ],
            [
             0.3,
             "#f1b6da"
            ],
            [
             0.4,
             "#fde0ef"
            ],
            [
             0.5,
             "#f7f7f7"
            ],
            [
             0.6,
             "#e6f5d0"
            ],
            [
             0.7,
             "#b8e186"
            ],
            [
             0.8,
             "#7fbc41"
            ],
            [
             0.9,
             "#4d9221"
            ],
            [
             1,
             "#276419"
            ]
           ],
           "sequential": [
            [
             0,
             "#0d0887"
            ],
            [
             0.1111111111111111,
             "#46039f"
            ],
            [
             0.2222222222222222,
             "#7201a8"
            ],
            [
             0.3333333333333333,
             "#9c179e"
            ],
            [
             0.4444444444444444,
             "#bd3786"
            ],
            [
             0.5555555555555556,
             "#d8576b"
            ],
            [
             0.6666666666666666,
             "#ed7953"
            ],
            [
             0.7777777777777778,
             "#fb9f3a"
            ],
            [
             0.8888888888888888,
             "#fdca26"
            ],
            [
             1,
             "#f0f921"
            ]
           ],
           "sequentialminus": [
            [
             0,
             "#0d0887"
            ],
            [
             0.1111111111111111,
             "#46039f"
            ],
            [
             0.2222222222222222,
             "#7201a8"
            ],
            [
             0.3333333333333333,
             "#9c179e"
            ],
            [
             0.4444444444444444,
             "#bd3786"
            ],
            [
             0.5555555555555556,
             "#d8576b"
            ],
            [
             0.6666666666666666,
             "#ed7953"
            ],
            [
             0.7777777777777778,
             "#fb9f3a"
            ],
            [
             0.8888888888888888,
             "#fdca26"
            ],
            [
             1,
             "#f0f921"
            ]
           ]
          },
          "colorway": [
           "#636efa",
           "#EF553B",
           "#00cc96",
           "#ab63fa",
           "#FFA15A",
           "#19d3f3",
           "#FF6692",
           "#B6E880",
           "#FF97FF",
           "#FECB52"
          ],
          "font": {
           "color": "#2a3f5f"
          },
          "geo": {
           "bgcolor": "white",
           "lakecolor": "white",
           "landcolor": "#E5ECF6",
           "showlakes": true,
           "showland": true,
           "subunitcolor": "white"
          },
          "hoverlabel": {
           "align": "left"
          },
          "hovermode": "closest",
          "mapbox": {
           "style": "light"
          },
          "paper_bgcolor": "white",
          "plot_bgcolor": "#E5ECF6",
          "polar": {
           "angularaxis": {
            "gridcolor": "white",
            "linecolor": "white",
            "ticks": ""
           },
           "bgcolor": "#E5ECF6",
           "radialaxis": {
            "gridcolor": "white",
            "linecolor": "white",
            "ticks": ""
           }
          },
          "scene": {
           "xaxis": {
            "backgroundcolor": "#E5ECF6",
            "gridcolor": "white",
            "gridwidth": 2,
            "linecolor": "white",
            "showbackground": true,
            "ticks": "",
            "zerolinecolor": "white"
           },
           "yaxis": {
            "backgroundcolor": "#E5ECF6",
            "gridcolor": "white",
            "gridwidth": 2,
            "linecolor": "white",
            "showbackground": true,
            "ticks": "",
            "zerolinecolor": "white"
           },
           "zaxis": {
            "backgroundcolor": "#E5ECF6",
            "gridcolor": "white",
            "gridwidth": 2,
            "linecolor": "white",
            "showbackground": true,
            "ticks": "",
            "zerolinecolor": "white"
           }
          },
          "shapedefaults": {
           "line": {
            "color": "#2a3f5f"
           }
          },
          "ternary": {
           "aaxis": {
            "gridcolor": "white",
            "linecolor": "white",
            "ticks": ""
           },
           "baxis": {
            "gridcolor": "white",
            "linecolor": "white",
            "ticks": ""
           },
           "bgcolor": "#E5ECF6",
           "caxis": {
            "gridcolor": "white",
            "linecolor": "white",
            "ticks": ""
           }
          },
          "title": {
           "x": 0.05
          },
          "xaxis": {
           "automargin": true,
           "gridcolor": "white",
           "linecolor": "white",
           "ticks": "",
           "title": {
            "standoff": 15
           },
           "zerolinecolor": "white",
           "zerolinewidth": 2
          },
          "yaxis": {
           "automargin": true,
           "gridcolor": "white",
           "linecolor": "white",
           "ticks": "",
           "title": {
            "standoff": 15
           },
           "zerolinecolor": "white",
           "zerolinewidth": 2
          }
         }
        },
        "title": {
         "text": "Parallel Coordinates Analysis of Most Expensive San Francisco Neighborhoods"
        }
       }
      },
      "text/html": [
       "<div>                            <div id=\"06850ec3-3221-4311-a6da-72dd6b943e09\" class=\"plotly-graph-div\" style=\"height:525px; width:100%;\"></div>            <script type=\"text/javascript\">                require([\"plotly\"], function(Plotly) {                    window.PLOTLYENV=window.PLOTLYENV || {};                                    if (document.getElementById(\"06850ec3-3221-4311-a6da-72dd6b943e09\")) {                    Plotly.newPlot(                        \"06850ec3-3221-4311-a6da-72dd6b943e09\",                        [{\"dimensions\":[{\"label\":\"sale_price_sqr_foot\",\"values\":[903.9932576720645,788.8448175872469,779.810842264425,689.5558168113664,687.0875745178322,676.5065775293257,675.3502120510033,665.9640415783227,662.0136128276529,650.1244791945729]},{\"label\":\"housing_units\",\"values\":[377427.5,380348.0,375967.25,378401.0,382295.0,378401.0,378401.0,378401.0,378401.0,375805.0]},{\"label\":\"gross_rent\",\"values\":[2555.1666666666665,3414.0,2155.25,2817.285714285714,3959.0,2817.285714285714,2817.285714285714,2817.285714285714,2817.285714285714,2099.0]}],\"domain\":{\"x\":[0.0,1.0],\"y\":[0.0,1.0]},\"line\":{\"color\":[903.9932576720645,788.8448175872469,779.810842264425,689.5558168113664,687.0875745178322,676.5065775293257,675.3502120510033,665.9640415783227,662.0136128276529,650.1244791945729],\"coloraxis\":\"coloraxis\"},\"name\":\"\",\"type\":\"parcoords\"}],                        {\"template\":{\"data\":{\"bar\":[{\"error_x\":{\"color\":\"#2a3f5f\"},\"error_y\":{\"color\":\"#2a3f5f\"},\"marker\":{\"line\":{\"color\":\"#E5ECF6\",\"width\":0.5},\"pattern\":{\"fillmode\":\"overlay\",\"size\":10,\"solidity\":0.2}},\"type\":\"bar\"}],\"barpolar\":[{\"marker\":{\"line\":{\"color\":\"#E5ECF6\",\"width\":0.5},\"pattern\":{\"fillmode\":\"overlay\",\"size\":10,\"solidity\":0.2}},\"type\":\"barpolar\"}],\"carpet\":[{\"aaxis\":{\"endlinecolor\":\"#2a3f5f\",\"gridcolor\":\"white\",\"linecolor\":\"white\",\"minorgridcolor\":\"white\",\"startlinecolor\":\"#2a3f5f\"},\"baxis\":{\"endlinecolor\":\"#2a3f5f\",\"gridcolor\":\"white\",\"linecolor\":\"white\",\"minorgridcolor\":\"white\",\"startlinecolor\":\"#2a3f5f\"},\"type\":\"carpet\"}],\"choropleth\":[{\"colorbar\":{\"outlinewidth\":0,\"ticks\":\"\"},\"type\":\"choropleth\"}],\"contour\":[{\"colorbar\":{\"outlinewidth\":0,\"ticks\":\"\"},\"colorscale\":[[0.0,\"#0d0887\"],[0.1111111111111111,\"#46039f\"],[0.2222222222222222,\"#7201a8\"],[0.3333333333333333,\"#9c179e\"],[0.4444444444444444,\"#bd3786\"],[0.5555555555555556,\"#d8576b\"],[0.6666666666666666,\"#ed7953\"],[0.7777777777777778,\"#fb9f3a\"],[0.8888888888888888,\"#fdca26\"],[1.0,\"#f0f921\"]],\"type\":\"contour\"}],\"contourcarpet\":[{\"colorbar\":{\"outlinewidth\":0,\"ticks\":\"\"},\"type\":\"contourcarpet\"}],\"heatmap\":[{\"colorbar\":{\"outlinewidth\":0,\"ticks\":\"\"},\"colorscale\":[[0.0,\"#0d0887\"],[0.1111111111111111,\"#46039f\"],[0.2222222222222222,\"#7201a8\"],[0.3333333333333333,\"#9c179e\"],[0.4444444444444444,\"#bd3786\"],[0.5555555555555556,\"#d8576b\"],[0.6666666666666666,\"#ed7953\"],[0.7777777777777778,\"#fb9f3a\"],[0.8888888888888888,\"#fdca26\"],[1.0,\"#f0f921\"]],\"type\":\"heatmap\"}],\"heatmapgl\":[{\"colorbar\":{\"outlinewidth\":0,\"ticks\":\"\"},\"colorscale\":[[0.0,\"#0d0887\"],[0.1111111111111111,\"#46039f\"],[0.2222222222222222,\"#7201a8\"],[0.3333333333333333,\"#9c179e\"],[0.4444444444444444,\"#bd3786\"],[0.5555555555555556,\"#d8576b\"],[0.6666666666666666,\"#ed7953\"],[0.7777777777777778,\"#fb9f3a\"],[0.8888888888888888,\"#fdca26\"],[1.0,\"#f0f921\"]],\"type\":\"heatmapgl\"}],\"histogram\":[{\"marker\":{\"pattern\":{\"fillmode\":\"overlay\",\"size\":10,\"solidity\":0.2}},\"type\":\"histogram\"}],\"histogram2d\":[{\"colorbar\":{\"outlinewidth\":0,\"ticks\":\"\"},\"colorscale\":[[0.0,\"#0d0887\"],[0.1111111111111111,\"#46039f\"],[0.2222222222222222,\"#7201a8\"],[0.3333333333333333,\"#9c179e\"],[0.4444444444444444,\"#bd3786\"],[0.5555555555555556,\"#d8576b\"],[0.6666666666666666,\"#ed7953\"],[0.7777777777777778,\"#fb9f3a\"],[0.8888888888888888,\"#fdca26\"],[1.0,\"#f0f921\"]],\"type\":\"histogram2d\"}],\"histogram2dcontour\":[{\"colorbar\":{\"outlinewidth\":0,\"ticks\":\"\"},\"colorscale\":[[0.0,\"#0d0887\"],[0.1111111111111111,\"#46039f\"],[0.2222222222222222,\"#7201a8\"],[0.3333333333333333,\"#9c179e\"],[0.4444444444444444,\"#bd3786\"],[0.5555555555555556,\"#d8576b\"],[0.6666666666666666,\"#ed7953\"],[0.7777777777777778,\"#fb9f3a\"],[0.8888888888888888,\"#fdca26\"],[1.0,\"#f0f921\"]],\"type\":\"histogram2dcontour\"}],\"mesh3d\":[{\"colorbar\":{\"outlinewidth\":0,\"ticks\":\"\"},\"type\":\"mesh3d\"}],\"parcoords\":[{\"line\":{\"colorbar\":{\"outlinewidth\":0,\"ticks\":\"\"}},\"type\":\"parcoords\"}],\"pie\":[{\"automargin\":true,\"type\":\"pie\"}],\"scatter\":[{\"marker\":{\"colorbar\":{\"outlinewidth\":0,\"ticks\":\"\"}},\"type\":\"scatter\"}],\"scatter3d\":[{\"line\":{\"colorbar\":{\"outlinewidth\":0,\"ticks\":\"\"}},\"marker\":{\"colorbar\":{\"outlinewidth\":0,\"ticks\":\"\"}},\"type\":\"scatter3d\"}],\"scattercarpet\":[{\"marker\":{\"colorbar\":{\"outlinewidth\":0,\"ticks\":\"\"}},\"type\":\"scattercarpet\"}],\"scattergeo\":[{\"marker\":{\"colorbar\":{\"outlinewidth\":0,\"ticks\":\"\"}},\"type\":\"scattergeo\"}],\"scattergl\":[{\"marker\":{\"colorbar\":{\"outlinewidth\":0,\"ticks\":\"\"}},\"type\":\"scattergl\"}],\"scattermapbox\":[{\"marker\":{\"colorbar\":{\"outlinewidth\":0,\"ticks\":\"\"}},\"type\":\"scattermapbox\"}],\"scatterpolar\":[{\"marker\":{\"colorbar\":{\"outlinewidth\":0,\"ticks\":\"\"}},\"type\":\"scatterpolar\"}],\"scatterpolargl\":[{\"marker\":{\"colorbar\":{\"outlinewidth\":0,\"ticks\":\"\"}},\"type\":\"scatterpolargl\"}],\"scatterternary\":[{\"marker\":{\"colorbar\":{\"outlinewidth\":0,\"ticks\":\"\"}},\"type\":\"scatterternary\"}],\"surface\":[{\"colorbar\":{\"outlinewidth\":0,\"ticks\":\"\"},\"colorscale\":[[0.0,\"#0d0887\"],[0.1111111111111111,\"#46039f\"],[0.2222222222222222,\"#7201a8\"],[0.3333333333333333,\"#9c179e\"],[0.4444444444444444,\"#bd3786\"],[0.5555555555555556,\"#d8576b\"],[0.6666666666666666,\"#ed7953\"],[0.7777777777777778,\"#fb9f3a\"],[0.8888888888888888,\"#fdca26\"],[1.0,\"#f0f921\"]],\"type\":\"surface\"}],\"table\":[{\"cells\":{\"fill\":{\"color\":\"#EBF0F8\"},\"line\":{\"color\":\"white\"}},\"header\":{\"fill\":{\"color\":\"#C8D4E3\"},\"line\":{\"color\":\"white\"}},\"type\":\"table\"}]},\"layout\":{\"annotationdefaults\":{\"arrowcolor\":\"#2a3f5f\",\"arrowhead\":0,\"arrowwidth\":1},\"autotypenumbers\":\"strict\",\"coloraxis\":{\"colorbar\":{\"outlinewidth\":0,\"ticks\":\"\"}},\"colorscale\":{\"diverging\":[[0,\"#8e0152\"],[0.1,\"#c51b7d\"],[0.2,\"#de77ae\"],[0.3,\"#f1b6da\"],[0.4,\"#fde0ef\"],[0.5,\"#f7f7f7\"],[0.6,\"#e6f5d0\"],[0.7,\"#b8e186\"],[0.8,\"#7fbc41\"],[0.9,\"#4d9221\"],[1,\"#276419\"]],\"sequential\":[[0.0,\"#0d0887\"],[0.1111111111111111,\"#46039f\"],[0.2222222222222222,\"#7201a8\"],[0.3333333333333333,\"#9c179e\"],[0.4444444444444444,\"#bd3786\"],[0.5555555555555556,\"#d8576b\"],[0.6666666666666666,\"#ed7953\"],[0.7777777777777778,\"#fb9f3a\"],[0.8888888888888888,\"#fdca26\"],[1.0,\"#f0f921\"]],\"sequentialminus\":[[0.0,\"#0d0887\"],[0.1111111111111111,\"#46039f\"],[0.2222222222222222,\"#7201a8\"],[0.3333333333333333,\"#9c179e\"],[0.4444444444444444,\"#bd3786\"],[0.5555555555555556,\"#d8576b\"],[0.6666666666666666,\"#ed7953\"],[0.7777777777777778,\"#fb9f3a\"],[0.8888888888888888,\"#fdca26\"],[1.0,\"#f0f921\"]]},\"colorway\":[\"#636efa\",\"#EF553B\",\"#00cc96\",\"#ab63fa\",\"#FFA15A\",\"#19d3f3\",\"#FF6692\",\"#B6E880\",\"#FF97FF\",\"#FECB52\"],\"font\":{\"color\":\"#2a3f5f\"},\"geo\":{\"bgcolor\":\"white\",\"lakecolor\":\"white\",\"landcolor\":\"#E5ECF6\",\"showlakes\":true,\"showland\":true,\"subunitcolor\":\"white\"},\"hoverlabel\":{\"align\":\"left\"},\"hovermode\":\"closest\",\"mapbox\":{\"style\":\"light\"},\"paper_bgcolor\":\"white\",\"plot_bgcolor\":\"#E5ECF6\",\"polar\":{\"angularaxis\":{\"gridcolor\":\"white\",\"linecolor\":\"white\",\"ticks\":\"\"},\"bgcolor\":\"#E5ECF6\",\"radialaxis\":{\"gridcolor\":\"white\",\"linecolor\":\"white\",\"ticks\":\"\"}},\"scene\":{\"xaxis\":{\"backgroundcolor\":\"#E5ECF6\",\"gridcolor\":\"white\",\"gridwidth\":2,\"linecolor\":\"white\",\"showbackground\":true,\"ticks\":\"\",\"zerolinecolor\":\"white\"},\"yaxis\":{\"backgroundcolor\":\"#E5ECF6\",\"gridcolor\":\"white\",\"gridwidth\":2,\"linecolor\":\"white\",\"showbackground\":true,\"ticks\":\"\",\"zerolinecolor\":\"white\"},\"zaxis\":{\"backgroundcolor\":\"#E5ECF6\",\"gridcolor\":\"white\",\"gridwidth\":2,\"linecolor\":\"white\",\"showbackground\":true,\"ticks\":\"\",\"zerolinecolor\":\"white\"}},\"shapedefaults\":{\"line\":{\"color\":\"#2a3f5f\"}},\"ternary\":{\"aaxis\":{\"gridcolor\":\"white\",\"linecolor\":\"white\",\"ticks\":\"\"},\"baxis\":{\"gridcolor\":\"white\",\"linecolor\":\"white\",\"ticks\":\"\"},\"bgcolor\":\"#E5ECF6\",\"caxis\":{\"gridcolor\":\"white\",\"linecolor\":\"white\",\"ticks\":\"\"}},\"title\":{\"x\":0.05},\"xaxis\":{\"automargin\":true,\"gridcolor\":\"white\",\"linecolor\":\"white\",\"ticks\":\"\",\"title\":{\"standoff\":15},\"zerolinecolor\":\"white\",\"zerolinewidth\":2},\"yaxis\":{\"automargin\":true,\"gridcolor\":\"white\",\"linecolor\":\"white\",\"ticks\":\"\",\"title\":{\"standoff\":15},\"zerolinecolor\":\"white\",\"zerolinewidth\":2}}},\"coloraxis\":{\"colorbar\":{\"title\":{\"text\":\"sale_price_sqr_foot\"}},\"colorscale\":[[0.0,\"#0d0887\"],[0.1111111111111111,\"#46039f\"],[0.2222222222222222,\"#7201a8\"],[0.3333333333333333,\"#9c179e\"],[0.4444444444444444,\"#bd3786\"],[0.5555555555555556,\"#d8576b\"],[0.6666666666666666,\"#ed7953\"],[0.7777777777777778,\"#fb9f3a\"],[0.8888888888888888,\"#fdca26\"],[1.0,\"#f0f921\"]]},\"legend\":{\"tracegroupgap\":0},\"title\":{\"text\":\"Parallel Coordinates Analysis of Most Expensive San Francisco Neighborhoods\"}},                        {\"responsive\": true}                    ).then(function(){\n",
       "                            \n",
       "var gd = document.getElementById('06850ec3-3221-4311-a6da-72dd6b943e09');\n",
       "var x = new MutationObserver(function (mutations, observer) {{\n",
       "        var display = window.getComputedStyle(gd).display;\n",
       "        if (!display || display === 'none') {{\n",
       "            console.log([gd, 'removed!']);\n",
       "            Plotly.purge(gd);\n",
       "            observer.disconnect();\n",
       "        }}\n",
       "}});\n",
       "\n",
       "// Listen for the removal of the full notebook cells\n",
       "var notebookContainer = gd.closest('#notebook-container');\n",
       "if (notebookContainer) {{\n",
       "    x.observe(notebookContainer, {childList: true});\n",
       "}}\n",
       "\n",
       "// Listen for the clearing of the current output cell\n",
       "var outputEl = gd.closest('.output');\n",
       "if (outputEl) {{\n",
       "    x.observe(outputEl, {childList: true});\n",
       "}}\n",
       "\n",
       "                        })                };                });            </script>        </div>"
      ]
     },
     "metadata": {},
     "output_type": "display_data"
    }
   ],
   "source": [
    "# Parallel Coordinates Plot\n",
    "px.parallel_coordinates(sfo_most_expensive, color = \"sale_price_sqr_foot\", title = \n",
    "\"Parallel Coordinates Analysis of Most Expensive San Francisco Neighborhoods\")\n"
   ]
  },
  {
   "cell_type": "markdown",
   "id": "412b40e8",
   "metadata": {},
   "source": [
    "Create a sunburst chart to conduct a costs analysis of most expensive neighborhoods in San Francisco per year"
   ]
  },
  {
   "cell_type": "code",
   "execution_count": 121,
   "id": "09509794",
   "metadata": {},
   "outputs": [
    {
     "data": {
      "application/vnd.plotly.v1+json": {
       "config": {
        "plotlyServerURL": "https://plot.ly"
       },
       "data": [
        {
         "branchvalues": "total",
         "customdata": [
          [
           1239,
           1239
          ],
          [
           1529.9999999999998,
           1529.9999999999998
          ],
          [
           2324,
           2324
          ],
          [
           2971,
           2971
          ],
          [
           3527.9999999999995,
           3527.9999999999995
          ],
          [
           3739.0000000000005,
           3739.0000000000005
          ],
          [
           4390,
           4390
          ],
          [
           2324,
           2324
          ],
          [
           3528,
           3528
          ],
          [
           4390,
           4390
          ],
          [
           1239,
           1239
          ],
          [
           1530,
           1530
          ],
          [
           2324,
           2324
          ],
          [
           3528.0000000000005,
           3528.0000000000005
          ],
          [
           1239,
           1239
          ],
          [
           1530,
           1530
          ],
          [
           2324,
           2324
          ],
          [
           2971,
           2971
          ],
          [
           3528,
           3528
          ],
          [
           3739,
           3739
          ],
          [
           4390,
           4390
          ],
          [
           1239,
           1239
          ],
          [
           1530,
           1530
          ],
          [
           2324,
           2324
          ],
          [
           2971,
           2971
          ],
          [
           3528,
           3528
          ],
          [
           3739,
           3739
          ],
          [
           4390,
           4390
          ],
          [
           1239,
           1239
          ],
          [
           1530,
           1530
          ],
          [
           2324,
           2324
          ],
          [
           2971,
           2971
          ],
          [
           3528,
           3528
          ],
          [
           null,
           null
          ],
          [
           4390,
           4390
          ],
          [
           1239,
           1239
          ],
          [
           1529.9999999999998,
           1529.9999999999998
          ],
          [
           3528,
           3528
          ],
          [
           1239,
           1239
          ],
          [
           1530,
           1530
          ],
          [
           2324,
           2324
          ],
          [
           2971,
           2971
          ],
          [
           3527.9999999999995,
           3527.9999999999995
          ],
          [
           3739,
           3739
          ],
          [
           4390,
           4390
          ],
          [
           1239,
           1239
          ],
          [
           1530,
           1530
          ],
          [
           2324,
           2324
          ],
          [
           2971,
           2971
          ],
          [
           3528,
           3528
          ],
          [
           3739.0000000000005,
           3739.0000000000005
          ],
          [
           3528.0000000000005,
           3528.0000000000005
          ],
          [
           4390,
           4390
          ],
          [
           1238.9999999999998,
           1238.9999999999998
          ],
          [
           1530,
           1530
          ],
          [
           2323.9999999999995,
           2323.9999999999995
          ],
          [
           2971,
           2971
          ],
          [
           3528,
           3528
          ],
          [
           null,
           null
          ],
          [
           4390,
           4390
          ]
         ],
         "domain": {
          "x": [
           0,
           1
          ],
          "y": [
           0,
           1
          ]
         },
         "hovertemplate": "labels=%{label}<br>sale_price_sqr_foot=%{value}<br>parent=%{parent}<br>id=%{id}<br>gross_rent=%{color}<extra></extra>",
         "ids": [
          "2010/Cow Hollow",
          "2011/Cow Hollow",
          "2012/Cow Hollow",
          "2013/Cow Hollow",
          "2014/Cow Hollow",
          "2015/Cow Hollow",
          "2016/Cow Hollow",
          "2012/Merced Heights",
          "2014/Merced Heights",
          "2016/Merced Heights",
          "2010/Miraloma Park",
          "2011/Miraloma Park",
          "2012/Miraloma Park",
          "2014/Miraloma Park",
          "2010/Pacific Heights",
          "2011/Pacific Heights",
          "2012/Pacific Heights",
          "2013/Pacific Heights",
          "2014/Pacific Heights",
          "2015/Pacific Heights",
          "2016/Pacific Heights",
          "2010/Potrero Hill",
          "2011/Potrero Hill",
          "2012/Potrero Hill",
          "2013/Potrero Hill",
          "2014/Potrero Hill",
          "2015/Potrero Hill",
          "2016/Potrero Hill",
          "2010/Presidio Heights",
          "2011/Presidio Heights",
          "2012/Presidio Heights",
          "2013/Presidio Heights",
          "2014/Presidio Heights",
          "2015/Presidio Heights",
          "2016/Presidio Heights",
          "2010/South Beach",
          "2011/South Beach",
          "2014/South Beach",
          "2010/Telegraph Hill",
          "2011/Telegraph Hill",
          "2012/Telegraph Hill",
          "2013/Telegraph Hill",
          "2014/Telegraph Hill",
          "2015/Telegraph Hill",
          "2016/Telegraph Hill",
          "2010/Union Square District",
          "2011/Union Square District",
          "2012/Union Square District",
          "2013/Union Square District",
          "2014/Union Square District",
          "2015/Union Square District",
          "2014/Westwood Park",
          "2016/Westwood Park",
          "2010",
          "2011",
          "2012",
          "2013",
          "2014",
          "2015",
          "2016"
         ],
         "labels": [
          "Cow Hollow",
          "Cow Hollow",
          "Cow Hollow",
          "Cow Hollow",
          "Cow Hollow",
          "Cow Hollow",
          "Cow Hollow",
          "Merced Heights",
          "Merced Heights",
          "Merced Heights",
          "Miraloma Park",
          "Miraloma Park",
          "Miraloma Park",
          "Miraloma Park",
          "Pacific Heights",
          "Pacific Heights",
          "Pacific Heights",
          "Pacific Heights",
          "Pacific Heights",
          "Pacific Heights",
          "Pacific Heights",
          "Potrero Hill",
          "Potrero Hill",
          "Potrero Hill",
          "Potrero Hill",
          "Potrero Hill",
          "Potrero Hill",
          "Potrero Hill",
          "Presidio Heights",
          "Presidio Heights",
          "Presidio Heights",
          "Presidio Heights",
          "Presidio Heights",
          "Presidio Heights",
          "Presidio Heights",
          "South Beach",
          "South Beach",
          "South Beach",
          "Telegraph Hill",
          "Telegraph Hill",
          "Telegraph Hill",
          "Telegraph Hill",
          "Telegraph Hill",
          "Telegraph Hill",
          "Telegraph Hill",
          "Union Square District",
          "Union Square District",
          "Union Square District",
          "Union Square District",
          "Union Square District",
          "Union Square District",
          "Westwood Park",
          "Westwood Park",
          "2010",
          "2011",
          "2012",
          "2013",
          "2014",
          "2015",
          "2016"
         ],
         "marker": {
          "coloraxis": "coloraxis",
          "colors": [
           1239,
           1529.9999999999998,
           2324,
           2971,
           3527.9999999999995,
           3739.0000000000005,
           4390,
           2324,
           3528,
           4390,
           1239,
           1530,
           2324,
           3528.0000000000005,
           1239,
           1530,
           2324,
           2971,
           3528,
           3739,
           4390,
           1239,
           1530,
           2324,
           2971,
           3528,
           3739,
           4390,
           1239,
           1530,
           2324,
           2971,
           3528,
           null,
           4390,
           1239,
           1529.9999999999998,
           3528,
           1239,
           1530,
           2324,
           2971,
           3527.9999999999995,
           3739,
           4390,
           1239,
           1530,
           2324,
           2971,
           3528,
           3739.0000000000005,
           3528.0000000000005,
           4390,
           1238.9999999999998,
           1530,
           2323.9999999999995,
           2971,
           3528,
           null,
           4390
          ]
         },
         "name": "",
         "parents": [
          "2010",
          "2011",
          "2012",
          "2013",
          "2014",
          "2015",
          "2016",
          "2012",
          "2014",
          "2016",
          "2010",
          "2011",
          "2012",
          "2014",
          "2010",
          "2011",
          "2012",
          "2013",
          "2014",
          "2015",
          "2016",
          "2010",
          "2011",
          "2012",
          "2013",
          "2014",
          "2015",
          "2016",
          "2010",
          "2011",
          "2012",
          "2013",
          "2014",
          "2015",
          "2016",
          "2010",
          "2011",
          "2014",
          "2010",
          "2011",
          "2012",
          "2013",
          "2014",
          "2015",
          "2016",
          "2010",
          "2011",
          "2012",
          "2013",
          "2014",
          "2015",
          "2014",
          "2016",
          "",
          "",
          "",
          "",
          "",
          "",
          ""
         ],
         "type": "sunburst",
         "values": [
          569.3799679261333,
          390.5956530284181,
          644.8183066758802,
          707.4028088888208,
          691.8654114838455,
          598.6205414959002,
          1059.0656015492618,
          421.1412447061912,
          528.7265413888829,
          1416.6666666666667,
          680.6087291389301,
          414.6760647760375,
          756.1923725098497,
          1267.7662026328828,
          496.5160141469498,
          509.0214800287398,
          586.2182148097696,
          503.8992613300536,
          824.6586936349588,
          910.1876901656898,
          996.3893635634032,
          491.45000385678617,
          503.13850456030497,
          466.6478402167172,
          598.704795328917,
          1045.2015459222662,
          821.3009904764873,
          707.6516094320913,
          549.4179312485746,
          493.814917282618,
          426.6085920717133,
          512.8402484358224,
          603.4509968798565,
          0,
          1465.9685863874345,
          1037.0997886617895,
          388.6443367815386,
          524.6293121403909,
          524.7935090952678,
          483.4057725178001,
          465.8021216317738,
          653.3116166908643,
          708.1930316849231,
          996.9902204858652,
          903.0497705987848,
          569.1934475267735,
          302.1232528096913,
          445.1967876448792,
          1290.472106646641,
          558.2711194060469,
          2258.702831998355,
          742.9797231632552,
          631.1954258724091,
          4918.459391601205,
          3485.419981785148,
          4212.6254802667745,
          4266.6308373211195,
          7495.742578337309,
          5585.802274622298,
          7179.987024070051
         ]
        }
       ],
       "layout": {
        "coloraxis": {
         "colorbar": {
          "title": {
           "text": "gross_rent"
          }
         },
         "colorscale": [
          [
           0,
           "rgb(247,251,255)"
          ],
          [
           0.125,
           "rgb(222,235,247)"
          ],
          [
           0.25,
           "rgb(198,219,239)"
          ],
          [
           0.375,
           "rgb(158,202,225)"
          ],
          [
           0.5,
           "rgb(107,174,214)"
          ],
          [
           0.625,
           "rgb(66,146,198)"
          ],
          [
           0.75,
           "rgb(33,113,181)"
          ],
          [
           0.875,
           "rgb(8,81,156)"
          ],
          [
           1,
           "rgb(8,48,107)"
          ]
         ]
        },
        "height": 700,
        "legend": {
         "tracegroupgap": 0
        },
        "template": {
         "data": {
          "bar": [
           {
            "error_x": {
             "color": "#2a3f5f"
            },
            "error_y": {
             "color": "#2a3f5f"
            },
            "marker": {
             "line": {
              "color": "#E5ECF6",
              "width": 0.5
             },
             "pattern": {
              "fillmode": "overlay",
              "size": 10,
              "solidity": 0.2
             }
            },
            "type": "bar"
           }
          ],
          "barpolar": [
           {
            "marker": {
             "line": {
              "color": "#E5ECF6",
              "width": 0.5
             },
             "pattern": {
              "fillmode": "overlay",
              "size": 10,
              "solidity": 0.2
             }
            },
            "type": "barpolar"
           }
          ],
          "carpet": [
           {
            "aaxis": {
             "endlinecolor": "#2a3f5f",
             "gridcolor": "white",
             "linecolor": "white",
             "minorgridcolor": "white",
             "startlinecolor": "#2a3f5f"
            },
            "baxis": {
             "endlinecolor": "#2a3f5f",
             "gridcolor": "white",
             "linecolor": "white",
             "minorgridcolor": "white",
             "startlinecolor": "#2a3f5f"
            },
            "type": "carpet"
           }
          ],
          "choropleth": [
           {
            "colorbar": {
             "outlinewidth": 0,
             "ticks": ""
            },
            "type": "choropleth"
           }
          ],
          "contour": [
           {
            "colorbar": {
             "outlinewidth": 0,
             "ticks": ""
            },
            "colorscale": [
             [
              0,
              "#0d0887"
             ],
             [
              0.1111111111111111,
              "#46039f"
             ],
             [
              0.2222222222222222,
              "#7201a8"
             ],
             [
              0.3333333333333333,
              "#9c179e"
             ],
             [
              0.4444444444444444,
              "#bd3786"
             ],
             [
              0.5555555555555556,
              "#d8576b"
             ],
             [
              0.6666666666666666,
              "#ed7953"
             ],
             [
              0.7777777777777778,
              "#fb9f3a"
             ],
             [
              0.8888888888888888,
              "#fdca26"
             ],
             [
              1,
              "#f0f921"
             ]
            ],
            "type": "contour"
           }
          ],
          "contourcarpet": [
           {
            "colorbar": {
             "outlinewidth": 0,
             "ticks": ""
            },
            "type": "contourcarpet"
           }
          ],
          "heatmap": [
           {
            "colorbar": {
             "outlinewidth": 0,
             "ticks": ""
            },
            "colorscale": [
             [
              0,
              "#0d0887"
             ],
             [
              0.1111111111111111,
              "#46039f"
             ],
             [
              0.2222222222222222,
              "#7201a8"
             ],
             [
              0.3333333333333333,
              "#9c179e"
             ],
             [
              0.4444444444444444,
              "#bd3786"
             ],
             [
              0.5555555555555556,
              "#d8576b"
             ],
             [
              0.6666666666666666,
              "#ed7953"
             ],
             [
              0.7777777777777778,
              "#fb9f3a"
             ],
             [
              0.8888888888888888,
              "#fdca26"
             ],
             [
              1,
              "#f0f921"
             ]
            ],
            "type": "heatmap"
           }
          ],
          "heatmapgl": [
           {
            "colorbar": {
             "outlinewidth": 0,
             "ticks": ""
            },
            "colorscale": [
             [
              0,
              "#0d0887"
             ],
             [
              0.1111111111111111,
              "#46039f"
             ],
             [
              0.2222222222222222,
              "#7201a8"
             ],
             [
              0.3333333333333333,
              "#9c179e"
             ],
             [
              0.4444444444444444,
              "#bd3786"
             ],
             [
              0.5555555555555556,
              "#d8576b"
             ],
             [
              0.6666666666666666,
              "#ed7953"
             ],
             [
              0.7777777777777778,
              "#fb9f3a"
             ],
             [
              0.8888888888888888,
              "#fdca26"
             ],
             [
              1,
              "#f0f921"
             ]
            ],
            "type": "heatmapgl"
           }
          ],
          "histogram": [
           {
            "marker": {
             "pattern": {
              "fillmode": "overlay",
              "size": 10,
              "solidity": 0.2
             }
            },
            "type": "histogram"
           }
          ],
          "histogram2d": [
           {
            "colorbar": {
             "outlinewidth": 0,
             "ticks": ""
            },
            "colorscale": [
             [
              0,
              "#0d0887"
             ],
             [
              0.1111111111111111,
              "#46039f"
             ],
             [
              0.2222222222222222,
              "#7201a8"
             ],
             [
              0.3333333333333333,
              "#9c179e"
             ],
             [
              0.4444444444444444,
              "#bd3786"
             ],
             [
              0.5555555555555556,
              "#d8576b"
             ],
             [
              0.6666666666666666,
              "#ed7953"
             ],
             [
              0.7777777777777778,
              "#fb9f3a"
             ],
             [
              0.8888888888888888,
              "#fdca26"
             ],
             [
              1,
              "#f0f921"
             ]
            ],
            "type": "histogram2d"
           }
          ],
          "histogram2dcontour": [
           {
            "colorbar": {
             "outlinewidth": 0,
             "ticks": ""
            },
            "colorscale": [
             [
              0,
              "#0d0887"
             ],
             [
              0.1111111111111111,
              "#46039f"
             ],
             [
              0.2222222222222222,
              "#7201a8"
             ],
             [
              0.3333333333333333,
              "#9c179e"
             ],
             [
              0.4444444444444444,
              "#bd3786"
             ],
             [
              0.5555555555555556,
              "#d8576b"
             ],
             [
              0.6666666666666666,
              "#ed7953"
             ],
             [
              0.7777777777777778,
              "#fb9f3a"
             ],
             [
              0.8888888888888888,
              "#fdca26"
             ],
             [
              1,
              "#f0f921"
             ]
            ],
            "type": "histogram2dcontour"
           }
          ],
          "mesh3d": [
           {
            "colorbar": {
             "outlinewidth": 0,
             "ticks": ""
            },
            "type": "mesh3d"
           }
          ],
          "parcoords": [
           {
            "line": {
             "colorbar": {
              "outlinewidth": 0,
              "ticks": ""
             }
            },
            "type": "parcoords"
           }
          ],
          "pie": [
           {
            "automargin": true,
            "type": "pie"
           }
          ],
          "scatter": [
           {
            "marker": {
             "colorbar": {
              "outlinewidth": 0,
              "ticks": ""
             }
            },
            "type": "scatter"
           }
          ],
          "scatter3d": [
           {
            "line": {
             "colorbar": {
              "outlinewidth": 0,
              "ticks": ""
             }
            },
            "marker": {
             "colorbar": {
              "outlinewidth": 0,
              "ticks": ""
             }
            },
            "type": "scatter3d"
           }
          ],
          "scattercarpet": [
           {
            "marker": {
             "colorbar": {
              "outlinewidth": 0,
              "ticks": ""
             }
            },
            "type": "scattercarpet"
           }
          ],
          "scattergeo": [
           {
            "marker": {
             "colorbar": {
              "outlinewidth": 0,
              "ticks": ""
             }
            },
            "type": "scattergeo"
           }
          ],
          "scattergl": [
           {
            "marker": {
             "colorbar": {
              "outlinewidth": 0,
              "ticks": ""
             }
            },
            "type": "scattergl"
           }
          ],
          "scattermapbox": [
           {
            "marker": {
             "colorbar": {
              "outlinewidth": 0,
              "ticks": ""
             }
            },
            "type": "scattermapbox"
           }
          ],
          "scatterpolar": [
           {
            "marker": {
             "colorbar": {
              "outlinewidth": 0,
              "ticks": ""
             }
            },
            "type": "scatterpolar"
           }
          ],
          "scatterpolargl": [
           {
            "marker": {
             "colorbar": {
              "outlinewidth": 0,
              "ticks": ""
             }
            },
            "type": "scatterpolargl"
           }
          ],
          "scatterternary": [
           {
            "marker": {
             "colorbar": {
              "outlinewidth": 0,
              "ticks": ""
             }
            },
            "type": "scatterternary"
           }
          ],
          "surface": [
           {
            "colorbar": {
             "outlinewidth": 0,
             "ticks": ""
            },
            "colorscale": [
             [
              0,
              "#0d0887"
             ],
             [
              0.1111111111111111,
              "#46039f"
             ],
             [
              0.2222222222222222,
              "#7201a8"
             ],
             [
              0.3333333333333333,
              "#9c179e"
             ],
             [
              0.4444444444444444,
              "#bd3786"
             ],
             [
              0.5555555555555556,
              "#d8576b"
             ],
             [
              0.6666666666666666,
              "#ed7953"
             ],
             [
              0.7777777777777778,
              "#fb9f3a"
             ],
             [
              0.8888888888888888,
              "#fdca26"
             ],
             [
              1,
              "#f0f921"
             ]
            ],
            "type": "surface"
           }
          ],
          "table": [
           {
            "cells": {
             "fill": {
              "color": "#EBF0F8"
             },
             "line": {
              "color": "white"
             }
            },
            "header": {
             "fill": {
              "color": "#C8D4E3"
             },
             "line": {
              "color": "white"
             }
            },
            "type": "table"
           }
          ]
         },
         "layout": {
          "annotationdefaults": {
           "arrowcolor": "#2a3f5f",
           "arrowhead": 0,
           "arrowwidth": 1
          },
          "autotypenumbers": "strict",
          "coloraxis": {
           "colorbar": {
            "outlinewidth": 0,
            "ticks": ""
           }
          },
          "colorscale": {
           "diverging": [
            [
             0,
             "#8e0152"
            ],
            [
             0.1,
             "#c51b7d"
            ],
            [
             0.2,
             "#de77ae"
            ],
            [
             0.3,
             "#f1b6da"
            ],
            [
             0.4,
             "#fde0ef"
            ],
            [
             0.5,
             "#f7f7f7"
            ],
            [
             0.6,
             "#e6f5d0"
            ],
            [
             0.7,
             "#b8e186"
            ],
            [
             0.8,
             "#7fbc41"
            ],
            [
             0.9,
             "#4d9221"
            ],
            [
             1,
             "#276419"
            ]
           ],
           "sequential": [
            [
             0,
             "#0d0887"
            ],
            [
             0.1111111111111111,
             "#46039f"
            ],
            [
             0.2222222222222222,
             "#7201a8"
            ],
            [
             0.3333333333333333,
             "#9c179e"
            ],
            [
             0.4444444444444444,
             "#bd3786"
            ],
            [
             0.5555555555555556,
             "#d8576b"
            ],
            [
             0.6666666666666666,
             "#ed7953"
            ],
            [
             0.7777777777777778,
             "#fb9f3a"
            ],
            [
             0.8888888888888888,
             "#fdca26"
            ],
            [
             1,
             "#f0f921"
            ]
           ],
           "sequentialminus": [
            [
             0,
             "#0d0887"
            ],
            [
             0.1111111111111111,
             "#46039f"
            ],
            [
             0.2222222222222222,
             "#7201a8"
            ],
            [
             0.3333333333333333,
             "#9c179e"
            ],
            [
             0.4444444444444444,
             "#bd3786"
            ],
            [
             0.5555555555555556,
             "#d8576b"
            ],
            [
             0.6666666666666666,
             "#ed7953"
            ],
            [
             0.7777777777777778,
             "#fb9f3a"
            ],
            [
             0.8888888888888888,
             "#fdca26"
            ],
            [
             1,
             "#f0f921"
            ]
           ]
          },
          "colorway": [
           "#636efa",
           "#EF553B",
           "#00cc96",
           "#ab63fa",
           "#FFA15A",
           "#19d3f3",
           "#FF6692",
           "#B6E880",
           "#FF97FF",
           "#FECB52"
          ],
          "font": {
           "color": "#2a3f5f"
          },
          "geo": {
           "bgcolor": "white",
           "lakecolor": "white",
           "landcolor": "#E5ECF6",
           "showlakes": true,
           "showland": true,
           "subunitcolor": "white"
          },
          "hoverlabel": {
           "align": "left"
          },
          "hovermode": "closest",
          "mapbox": {
           "style": "light"
          },
          "paper_bgcolor": "white",
          "plot_bgcolor": "#E5ECF6",
          "polar": {
           "angularaxis": {
            "gridcolor": "white",
            "linecolor": "white",
            "ticks": ""
           },
           "bgcolor": "#E5ECF6",
           "radialaxis": {
            "gridcolor": "white",
            "linecolor": "white",
            "ticks": ""
           }
          },
          "scene": {
           "xaxis": {
            "backgroundcolor": "#E5ECF6",
            "gridcolor": "white",
            "gridwidth": 2,
            "linecolor": "white",
            "showbackground": true,
            "ticks": "",
            "zerolinecolor": "white"
           },
           "yaxis": {
            "backgroundcolor": "#E5ECF6",
            "gridcolor": "white",
            "gridwidth": 2,
            "linecolor": "white",
            "showbackground": true,
            "ticks": "",
            "zerolinecolor": "white"
           },
           "zaxis": {
            "backgroundcolor": "#E5ECF6",
            "gridcolor": "white",
            "gridwidth": 2,
            "linecolor": "white",
            "showbackground": true,
            "ticks": "",
            "zerolinecolor": "white"
           }
          },
          "shapedefaults": {
           "line": {
            "color": "#2a3f5f"
           }
          },
          "ternary": {
           "aaxis": {
            "gridcolor": "white",
            "linecolor": "white",
            "ticks": ""
           },
           "baxis": {
            "gridcolor": "white",
            "linecolor": "white",
            "ticks": ""
           },
           "bgcolor": "#E5ECF6",
           "caxis": {
            "gridcolor": "white",
            "linecolor": "white",
            "ticks": ""
           }
          },
          "title": {
           "x": 0.05
          },
          "xaxis": {
           "automargin": true,
           "gridcolor": "white",
           "linecolor": "white",
           "ticks": "",
           "title": {
            "standoff": 15
           },
           "zerolinecolor": "white",
           "zerolinewidth": 2
          },
          "yaxis": {
           "automargin": true,
           "gridcolor": "white",
           "linecolor": "white",
           "ticks": "",
           "title": {
            "standoff": 15
           },
           "zerolinecolor": "white",
           "zerolinewidth": 2
          }
         }
        },
        "title": {
         "text": "Cost Analysis of Most Expensive Neighborhoods in San Francisco per Year"
        }
       }
      },
      "text/html": [
       "<div>                            <div id=\"fa33b4d4-59da-47aa-93be-5ba26d054de9\" class=\"plotly-graph-div\" style=\"height:700px; width:100%;\"></div>            <script type=\"text/javascript\">                require([\"plotly\"], function(Plotly) {                    window.PLOTLYENV=window.PLOTLYENV || {};                                    if (document.getElementById(\"fa33b4d4-59da-47aa-93be-5ba26d054de9\")) {                    Plotly.newPlot(                        \"fa33b4d4-59da-47aa-93be-5ba26d054de9\",                        [{\"branchvalues\":\"total\",\"customdata\":[[1239.0,1239.0],[1529.9999999999998,1529.9999999999998],[2324.0,2324.0],[2971.0,2971.0],[3527.9999999999995,3527.9999999999995],[3739.0000000000005,3739.0000000000005],[4390.0,4390.0],[2324.0,2324.0],[3528.0,3528.0],[4390.0,4390.0],[1239.0,1239.0],[1530.0,1530.0],[2324.0,2324.0],[3528.0000000000005,3528.0000000000005],[1239.0,1239.0],[1530.0,1530.0],[2324.0,2324.0],[2971.0,2971.0],[3528.0,3528.0],[3739.0,3739.0],[4390.0,4390.0],[1239.0,1239.0],[1530.0,1530.0],[2324.0,2324.0],[2971.0,2971.0],[3528.0,3528.0],[3739.0,3739.0],[4390.0,4390.0],[1239.0,1239.0],[1530.0,1530.0],[2324.0,2324.0],[2971.0,2971.0],[3528.0,3528.0],[null,null],[4390.0,4390.0],[1239.0,1239.0],[1529.9999999999998,1529.9999999999998],[3528.0,3528.0],[1239.0,1239.0],[1530.0,1530.0],[2324.0,2324.0],[2971.0,2971.0],[3527.9999999999995,3527.9999999999995],[3739.0,3739.0],[4390.0,4390.0],[1239.0,1239.0],[1530.0,1530.0],[2324.0,2324.0],[2971.0,2971.0],[3528.0,3528.0],[3739.0000000000005,3739.0000000000005],[3528.0000000000005,3528.0000000000005],[4390.0,4390.0],[1238.9999999999998,1238.9999999999998],[1530.0,1530.0],[2323.9999999999995,2323.9999999999995],[2971.0,2971.0],[3528.0,3528.0],[null,null],[4390.0,4390.0]],\"domain\":{\"x\":[0.0,1.0],\"y\":[0.0,1.0]},\"hovertemplate\":\"labels=%{label}<br>sale_price_sqr_foot=%{value}<br>parent=%{parent}<br>id=%{id}<br>gross_rent=%{color}<extra></extra>\",\"ids\":[\"2010/Cow Hollow\",\"2011/Cow Hollow\",\"2012/Cow Hollow\",\"2013/Cow Hollow\",\"2014/Cow Hollow\",\"2015/Cow Hollow\",\"2016/Cow Hollow\",\"2012/Merced Heights\",\"2014/Merced Heights\",\"2016/Merced Heights\",\"2010/Miraloma Park\",\"2011/Miraloma Park\",\"2012/Miraloma Park\",\"2014/Miraloma Park\",\"2010/Pacific Heights\",\"2011/Pacific Heights\",\"2012/Pacific Heights\",\"2013/Pacific Heights\",\"2014/Pacific Heights\",\"2015/Pacific Heights\",\"2016/Pacific Heights\",\"2010/Potrero Hill\",\"2011/Potrero Hill\",\"2012/Potrero Hill\",\"2013/Potrero Hill\",\"2014/Potrero Hill\",\"2015/Potrero Hill\",\"2016/Potrero Hill\",\"2010/Presidio Heights\",\"2011/Presidio Heights\",\"2012/Presidio Heights\",\"2013/Presidio Heights\",\"2014/Presidio Heights\",\"2015/Presidio Heights\",\"2016/Presidio Heights\",\"2010/South Beach\",\"2011/South Beach\",\"2014/South Beach\",\"2010/Telegraph Hill\",\"2011/Telegraph Hill\",\"2012/Telegraph Hill\",\"2013/Telegraph Hill\",\"2014/Telegraph Hill\",\"2015/Telegraph Hill\",\"2016/Telegraph Hill\",\"2010/Union Square District\",\"2011/Union Square District\",\"2012/Union Square District\",\"2013/Union Square District\",\"2014/Union Square District\",\"2015/Union Square District\",\"2014/Westwood Park\",\"2016/Westwood Park\",\"2010\",\"2011\",\"2012\",\"2013\",\"2014\",\"2015\",\"2016\"],\"labels\":[\"Cow Hollow\",\"Cow Hollow\",\"Cow Hollow\",\"Cow Hollow\",\"Cow Hollow\",\"Cow Hollow\",\"Cow Hollow\",\"Merced Heights\",\"Merced Heights\",\"Merced Heights\",\"Miraloma Park\",\"Miraloma Park\",\"Miraloma Park\",\"Miraloma Park\",\"Pacific Heights\",\"Pacific Heights\",\"Pacific Heights\",\"Pacific Heights\",\"Pacific Heights\",\"Pacific Heights\",\"Pacific Heights\",\"Potrero Hill\",\"Potrero Hill\",\"Potrero Hill\",\"Potrero Hill\",\"Potrero Hill\",\"Potrero Hill\",\"Potrero Hill\",\"Presidio Heights\",\"Presidio Heights\",\"Presidio Heights\",\"Presidio Heights\",\"Presidio Heights\",\"Presidio Heights\",\"Presidio Heights\",\"South Beach\",\"South Beach\",\"South Beach\",\"Telegraph Hill\",\"Telegraph Hill\",\"Telegraph Hill\",\"Telegraph Hill\",\"Telegraph Hill\",\"Telegraph Hill\",\"Telegraph Hill\",\"Union Square District\",\"Union Square District\",\"Union Square District\",\"Union Square District\",\"Union Square District\",\"Union Square District\",\"Westwood Park\",\"Westwood Park\",\"2010\",\"2011\",\"2012\",\"2013\",\"2014\",\"2015\",\"2016\"],\"marker\":{\"coloraxis\":\"coloraxis\",\"colors\":[1239.0,1529.9999999999998,2324.0,2971.0,3527.9999999999995,3739.0000000000005,4390.0,2324.0,3528.0,4390.0,1239.0,1530.0,2324.0,3528.0000000000005,1239.0,1530.0,2324.0,2971.0,3528.0,3739.0,4390.0,1239.0,1530.0,2324.0,2971.0,3528.0,3739.0,4390.0,1239.0,1530.0,2324.0,2971.0,3528.0,null,4390.0,1239.0,1529.9999999999998,3528.0,1239.0,1530.0,2324.0,2971.0,3527.9999999999995,3739.0,4390.0,1239.0,1530.0,2324.0,2971.0,3528.0,3739.0000000000005,3528.0000000000005,4390.0,1238.9999999999998,1530.0,2323.9999999999995,2971.0,3528.0,null,4390.0]},\"name\":\"\",\"parents\":[\"2010\",\"2011\",\"2012\",\"2013\",\"2014\",\"2015\",\"2016\",\"2012\",\"2014\",\"2016\",\"2010\",\"2011\",\"2012\",\"2014\",\"2010\",\"2011\",\"2012\",\"2013\",\"2014\",\"2015\",\"2016\",\"2010\",\"2011\",\"2012\",\"2013\",\"2014\",\"2015\",\"2016\",\"2010\",\"2011\",\"2012\",\"2013\",\"2014\",\"2015\",\"2016\",\"2010\",\"2011\",\"2014\",\"2010\",\"2011\",\"2012\",\"2013\",\"2014\",\"2015\",\"2016\",\"2010\",\"2011\",\"2012\",\"2013\",\"2014\",\"2015\",\"2014\",\"2016\",\"\",\"\",\"\",\"\",\"\",\"\",\"\"],\"values\":[569.3799679261333,390.5956530284181,644.8183066758802,707.4028088888208,691.8654114838455,598.6205414959002,1059.0656015492618,421.1412447061912,528.7265413888829,1416.6666666666667,680.6087291389301,414.6760647760375,756.1923725098497,1267.7662026328828,496.5160141469498,509.0214800287398,586.2182148097696,503.8992613300536,824.6586936349588,910.1876901656898,996.3893635634032,491.45000385678617,503.13850456030497,466.6478402167172,598.704795328917,1045.2015459222662,821.3009904764873,707.6516094320913,549.4179312485746,493.814917282618,426.6085920717133,512.8402484358224,603.4509968798565,0.0,1465.9685863874345,1037.0997886617895,388.6443367815386,524.6293121403909,524.7935090952678,483.4057725178001,465.8021216317738,653.3116166908643,708.1930316849231,996.9902204858652,903.0497705987848,569.1934475267735,302.1232528096913,445.1967876448792,1290.472106646641,558.2711194060469,2258.702831998355,742.9797231632552,631.1954258724091,4918.459391601205,3485.419981785148,4212.6254802667745,4266.6308373211195,7495.742578337309,5585.802274622298,7179.987024070051],\"type\":\"sunburst\"}],                        {\"template\":{\"data\":{\"bar\":[{\"error_x\":{\"color\":\"#2a3f5f\"},\"error_y\":{\"color\":\"#2a3f5f\"},\"marker\":{\"line\":{\"color\":\"#E5ECF6\",\"width\":0.5},\"pattern\":{\"fillmode\":\"overlay\",\"size\":10,\"solidity\":0.2}},\"type\":\"bar\"}],\"barpolar\":[{\"marker\":{\"line\":{\"color\":\"#E5ECF6\",\"width\":0.5},\"pattern\":{\"fillmode\":\"overlay\",\"size\":10,\"solidity\":0.2}},\"type\":\"barpolar\"}],\"carpet\":[{\"aaxis\":{\"endlinecolor\":\"#2a3f5f\",\"gridcolor\":\"white\",\"linecolor\":\"white\",\"minorgridcolor\":\"white\",\"startlinecolor\":\"#2a3f5f\"},\"baxis\":{\"endlinecolor\":\"#2a3f5f\",\"gridcolor\":\"white\",\"linecolor\":\"white\",\"minorgridcolor\":\"white\",\"startlinecolor\":\"#2a3f5f\"},\"type\":\"carpet\"}],\"choropleth\":[{\"colorbar\":{\"outlinewidth\":0,\"ticks\":\"\"},\"type\":\"choropleth\"}],\"contour\":[{\"colorbar\":{\"outlinewidth\":0,\"ticks\":\"\"},\"colorscale\":[[0.0,\"#0d0887\"],[0.1111111111111111,\"#46039f\"],[0.2222222222222222,\"#7201a8\"],[0.3333333333333333,\"#9c179e\"],[0.4444444444444444,\"#bd3786\"],[0.5555555555555556,\"#d8576b\"],[0.6666666666666666,\"#ed7953\"],[0.7777777777777778,\"#fb9f3a\"],[0.8888888888888888,\"#fdca26\"],[1.0,\"#f0f921\"]],\"type\":\"contour\"}],\"contourcarpet\":[{\"colorbar\":{\"outlinewidth\":0,\"ticks\":\"\"},\"type\":\"contourcarpet\"}],\"heatmap\":[{\"colorbar\":{\"outlinewidth\":0,\"ticks\":\"\"},\"colorscale\":[[0.0,\"#0d0887\"],[0.1111111111111111,\"#46039f\"],[0.2222222222222222,\"#7201a8\"],[0.3333333333333333,\"#9c179e\"],[0.4444444444444444,\"#bd3786\"],[0.5555555555555556,\"#d8576b\"],[0.6666666666666666,\"#ed7953\"],[0.7777777777777778,\"#fb9f3a\"],[0.8888888888888888,\"#fdca26\"],[1.0,\"#f0f921\"]],\"type\":\"heatmap\"}],\"heatmapgl\":[{\"colorbar\":{\"outlinewidth\":0,\"ticks\":\"\"},\"colorscale\":[[0.0,\"#0d0887\"],[0.1111111111111111,\"#46039f\"],[0.2222222222222222,\"#7201a8\"],[0.3333333333333333,\"#9c179e\"],[0.4444444444444444,\"#bd3786\"],[0.5555555555555556,\"#d8576b\"],[0.6666666666666666,\"#ed7953\"],[0.7777777777777778,\"#fb9f3a\"],[0.8888888888888888,\"#fdca26\"],[1.0,\"#f0f921\"]],\"type\":\"heatmapgl\"}],\"histogram\":[{\"marker\":{\"pattern\":{\"fillmode\":\"overlay\",\"size\":10,\"solidity\":0.2}},\"type\":\"histogram\"}],\"histogram2d\":[{\"colorbar\":{\"outlinewidth\":0,\"ticks\":\"\"},\"colorscale\":[[0.0,\"#0d0887\"],[0.1111111111111111,\"#46039f\"],[0.2222222222222222,\"#7201a8\"],[0.3333333333333333,\"#9c179e\"],[0.4444444444444444,\"#bd3786\"],[0.5555555555555556,\"#d8576b\"],[0.6666666666666666,\"#ed7953\"],[0.7777777777777778,\"#fb9f3a\"],[0.8888888888888888,\"#fdca26\"],[1.0,\"#f0f921\"]],\"type\":\"histogram2d\"}],\"histogram2dcontour\":[{\"colorbar\":{\"outlinewidth\":0,\"ticks\":\"\"},\"colorscale\":[[0.0,\"#0d0887\"],[0.1111111111111111,\"#46039f\"],[0.2222222222222222,\"#7201a8\"],[0.3333333333333333,\"#9c179e\"],[0.4444444444444444,\"#bd3786\"],[0.5555555555555556,\"#d8576b\"],[0.6666666666666666,\"#ed7953\"],[0.7777777777777778,\"#fb9f3a\"],[0.8888888888888888,\"#fdca26\"],[1.0,\"#f0f921\"]],\"type\":\"histogram2dcontour\"}],\"mesh3d\":[{\"colorbar\":{\"outlinewidth\":0,\"ticks\":\"\"},\"type\":\"mesh3d\"}],\"parcoords\":[{\"line\":{\"colorbar\":{\"outlinewidth\":0,\"ticks\":\"\"}},\"type\":\"parcoords\"}],\"pie\":[{\"automargin\":true,\"type\":\"pie\"}],\"scatter\":[{\"marker\":{\"colorbar\":{\"outlinewidth\":0,\"ticks\":\"\"}},\"type\":\"scatter\"}],\"scatter3d\":[{\"line\":{\"colorbar\":{\"outlinewidth\":0,\"ticks\":\"\"}},\"marker\":{\"colorbar\":{\"outlinewidth\":0,\"ticks\":\"\"}},\"type\":\"scatter3d\"}],\"scattercarpet\":[{\"marker\":{\"colorbar\":{\"outlinewidth\":0,\"ticks\":\"\"}},\"type\":\"scattercarpet\"}],\"scattergeo\":[{\"marker\":{\"colorbar\":{\"outlinewidth\":0,\"ticks\":\"\"}},\"type\":\"scattergeo\"}],\"scattergl\":[{\"marker\":{\"colorbar\":{\"outlinewidth\":0,\"ticks\":\"\"}},\"type\":\"scattergl\"}],\"scattermapbox\":[{\"marker\":{\"colorbar\":{\"outlinewidth\":0,\"ticks\":\"\"}},\"type\":\"scattermapbox\"}],\"scatterpolar\":[{\"marker\":{\"colorbar\":{\"outlinewidth\":0,\"ticks\":\"\"}},\"type\":\"scatterpolar\"}],\"scatterpolargl\":[{\"marker\":{\"colorbar\":{\"outlinewidth\":0,\"ticks\":\"\"}},\"type\":\"scatterpolargl\"}],\"scatterternary\":[{\"marker\":{\"colorbar\":{\"outlinewidth\":0,\"ticks\":\"\"}},\"type\":\"scatterternary\"}],\"surface\":[{\"colorbar\":{\"outlinewidth\":0,\"ticks\":\"\"},\"colorscale\":[[0.0,\"#0d0887\"],[0.1111111111111111,\"#46039f\"],[0.2222222222222222,\"#7201a8\"],[0.3333333333333333,\"#9c179e\"],[0.4444444444444444,\"#bd3786\"],[0.5555555555555556,\"#d8576b\"],[0.6666666666666666,\"#ed7953\"],[0.7777777777777778,\"#fb9f3a\"],[0.8888888888888888,\"#fdca26\"],[1.0,\"#f0f921\"]],\"type\":\"surface\"}],\"table\":[{\"cells\":{\"fill\":{\"color\":\"#EBF0F8\"},\"line\":{\"color\":\"white\"}},\"header\":{\"fill\":{\"color\":\"#C8D4E3\"},\"line\":{\"color\":\"white\"}},\"type\":\"table\"}]},\"layout\":{\"annotationdefaults\":{\"arrowcolor\":\"#2a3f5f\",\"arrowhead\":0,\"arrowwidth\":1},\"autotypenumbers\":\"strict\",\"coloraxis\":{\"colorbar\":{\"outlinewidth\":0,\"ticks\":\"\"}},\"colorscale\":{\"diverging\":[[0,\"#8e0152\"],[0.1,\"#c51b7d\"],[0.2,\"#de77ae\"],[0.3,\"#f1b6da\"],[0.4,\"#fde0ef\"],[0.5,\"#f7f7f7\"],[0.6,\"#e6f5d0\"],[0.7,\"#b8e186\"],[0.8,\"#7fbc41\"],[0.9,\"#4d9221\"],[1,\"#276419\"]],\"sequential\":[[0.0,\"#0d0887\"],[0.1111111111111111,\"#46039f\"],[0.2222222222222222,\"#7201a8\"],[0.3333333333333333,\"#9c179e\"],[0.4444444444444444,\"#bd3786\"],[0.5555555555555556,\"#d8576b\"],[0.6666666666666666,\"#ed7953\"],[0.7777777777777778,\"#fb9f3a\"],[0.8888888888888888,\"#fdca26\"],[1.0,\"#f0f921\"]],\"sequentialminus\":[[0.0,\"#0d0887\"],[0.1111111111111111,\"#46039f\"],[0.2222222222222222,\"#7201a8\"],[0.3333333333333333,\"#9c179e\"],[0.4444444444444444,\"#bd3786\"],[0.5555555555555556,\"#d8576b\"],[0.6666666666666666,\"#ed7953\"],[0.7777777777777778,\"#fb9f3a\"],[0.8888888888888888,\"#fdca26\"],[1.0,\"#f0f921\"]]},\"colorway\":[\"#636efa\",\"#EF553B\",\"#00cc96\",\"#ab63fa\",\"#FFA15A\",\"#19d3f3\",\"#FF6692\",\"#B6E880\",\"#FF97FF\",\"#FECB52\"],\"font\":{\"color\":\"#2a3f5f\"},\"geo\":{\"bgcolor\":\"white\",\"lakecolor\":\"white\",\"landcolor\":\"#E5ECF6\",\"showlakes\":true,\"showland\":true,\"subunitcolor\":\"white\"},\"hoverlabel\":{\"align\":\"left\"},\"hovermode\":\"closest\",\"mapbox\":{\"style\":\"light\"},\"paper_bgcolor\":\"white\",\"plot_bgcolor\":\"#E5ECF6\",\"polar\":{\"angularaxis\":{\"gridcolor\":\"white\",\"linecolor\":\"white\",\"ticks\":\"\"},\"bgcolor\":\"#E5ECF6\",\"radialaxis\":{\"gridcolor\":\"white\",\"linecolor\":\"white\",\"ticks\":\"\"}},\"scene\":{\"xaxis\":{\"backgroundcolor\":\"#E5ECF6\",\"gridcolor\":\"white\",\"gridwidth\":2,\"linecolor\":\"white\",\"showbackground\":true,\"ticks\":\"\",\"zerolinecolor\":\"white\"},\"yaxis\":{\"backgroundcolor\":\"#E5ECF6\",\"gridcolor\":\"white\",\"gridwidth\":2,\"linecolor\":\"white\",\"showbackground\":true,\"ticks\":\"\",\"zerolinecolor\":\"white\"},\"zaxis\":{\"backgroundcolor\":\"#E5ECF6\",\"gridcolor\":\"white\",\"gridwidth\":2,\"linecolor\":\"white\",\"showbackground\":true,\"ticks\":\"\",\"zerolinecolor\":\"white\"}},\"shapedefaults\":{\"line\":{\"color\":\"#2a3f5f\"}},\"ternary\":{\"aaxis\":{\"gridcolor\":\"white\",\"linecolor\":\"white\",\"ticks\":\"\"},\"baxis\":{\"gridcolor\":\"white\",\"linecolor\":\"white\",\"ticks\":\"\"},\"bgcolor\":\"#E5ECF6\",\"caxis\":{\"gridcolor\":\"white\",\"linecolor\":\"white\",\"ticks\":\"\"}},\"title\":{\"x\":0.05},\"xaxis\":{\"automargin\":true,\"gridcolor\":\"white\",\"linecolor\":\"white\",\"ticks\":\"\",\"title\":{\"standoff\":15},\"zerolinecolor\":\"white\",\"zerolinewidth\":2},\"yaxis\":{\"automargin\":true,\"gridcolor\":\"white\",\"linecolor\":\"white\",\"ticks\":\"\",\"title\":{\"standoff\":15},\"zerolinecolor\":\"white\",\"zerolinewidth\":2}}},\"coloraxis\":{\"colorbar\":{\"title\":{\"text\":\"gross_rent\"}},\"colorscale\":[[0.0,\"rgb(247,251,255)\"],[0.125,\"rgb(222,235,247)\"],[0.25,\"rgb(198,219,239)\"],[0.375,\"rgb(158,202,225)\"],[0.5,\"rgb(107,174,214)\"],[0.625,\"rgb(66,146,198)\"],[0.75,\"rgb(33,113,181)\"],[0.875,\"rgb(8,81,156)\"],[1.0,\"rgb(8,48,107)\"]]},\"legend\":{\"tracegroupgap\":0},\"title\":{\"text\":\"Cost Analysis of Most Expensive Neighborhoods in San Francisco per Year\"},\"height\":700},                        {\"responsive\": true}                    ).then(function(){\n",
       "                            \n",
       "var gd = document.getElementById('fa33b4d4-59da-47aa-93be-5ba26d054de9');\n",
       "var x = new MutationObserver(function (mutations, observer) {{\n",
       "        var display = window.getComputedStyle(gd).display;\n",
       "        if (!display || display === 'none') {{\n",
       "            console.log([gd, 'removed!']);\n",
       "            Plotly.purge(gd);\n",
       "            observer.disconnect();\n",
       "        }}\n",
       "}});\n",
       "\n",
       "// Listen for the removal of the full notebook cells\n",
       "var notebookContainer = gd.closest('#notebook-container');\n",
       "if (notebookContainer) {{\n",
       "    x.observe(notebookContainer, {childList: true});\n",
       "}}\n",
       "\n",
       "// Listen for the clearing of the current output cell\n",
       "var outputEl = gd.closest('.output');\n",
       "if (outputEl) {{\n",
       "    x.observe(outputEl, {childList: true});\n",
       "}}\n",
       "\n",
       "                        })                };                });            </script>        </div>"
      ]
     },
     "metadata": {},
     "output_type": "display_data"
    }
   ],
   "source": [
    "# Sunburst Plot\n",
    "px.sunburst(\n",
    "    df_expensive_neighborhoods_per_year,\n",
    "    path = [\"year\",\"neighborhood\"],\n",
    "    values = \"sale_price_sqr_foot\",\n",
    "    color=\"gross_rent\", \n",
    "    hover_data=[\"gross_rent\"],\n",
    "    color_continuous_scale=\"blues\",\n",
    "    height = 700,\n",
    "    title = \"Cost Analysis of Most Expensive Neighborhoods in San Francisco per Year\"\n",
    ")\n"
   ]
  },
  {
   "cell_type": "code",
   "execution_count": null,
   "id": "87467911",
   "metadata": {},
   "outputs": [],
   "source": []
  },
  {
   "cell_type": "code",
   "execution_count": null,
   "id": "356a35bb",
   "metadata": {},
   "outputs": [],
   "source": []
  },
  {
   "cell_type": "code",
   "execution_count": null,
   "id": "c4c491ef",
   "metadata": {},
   "outputs": [],
   "source": []
  }
 ],
 "metadata": {
  "kernelspec": {
   "display_name": "Python 3 (ipykernel)",
   "language": "python",
   "name": "python3"
  },
  "language_info": {
   "codemirror_mode": {
    "name": "ipython",
    "version": 3
   },
   "file_extension": ".py",
   "mimetype": "text/x-python",
   "name": "python",
   "nbconvert_exporter": "python",
   "pygments_lexer": "ipython3",
   "version": "3.9.7"
  }
 },
 "nbformat": 4,
 "nbformat_minor": 5
}
